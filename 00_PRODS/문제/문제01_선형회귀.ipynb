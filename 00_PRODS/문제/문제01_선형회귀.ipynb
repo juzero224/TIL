{
 "cells": [
  {
   "cell_type": "code",
   "execution_count": 1,
   "id": "70683259",
   "metadata": {},
   "outputs": [
    {
     "name": "stdout",
     "output_type": "stream",
     "text": [
      "<class 'pandas.core.frame.DataFrame'>\n",
      "RangeIndex: 4572 entries, 0 to 4571\n",
      "Data columns (total 5 columns):\n",
      " #   Column        Non-Null Count  Dtype  \n",
      "---  ------        --------------  -----  \n",
      " 0   TV            4562 non-null   float64\n",
      " 1   Radio         4568 non-null   float64\n",
      " 2   Social_Media  4566 non-null   float64\n",
      " 3   Influencer    4572 non-null   object \n",
      " 4   Sales         4566 non-null   float64\n",
      "dtypes: float64(4), object(1)\n",
      "memory usage: 178.7+ KB\n",
      "None\n",
      "\n",
      "Index(['TV', 'Radio', 'Social_Media', 'Influencer', 'Sales'], dtype='object')\n"
     ]
    }
   ],
   "source": [
    "# =============================================================================\n",
    "# =============================================================================\n",
    "# # 문제 01 유형(DataSet_01.csv 이용)\n",
    "#\n",
    "# 구분자 : comma(“,”), 4,572 Rows, 5 Columns, UTF-8 인코딩\n",
    "#\n",
    "# 글로벌 전자제품 제조회사에서 효과적인 마케팅 방법을 찾기\n",
    "# 위해서 채널별 마케팅 예산과 매출금액과의 관계를 분석하고자\n",
    "# 한다.\n",
    "# 컬 럼 / 정 의  /   Type\n",
    "# TV   /     TV 마케팅 예산 (억원)  /   Double\n",
    "# Radio / 라디오 마케팅 예산 (억원)  /   Double\n",
    "# Social_Media / 소셜미디어 마케팅 예산 (억원)  / Double\n",
    "# Influencer / 인플루언서 마케팅\n",
    "# (인플루언서의 영향력 크기에 따라 Mega / Macro / Micro /\n",
    "# Nano) / String\n",
    "\n",
    "# SALES / 매출액 / Double\n",
    "# =============================================================================\n",
    "# =============================================================================\n",
    "\n",
    "import pandas as pd\n",
    "\n",
    "data1 = pd.read_csv('./Dataset/Dataset_01.csv')\n",
    "\n",
    "print(data1.info())\n",
    "print()\n",
    "print(data1.columns)"
   ]
  },
  {
   "cell_type": "code",
   "execution_count": 2,
   "id": "e034e2cc",
   "metadata": {},
   "outputs": [
    {
     "data": {
      "text/plain": [
       "26"
      ]
     },
     "execution_count": 2,
     "metadata": {},
     "output_type": "execute_result"
    }
   ],
   "source": [
    "# =============================================================================\n",
    "# 1. 데이터 세트 내에 총 결측값의 개수는 몇 개인가? (답안 예시) 23\n",
    "# =============================================================================\n",
    "\n",
    "data1.isna().sum().sum()\n",
    "\n",
    "# 답 : 26"
   ]
  },
  {
   "cell_type": "code",
   "execution_count": 3,
   "id": "6864da82",
   "metadata": {},
   "outputs": [
    {
     "data": {
      "text/plain": [
       "26"
      ]
     },
     "execution_count": 3,
     "metadata": {},
     "output_type": "execute_result"
    }
   ],
   "source": [
    "# [참고] : 결측치가 포함된 행의 수\n",
    "data1.isna().any(axis=1).sum()"
   ]
  },
  {
   "cell_type": "code",
   "execution_count": 4,
   "id": "860b05ba",
   "metadata": {},
   "outputs": [
    {
     "name": "stdout",
     "output_type": "stream",
     "text": [
      "0.9995\n"
     ]
    }
   ],
   "source": [
    "# ============================================================================\n",
    "# 2. TV, Radio, Social Media 등 세 가지 다른 마케팅 채널의 예산과 매출액과의 상관분석을\n",
    "# 통하여 각 채널이 매출에 어느 정도 연관이 있는지 알아보고자 한다.\n",
    "# - 매출액과 가장 강한 상관관계를 가지고 있는 채널의 상관계수를 소수점 5번째\n",
    "# 자리에서 반올림하여 소수점 넷째 자리까지 기술하시오. (답안 예시) 0.1234\n",
    "# =============================================================================\n",
    "\n",
    "var_list = ['TV','Radio','Social_Media','Sales']\n",
    "\n",
    "q1_2 = data1.corr().drop('Sales')['Sales'].abs()\n",
    "\n",
    "# 상관계수 소수점 5번째자리에서 반올림하여 소수점 넷째 자리까지 기술\n",
    "print(round(q1_2.max(), 4))\n",
    "\n",
    "#  답 : 0.9995"
   ]
  },
  {
   "cell_type": "code",
   "execution_count": 5,
   "id": "b073bc03",
   "metadata": {},
   "outputs": [
    {
     "name": "stdout",
     "output_type": "stream",
     "text": [
      "0.999497444941335\n",
      "TV\n",
      "0\n",
      "TV    0.999497\n",
      "Name: Sales, dtype: float64\n"
     ]
    }
   ],
   "source": [
    "print(q1_2.max()) # 최대값\n",
    "print(q1_2.idxmax())  # 인덱스명\n",
    "print(q1_2.argmax())  # 위치번호\n",
    "print(q1_2.nlargest(1))  # 결과 인덱스명"
   ]
  },
  {
   "cell_type": "code",
   "execution_count": 7,
   "id": "b7e43248",
   "metadata": {},
   "outputs": [
    {
     "name": "stdout",
     "output_type": "stream",
     "text": [
      "-0.1339630519422883\n",
      "\n",
      "[ 3.56256963 -0.00397039  0.00496402]\n"
     ]
    }
   ],
   "source": [
    "# =============================================================================\n",
    "# 3. 매출액을 종속변수, TV, Radio, Social Media의 예산을 독립변수로 하여 회귀분석을\n",
    "# 수행하였을 때, 세 개의 독립변수의 회귀계수를 큰 것에서부터 작은 것 순으로\n",
    "# 기술하시오.\n",
    "# - 분석 시 결측치가 포함된 행은 제거한 후 진행하며, 회귀계수는 소수점 넷째 자리\n",
    "# 이하는 버리고 소수점 셋째 자리까지 기술하시오. (답안 예시) 0.123\n",
    "# =============================================================================\n",
    "\n",
    "var_list = ['TV','Radio','Social_Media']\n",
    "\n",
    "# 결측치가 포함된 행 제거\n",
    "q1_3 = data1.dropna()\n",
    "\n",
    "# 회귀계수\n",
    "from sklearn.linear_model import LinearRegression\n",
    "from statsmodels.formula.api import ols\n",
    "from statsmodels.api import OLS, add_constant\n",
    "\n",
    "# LinearRegression\n",
    "lm = LinearRegression(fit_intercept=True)\n",
    "lm.fit(q1_3[var_list], q1_3['Sales'])\n",
    "\n",
    "#dir(lm)\n",
    "\n",
    "print(lm.intercept_)  # 상수항/절편, -0.1339630519422883\n",
    "print()\n",
    "print(lm.coef_)  # 회귀계수. [ 3.56256963 -0.00397039  0.00496402]\n",
    "\n",
    "# 답 : 3.562, 0.004, -0.003"
   ]
  },
  {
   "cell_type": "markdown",
   "id": "75397bc5",
   "metadata": {},
   "source": [
    "### scikit-learn 패키지 사용한 선형 회귀분석\n",
    "1. `LinearRegression` 클래스 객체 생성\n",
    "    ```\n",
    "    model = LinearRegression(fit_intercept=True)\n",
    "    ```\n",
    "    `fit_intercept` 인수는 모형에 상수항이 있는가 없는가를 결정하는 인수 (있으면 True)\n",
    "    \n",
    "2. `fit` 메서드로 모형 추정. 상수항 결합을 자동으로 해주므로 사용자가 직접 `add_constant` 등의\n",
    "    명령을 써서 상수항 결합을 할 필요는 없다.\n",
    "    ```\n",
    "    model = model.fit(X,y)\n",
    "    ```\n",
    "    회귀분석을 하고 나면 모형 객체는 다음과 같은 속성을 가지게 됨\n",
    "    - `coef_` : 추정된 가중치 벡터\n",
    "    - `intercept_` : 추정된 상수항\n",
    "    \n",
    "3. `predict` 메서드로 새로운 입력 데이터에 대한 출력 데이터 예측\n",
    "    ```\n",
    "    y_new = model.predict(x_new)\n",
    "    ```"
   ]
  },
  {
   "cell_type": "code",
   "execution_count": 8,
   "id": "02c722b3",
   "metadata": {},
   "outputs": [
    {
     "name": "stdout",
     "output_type": "stream",
     "text": [
      "Sales~TV+Radio+Social_Media\n"
     ]
    },
    {
     "data": {
      "text/html": [
       "<table class=\"simpletable\">\n",
       "<caption>OLS Regression Results</caption>\n",
       "<tr>\n",
       "  <th>Dep. Variable:</th>          <td>Sales</td>      <th>  R-squared:         </th> <td>   0.999</td> \n",
       "</tr>\n",
       "<tr>\n",
       "  <th>Model:</th>                   <td>OLS</td>       <th>  Adj. R-squared:    </th> <td>   0.999</td> \n",
       "</tr>\n",
       "<tr>\n",
       "  <th>Method:</th>             <td>Least Squares</td>  <th>  F-statistic:       </th> <td>1.505e+06</td>\n",
       "</tr>\n",
       "<tr>\n",
       "  <th>Date:</th>             <td>Thu, 27 Oct 2022</td> <th>  Prob (F-statistic):</th>  <td>  0.00</td>  \n",
       "</tr>\n",
       "<tr>\n",
       "  <th>Time:</th>                 <td>23:59:26</td>     <th>  Log-Likelihood:    </th> <td> -11366.</td> \n",
       "</tr>\n",
       "<tr>\n",
       "  <th>No. Observations:</th>      <td>  4546</td>      <th>  AIC:               </th> <td>2.274e+04</td>\n",
       "</tr>\n",
       "<tr>\n",
       "  <th>Df Residuals:</th>          <td>  4542</td>      <th>  BIC:               </th> <td>2.277e+04</td>\n",
       "</tr>\n",
       "<tr>\n",
       "  <th>Df Model:</th>              <td>     3</td>      <th>                     </th>     <td> </td>    \n",
       "</tr>\n",
       "<tr>\n",
       "  <th>Covariance Type:</th>      <td>nonrobust</td>    <th>                     </th>     <td> </td>    \n",
       "</tr>\n",
       "</table>\n",
       "<table class=\"simpletable\">\n",
       "<tr>\n",
       "        <td></td>          <th>coef</th>     <th>std err</th>      <th>t</th>      <th>P>|t|</th>  <th>[0.025</th>    <th>0.975]</th>  \n",
       "</tr>\n",
       "<tr>\n",
       "  <th>Intercept</th>    <td>   -0.1340</td> <td>    0.103</td> <td>   -1.303</td> <td> 0.193</td> <td>   -0.336</td> <td>    0.068</td>\n",
       "</tr>\n",
       "<tr>\n",
       "  <th>TV</th>           <td>    3.5626</td> <td>    0.003</td> <td> 1051.118</td> <td> 0.000</td> <td>    3.556</td> <td>    3.569</td>\n",
       "</tr>\n",
       "<tr>\n",
       "  <th>Radio</th>        <td>   -0.0040</td> <td>    0.010</td> <td>   -0.406</td> <td> 0.685</td> <td>   -0.023</td> <td>    0.015</td>\n",
       "</tr>\n",
       "<tr>\n",
       "  <th>Social_Media</th> <td>    0.0050</td> <td>    0.025</td> <td>    0.199</td> <td> 0.842</td> <td>   -0.044</td> <td>    0.054</td>\n",
       "</tr>\n",
       "</table>\n",
       "<table class=\"simpletable\">\n",
       "<tr>\n",
       "  <th>Omnibus:</th>       <td> 0.056</td> <th>  Durbin-Watson:     </th> <td>   1.998</td>\n",
       "</tr>\n",
       "<tr>\n",
       "  <th>Prob(Omnibus):</th> <td> 0.972</td> <th>  Jarque-Bera (JB):  </th> <td>   0.034</td>\n",
       "</tr>\n",
       "<tr>\n",
       "  <th>Skew:</th>          <td>-0.001</td> <th>  Prob(JB):          </th> <td>   0.983</td>\n",
       "</tr>\n",
       "<tr>\n",
       "  <th>Kurtosis:</th>      <td> 3.013</td> <th>  Cond. No.          </th> <td>    149.</td>\n",
       "</tr>\n",
       "</table><br/><br/>Notes:<br/>[1] Standard Errors assume that the covariance matrix of the errors is correctly specified."
      ],
      "text/plain": [
       "<class 'statsmodels.iolib.summary.Summary'>\n",
       "\"\"\"\n",
       "                            OLS Regression Results                            \n",
       "==============================================================================\n",
       "Dep. Variable:                  Sales   R-squared:                       0.999\n",
       "Model:                            OLS   Adj. R-squared:                  0.999\n",
       "Method:                 Least Squares   F-statistic:                 1.505e+06\n",
       "Date:                Thu, 27 Oct 2022   Prob (F-statistic):               0.00\n",
       "Time:                        23:59:26   Log-Likelihood:                -11366.\n",
       "No. Observations:                4546   AIC:                         2.274e+04\n",
       "Df Residuals:                    4542   BIC:                         2.277e+04\n",
       "Df Model:                           3                                         \n",
       "Covariance Type:            nonrobust                                         \n",
       "================================================================================\n",
       "                   coef    std err          t      P>|t|      [0.025      0.975]\n",
       "--------------------------------------------------------------------------------\n",
       "Intercept       -0.1340      0.103     -1.303      0.193      -0.336       0.068\n",
       "TV               3.5626      0.003   1051.118      0.000       3.556       3.569\n",
       "Radio           -0.0040      0.010     -0.406      0.685      -0.023       0.015\n",
       "Social_Media     0.0050      0.025      0.199      0.842      -0.044       0.054\n",
       "==============================================================================\n",
       "Omnibus:                        0.056   Durbin-Watson:                   1.998\n",
       "Prob(Omnibus):                  0.972   Jarque-Bera (JB):                0.034\n",
       "Skew:                          -0.001   Prob(JB):                        0.983\n",
       "Kurtosis:                       3.013   Cond. No.                         149.\n",
       "==============================================================================\n",
       "\n",
       "Notes:\n",
       "[1] Standard Errors assume that the covariance matrix of the errors is correctly specified.\n",
       "\"\"\""
      ]
     },
     "execution_count": 8,
     "metadata": {},
     "output_type": "execute_result"
    }
   ],
   "source": [
    "# 식 제작 : 'Sales~TV+Radio+Social_Media'\n",
    "form1 = 'Sales~' + '+'.join(var_list)\n",
    "print(form1)\n",
    "\n",
    "# ols\n",
    "q1_3_out = ols(form1, q1_3).fit()\n",
    "\n",
    "#print(dir(q1_3_out))\n",
    "\n",
    "q1_3_out.summary()"
   ]
  },
  {
   "cell_type": "code",
   "execution_count": 9,
   "id": "7034305f",
   "metadata": {},
   "outputs": [
    {
     "data": {
      "text/plain": [
       "array([ 3.56256963,  0.00496402, -0.00397039])"
      ]
     },
     "execution_count": 9,
     "metadata": {},
     "output_type": "execute_result"
    }
   ],
   "source": [
    "q1_3_out.params.drop('Intercept').sort_values(ascending=False).values\n",
    "\n",
    "# 답 : [ 3.56256963,  0.00496402, -0.00397039]"
   ]
  },
  {
   "cell_type": "code",
   "execution_count": 10,
   "id": "66240eed",
   "metadata": {},
   "outputs": [
    {
     "data": {
      "text/plain": [
       "Index(['TV'], dtype='object')"
      ]
     },
     "execution_count": 10,
     "metadata": {},
     "output_type": "execute_result"
    }
   ],
   "source": [
    "# [참고] 유의미한 변수 찾기\n",
    "q1_3_out.pvalues[q1_3_out.pvalues < 0.05].index\n",
    "\n",
    "# TV"
   ]
  },
  {
   "cell_type": "code",
   "execution_count": 11,
   "id": "8afb1df7",
   "metadata": {},
   "outputs": [
    {
     "data": {
      "text/html": [
       "<div>\n",
       "<style scoped>\n",
       "    .dataframe tbody tr th:only-of-type {\n",
       "        vertical-align: middle;\n",
       "    }\n",
       "\n",
       "    .dataframe tbody tr th {\n",
       "        vertical-align: top;\n",
       "    }\n",
       "\n",
       "    .dataframe thead th {\n",
       "        text-align: right;\n",
       "    }\n",
       "</style>\n",
       "<table border=\"1\" class=\"dataframe\">\n",
       "  <thead>\n",
       "    <tr style=\"text-align: right;\">\n",
       "      <th></th>\n",
       "      <th>TV</th>\n",
       "      <th>Radio</th>\n",
       "      <th>Social_Media</th>\n",
       "      <th>Influencer</th>\n",
       "      <th>Sales</th>\n",
       "    </tr>\n",
       "  </thead>\n",
       "  <tbody>\n",
       "  </tbody>\n",
       "</table>\n",
       "</div>"
      ],
      "text/plain": [
       "Empty DataFrame\n",
       "Columns: [TV, Radio, Social_Media, Influencer, Sales]\n",
       "Index: []"
      ]
     },
     "execution_count": 11,
     "metadata": {},
     "output_type": "execute_result"
    }
   ],
   "source": [
    "# 이상치 확인\n",
    "outlier_score=q1_3_out.outlier_test()\n",
    "q1_3[outlier_score['bonf(p)'] < 0.05]  # 이상치 제외 데이터 획득"
   ]
  },
  {
   "cell_type": "code",
   "execution_count": 12,
   "id": "9c4b6d4a",
   "metadata": {},
   "outputs": [
    {
     "data": {
      "text/html": [
       "<table class=\"simpletable\">\n",
       "<caption>OLS Regression Results</caption>\n",
       "<tr>\n",
       "  <th>Dep. Variable:</th>          <td>Sales</td>      <th>  R-squared:         </th> <td>   0.999</td> \n",
       "</tr>\n",
       "<tr>\n",
       "  <th>Model:</th>                   <td>OLS</td>       <th>  Adj. R-squared:    </th> <td>   0.999</td> \n",
       "</tr>\n",
       "<tr>\n",
       "  <th>Method:</th>             <td>Least Squares</td>  <th>  F-statistic:       </th> <td>1.505e+06</td>\n",
       "</tr>\n",
       "<tr>\n",
       "  <th>Date:</th>             <td>Thu, 27 Oct 2022</td> <th>  Prob (F-statistic):</th>  <td>  0.00</td>  \n",
       "</tr>\n",
       "<tr>\n",
       "  <th>Time:</th>                 <td>23:59:31</td>     <th>  Log-Likelihood:    </th> <td> -11366.</td> \n",
       "</tr>\n",
       "<tr>\n",
       "  <th>No. Observations:</th>      <td>  4546</td>      <th>  AIC:               </th> <td>2.274e+04</td>\n",
       "</tr>\n",
       "<tr>\n",
       "  <th>Df Residuals:</th>          <td>  4542</td>      <th>  BIC:               </th> <td>2.277e+04</td>\n",
       "</tr>\n",
       "<tr>\n",
       "  <th>Df Model:</th>              <td>     3</td>      <th>                     </th>     <td> </td>    \n",
       "</tr>\n",
       "<tr>\n",
       "  <th>Covariance Type:</th>      <td>nonrobust</td>    <th>                     </th>     <td> </td>    \n",
       "</tr>\n",
       "</table>\n",
       "<table class=\"simpletable\">\n",
       "<tr>\n",
       "        <td></td>          <th>coef</th>     <th>std err</th>      <th>t</th>      <th>P>|t|</th>  <th>[0.025</th>    <th>0.975]</th>  \n",
       "</tr>\n",
       "<tr>\n",
       "  <th>const</th>        <td>   -0.1340</td> <td>    0.103</td> <td>   -1.303</td> <td> 0.193</td> <td>   -0.336</td> <td>    0.068</td>\n",
       "</tr>\n",
       "<tr>\n",
       "  <th>TV</th>           <td>    3.5626</td> <td>    0.003</td> <td> 1051.118</td> <td> 0.000</td> <td>    3.556</td> <td>    3.569</td>\n",
       "</tr>\n",
       "<tr>\n",
       "  <th>Radio</th>        <td>   -0.0040</td> <td>    0.010</td> <td>   -0.406</td> <td> 0.685</td> <td>   -0.023</td> <td>    0.015</td>\n",
       "</tr>\n",
       "<tr>\n",
       "  <th>Social_Media</th> <td>    0.0050</td> <td>    0.025</td> <td>    0.199</td> <td> 0.842</td> <td>   -0.044</td> <td>    0.054</td>\n",
       "</tr>\n",
       "</table>\n",
       "<table class=\"simpletable\">\n",
       "<tr>\n",
       "  <th>Omnibus:</th>       <td> 0.056</td> <th>  Durbin-Watson:     </th> <td>   1.998</td>\n",
       "</tr>\n",
       "<tr>\n",
       "  <th>Prob(Omnibus):</th> <td> 0.972</td> <th>  Jarque-Bera (JB):  </th> <td>   0.034</td>\n",
       "</tr>\n",
       "<tr>\n",
       "  <th>Skew:</th>          <td>-0.001</td> <th>  Prob(JB):          </th> <td>   0.983</td>\n",
       "</tr>\n",
       "<tr>\n",
       "  <th>Kurtosis:</th>      <td> 3.013</td> <th>  Cond. No.          </th> <td>    149.</td>\n",
       "</tr>\n",
       "</table><br/><br/>Notes:<br/>[1] Standard Errors assume that the covariance matrix of the errors is correctly specified."
      ],
      "text/plain": [
       "<class 'statsmodels.iolib.summary.Summary'>\n",
       "\"\"\"\n",
       "                            OLS Regression Results                            \n",
       "==============================================================================\n",
       "Dep. Variable:                  Sales   R-squared:                       0.999\n",
       "Model:                            OLS   Adj. R-squared:                  0.999\n",
       "Method:                 Least Squares   F-statistic:                 1.505e+06\n",
       "Date:                Thu, 27 Oct 2022   Prob (F-statistic):               0.00\n",
       "Time:                        23:59:31   Log-Likelihood:                -11366.\n",
       "No. Observations:                4546   AIC:                         2.274e+04\n",
       "Df Residuals:                    4542   BIC:                         2.277e+04\n",
       "Df Model:                           3                                         \n",
       "Covariance Type:            nonrobust                                         \n",
       "================================================================================\n",
       "                   coef    std err          t      P>|t|      [0.025      0.975]\n",
       "--------------------------------------------------------------------------------\n",
       "const           -0.1340      0.103     -1.303      0.193      -0.336       0.068\n",
       "TV               3.5626      0.003   1051.118      0.000       3.556       3.569\n",
       "Radio           -0.0040      0.010     -0.406      0.685      -0.023       0.015\n",
       "Social_Media     0.0050      0.025      0.199      0.842      -0.044       0.054\n",
       "==============================================================================\n",
       "Omnibus:                        0.056   Durbin-Watson:                   1.998\n",
       "Prob(Omnibus):                  0.972   Jarque-Bera (JB):                0.034\n",
       "Skew:                          -0.001   Prob(JB):                        0.983\n",
       "Kurtosis:                       3.013   Cond. No.                         149.\n",
       "==============================================================================\n",
       "\n",
       "Notes:\n",
       "[1] Standard Errors assume that the covariance matrix of the errors is correctly specified.\n",
       "\"\"\""
      ]
     },
     "execution_count": 12,
     "metadata": {},
     "output_type": "execute_result"
    }
   ],
   "source": [
    "q1_3_out2=OLS(q1_3['Sales'], add_constant(q1_3[var_list])).fit()\n",
    "q1_3_out2.summary()"
   ]
  },
  {
   "cell_type": "markdown",
   "id": "07beab14",
   "metadata": {},
   "source": [
    "### statsmodels 패키지를 사용한 선형 회귀 분석\n",
    "\n",
    "1. 독립변수와 종속변수가 모두 포함된 데이터프레임 생성. 상수항 결함은 하지 않아도 됨\n",
    "\n",
    "2. OLS 클래스 객체 생성\n",
    "   ```\n",
    "   model = OLS.from_formul(formul,data=df)\n",
    "   ```\n",
    "   또는\n",
    "   독립변수만 있는 데이터프레임 dfs와 종속변수만 있는 데이터프레임 dfy를 인수로 넣어서 만듦\n",
    "   이 때는 독립변수만 있는 데이터프레임 dfx가 상수항을 가지고 있어야 함\n",
    "   ```\n",
    "   model = OLS(dfy, dfx)\n",
    "   ```\n",
    "3. `fit` 메서드로 모형 추정. scikit-learn 패키지와 달리 추정 결과는 \n",
    "    별도의 RegressionResults 클래스 객체로 출력\n",
    "    ```\n",
    "    result = model.fit()\n",
    "    변수 = ols(식, 데이터).fit()\n",
    "    ```\n",
    "    식 : 'y~x1+c(x2)+x3-1'\n",
    "    - -1의 의미 : 상수항 미포함\n",
    "    - C() : 범주형 선언 -> 더미변수로 자동 변환 생성\n",
    "    - 결측치는 자동 제외\n",
    "    - 범주형 변수는 자동으로 더미변수 생성\n",
    "    - 강제로 생성하고자 할 경우 변수 앞에 C() 사용\n",
    "    \n",
    "4. `RegressionResults` 클래스 객체는 결과 리포트용 `summary()`메서드와 예측을 위한 `prediction`메서드를 제공\n",
    "    ```\n",
    "    result.summary()\n",
    "    y_new = result.predict(x_new)\n",
    "    ```\n",
    "    이 때, 예측을 위한 데이터는 추정시와 동일하게 상수항 결합을 해 주어야 함"
   ]
  },
  {
   "cell_type": "code",
   "execution_count": 13,
   "id": "28c72212",
   "metadata": {},
   "outputs": [
    {
     "data": {
      "text/plain": [
       "0        56.896653\n",
       "1        46.196295\n",
       "2       145.924369\n",
       "3       295.514743\n",
       "4        53.251588\n",
       "           ...    \n",
       "4567     92.452216\n",
       "4568    252.713557\n",
       "4569    156.538029\n",
       "4570    252.778919\n",
       "4571    149.427658\n",
       "Length: 4546, dtype: float64"
      ]
     },
     "execution_count": 13,
     "metadata": {},
     "output_type": "execute_result"
    }
   ],
   "source": [
    "form2 = 'Sales~' + '+'.join(data1.columns.drop('Sales'))\n",
    "# form2\n",
    "# 'Sales~TV+Radio+Social_Media+Influencer'\n",
    "\n",
    "lm3 = ols(form2, q1_3).fit()\n",
    "\n",
    "lm3.summary()\n",
    "\n",
    "lm3.predict(q1_3.drop(columns=['Sales']))"
   ]
  },
  {
   "cell_type": "code",
   "execution_count": 14,
   "id": "7a981490",
   "metadata": {},
   "outputs": [
    {
     "data": {
      "text/html": [
       "<div>\n",
       "<style scoped>\n",
       "    .dataframe tbody tr th:only-of-type {\n",
       "        vertical-align: middle;\n",
       "    }\n",
       "\n",
       "    .dataframe tbody tr th {\n",
       "        vertical-align: top;\n",
       "    }\n",
       "\n",
       "    .dataframe thead th {\n",
       "        text-align: right;\n",
       "    }\n",
       "</style>\n",
       "<table border=\"1\" class=\"dataframe\">\n",
       "  <thead>\n",
       "    <tr style=\"text-align: right;\">\n",
       "      <th></th>\n",
       "      <th>df</th>\n",
       "      <th>sum_sq</th>\n",
       "      <th>mean_sq</th>\n",
       "      <th>F</th>\n",
       "      <th>PR(&gt;F)</th>\n",
       "    </tr>\n",
       "  </thead>\n",
       "  <tbody>\n",
       "    <tr>\n",
       "      <th>Influencer</th>\n",
       "      <td>3.0</td>\n",
       "      <td>2.081064e+04</td>\n",
       "      <td>6936.879515</td>\n",
       "      <td>0.801596</td>\n",
       "      <td>0.492813</td>\n",
       "    </tr>\n",
       "    <tr>\n",
       "      <th>Residual</th>\n",
       "      <td>4542.0</td>\n",
       "      <td>3.930570e+07</td>\n",
       "      <td>8653.830120</td>\n",
       "      <td>NaN</td>\n",
       "      <td>NaN</td>\n",
       "    </tr>\n",
       "  </tbody>\n",
       "</table>\n",
       "</div>"
      ],
      "text/plain": [
       "                df        sum_sq      mean_sq         F    PR(>F)\n",
       "Influencer     3.0  2.081064e+04  6936.879515  0.801596  0.492813\n",
       "Residual    4542.0  3.930570e+07  8653.830120       NaN       NaN"
      ]
     },
     "execution_count": 14,
     "metadata": {},
     "output_type": "execute_result"
    }
   ],
   "source": [
    "# anova\n",
    "anova1 = ols('Sales~Influencer', q1_3).fit()\n",
    "\n",
    "from statsmodels.stats.anova import anova_lm\n",
    "\n",
    "anova_lm(anova1)"
   ]
  },
  {
   "cell_type": "code",
   "execution_count": 15,
   "id": "6dcf5f45",
   "metadata": {},
   "outputs": [
    {
     "name": "stdout",
     "output_type": "stream",
     "text": [
      " Multiple Comparison of Means - Tukey HSD, FWER=0.05 \n",
      "=====================================================\n",
      "group1 group2 meandiff p-adj   lower    upper  reject\n",
      "-----------------------------------------------------\n",
      " Macro   Mega  -5.6532 0.4709 -15.7039  4.3974  False\n",
      " Macro  Micro  -4.4878 0.6606  -14.547  5.5715  False\n",
      " Macro   Nano  -4.3573 0.6835 -14.4471  5.7324  False\n",
      "  Mega  Micro   1.1655 0.9906  -8.8047 11.1356  False\n",
      "  Mega   Nano   1.2959 0.9873   -8.705 11.2968  False\n",
      " Micro   Nano   0.1305    1.0  -9.8791   10.14  False\n",
      "-----------------------------------------------------\n"
     ]
    }
   ],
   "source": [
    "# 다중비교, 사후분석\n",
    "from statsmodels.stats.multicomp import pairwise_tukeyhsd\n",
    "\n",
    "print(pairwise_tukeyhsd(q1_3['Sales'], q1_3['Influencer']))"
   ]
  },
  {
   "cell_type": "code",
   "execution_count": 16,
   "id": "d2c4ab48",
   "metadata": {},
   "outputs": [
    {
     "name": "stdout",
     "output_type": "stream",
     "text": [
      "<class 'numpy.ndarray'>\n",
      "2\n",
      "2\n",
      "1\n"
     ]
    }
   ],
   "source": [
    "# [참고]\n",
    "print(type(q1_3['TV'].values))\n",
    "print(q1_3['TV'].values.reshape(-1,1).ndim)\n",
    "print(q1_3[['TV']].ndim)\n",
    "print(q1_3['TV'].ndim)\n",
    "# nparray.ndim : 배열의 차원 수 or 배열의 축 수"
   ]
  },
  {
   "cell_type": "code",
   "execution_count": null,
   "id": "de7079e7",
   "metadata": {},
   "outputs": [],
   "source": []
  }
 ],
 "metadata": {
  "kernelspec": {
   "display_name": "Python 3 (ipykernel)",
   "language": "python",
   "name": "python3"
  },
  "language_info": {
   "codemirror_mode": {
    "name": "ipython",
    "version": 3
   },
   "file_extension": ".py",
   "mimetype": "text/x-python",
   "name": "python",
   "nbconvert_exporter": "python",
   "pygments_lexer": "ipython3",
   "version": "3.9.12"
  }
 },
 "nbformat": 4,
 "nbformat_minor": 5
}
