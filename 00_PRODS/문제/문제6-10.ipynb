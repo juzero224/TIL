{
 "cells": [
  {
   "cell_type": "markdown",
   "id": "243e738b",
   "metadata": {},
   "source": [
    "## 문제 06"
   ]
  },
  {
   "cell_type": "code",
   "execution_count": 1,
   "id": "c78a010c",
   "metadata": {},
   "outputs": [],
   "source": [
    "# =============================================================================\n",
    "# =============================================================================\n",
    "# # 문제 06 유형(DataSet_06.csv 이용)\n",
    "#\n",
    "# 구분자 : comma(“,”), 4,323 Rows, 19 Columns, UTF-8 인코딩\n",
    "\n",
    "# 주택 관련 정보를 바탕으로 주택 가격을 예측해 보고자 한다. \n",
    "# 다음은 확보한 주택 관련 데이터로 총 19개 컬럼으로 구성되어\n",
    "# 있다.\n",
    "\n",
    "# 컬 럼 / 정 의 / Type\n",
    "# id / 매물 번호 / Double\n",
    "# date / 날짜 / String\n",
    "# price / 거래 가격 / Double\n",
    "# bedrooms / 방 개수 / Double\n",
    "# bathrooms / 화장실 개수 (화장실은 있으나 샤워기 없는 경우 0.5로 처리) / Double\n",
    "# sqft_living / 건축물 면적 / Double\n",
    "# sqft_lot / 대지 면적 / Double\n",
    "# floors / 건축물의 층수 / Double\n",
    "# waterfront / 강변 조망 가능 여부 (0 / 1) / Double\n",
    "# view / 경관 (나쁨에서 좋음으로 0 ~ 4로 표시) / Double\n",
    "# condition / 관리 상태 (나쁨에서 좋음으로 1 ~ 5로 표시) / Double\n",
    "# grade / 등급 (낮음에서 높음으로 1 ~ 13으로 표시) / Double\n",
    "# sqft_above / 지상 면적 / Double\n",
    "# sqft_basement / 지하실 면적 / Double\n",
    "# yr_built / 건축 연도 / Double\n",
    "# yr_renovated / 개축 연도 / Double\n",
    "# zipcode / 우편번호 / Double\n",
    "# sqft_living15 / 15개의 인근 주택의 평균 건물 면적 / Double\n",
    "# sqft_lot15 / 15개의 인근 주택의 평균 대지 면적 / Double\n",
    "# =============================================================================\n",
    "# =============================================================================\n",
    "\n",
    "import pandas as pd\n",
    "\n",
    "data6 = pd.read_csv('./DataSet/DataSet_06.csv')"
   ]
  },
  {
   "cell_type": "code",
   "execution_count": 9,
   "id": "6f29cf83",
   "metadata": {},
   "outputs": [
    {
     "data": {
      "text/plain": [
       "1167272.748018648"
      ]
     },
     "execution_count": 9,
     "metadata": {},
     "output_type": "execute_result"
    }
   ],
   "source": [
    "# =============================================================================\n",
    "# 1.강변 조망이 가능한지 여부(waterfront)에 따라 평균 주택 가격을 계산하고 조망이\n",
    "# 가능한 경우와 그렇지 않은 경우의 평균 가격 차이의 절대값을 구하시오. 답은\n",
    "# 소수점 이하는 버리고 정수부만 기술하시오. (답안 예시) 1234567\n",
    "# =============================================================================\n",
    "\n",
    "# 1. 강변 조망이 가능한지 여부(waterfront)에 따라 평균 주택 가격을 계산\n",
    "q6_1 = data6.groupby('waterfront')['price'].mean()\n",
    "\n",
    "q6_1_out = abs(q6_1[0] - q6_1[1])\n",
    "q6_1_out\n",
    "\n",
    "# 답 : 1167272"
   ]
  },
  {
   "cell_type": "code",
   "execution_count": 11,
   "id": "cf38ab3c",
   "metadata": {},
   "outputs": [
    {
     "data": {
      "text/plain": [
       "1167272.748018648"
      ]
     },
     "execution_count": 11,
     "metadata": {},
     "output_type": "execute_result"
    }
   ],
   "source": [
    "# 정답\n",
    "q1_1=data6[data6.waterfront==1]['price'].mean()\n",
    "q1_0=data6[data6.waterfront==0]['price'].mean()\n",
    "\n",
    "q1_out=abs(q1_1 - q1_0)\n",
    "q1_out\n",
    "# 답: 1167272"
   ]
  },
  {
   "cell_type": "code",
   "execution_count": 19,
   "id": "b50d8956",
   "metadata": {},
   "outputs": [
    {
     "name": "stdout",
     "output_type": "stream",
     "text": [
      "최대값 : sqft_living\n",
      "최솟값 : yr_built\n"
     ]
    }
   ],
   "source": [
    "# =============================================================================\n",
    "# 2.price, bedrooms, bathrooms, sqft_living, sqft_lot, floors, yr_built 등 7개의 변수 간의\n",
    "# 상관분석을 수행하고 price와의 상관계수의 절대값이 가장 큰 변수와 가장 작은\n",
    "# 변수를 차례로 기술하시오. (답안 예시) view, zipcode\n",
    "# \n",
    "# =============================================================================\n",
    "\n",
    "var_list = ['price', 'bedrooms', 'bathrooms', 'sqft_living', 'sqft_lot', 'floors', 'yr_built']\n",
    "\n",
    "q6_2 = data6[var_list].corr().drop('price')['price'].abs()\n",
    "\n",
    "print(f'최대값 : {q6_2.idxmax()}') # sqft_living\n",
    "print(f'최솟값 : {q6_2.idxmin()}') # yr_built\n",
    "\n",
    "# 답 : sqft_living, yr_built"
   ]
  },
  {
   "cell_type": "code",
   "execution_count": 38,
   "id": "0ddb225e",
   "metadata": {},
   "outputs": [
    {
     "name": "stdout",
     "output_type": "stream",
     "text": [
      "개수:13\n",
      "음의 회귀계수 개수 : 2\n"
     ]
    }
   ],
   "source": [
    "# =============================================================================\n",
    "# 3. id, date, 그리고 zipcode를 제외한 모든 변수를 독립변수로, price를 종속변수로 하여\n",
    "# 회귀분석을 수행하시오. 통계적 유의성을 갖지 못하는 독립변수를 제거하면 회귀\n",
    "# 모형에 남는 변수는 모두\n",
    "# 몇 개인가? 이 때 음의 회귀계수를 가지는 변수는 몇 개인가? (답안 예시) 5, 3\n",
    "# =============================================================================\n",
    "# =============================================================================\n",
    "# (참고)\n",
    "# import pandas as pd\n",
    "# import numpy as np\n",
    "# from sklearn.linear_model import LinearRegression\n",
    "# from statsmodels.formula.api import ols\n",
    "# =============================================================================\n",
    "\n",
    "from sklearn.linear_model import LinearRegression\n",
    "from statsmodels.formula.api import ols\n",
    "\n",
    "# 1. 독립변수\n",
    "var_list2 = data6.columns.drop(['id','date','zipcode','price'])\n",
    "\n",
    "# 2. 회귀분석\n",
    "# ols(식, 데이터).fit()\n",
    "form1 = 'price~' + '+'.join(var_list2)\n",
    "\n",
    "lm = ols(form1, data6).fit()\n",
    "\n",
    "# 3. 통계적 유의성을 갖지 못하는 독립변수를 제거하면 회귀모형에 남는 변수는 모두 몇 개?\n",
    "lm.summary()\n",
    "q6_3_out = lm.pvalues.drop('Intercept')\n",
    "print(f'개수:{len(q6_3_out[q6_3_out < 0.05])}')  # 13\n",
    "\n",
    "# 4. 이 때 음의 회귀계수를 가지는 변수는?\n",
    "# - 유의성을 갖는 변수 목록\n",
    "result_var_list = q6_3_out[q6_3_out < 0.05].index\n",
    "\n",
    "# - 유의성을 갖는 변수 목록 중 회귀계수가 음수인 변수\n",
    "result_q6 = (lm.params[result_var_list] < 0).sum()\n",
    "print(f'음의 회귀계수 개수 : {result_q6}')\n",
    "\n",
    "# 답 : 13, 2"
   ]
  },
  {
   "cell_type": "markdown",
   "id": "eb8419f5",
   "metadata": {},
   "source": [
    "## 문제 07"
   ]
  },
  {
   "cell_type": "code",
   "execution_count": 40,
   "id": "5688720c",
   "metadata": {},
   "outputs": [],
   "source": [
    "# =============================================================================\n",
    "# =============================================================================\n",
    "# # 문제 07 유형(DataSet_07.csv 이용)\n",
    "#\n",
    "# 구분자 : comma(“,”), 400 Rows, 9 Columns, UTF-8 인코딩\n",
    "#\n",
    "# 대학원 진학을 위하여 어떤 항목이 중요하게 영향을 미치는지\n",
    "# 아래 데이터로 분석하고자 한다.\n",
    "\n",
    "# 컬 럼 / 정 의 / Type\n",
    "# Serial_No / 구분자 번호 / Double\n",
    "# GRE / GRE 시험 성적 / Double\n",
    "# TOEFL / TOEFL 시험 성적 / Double\n",
    "# University_Rating / 대학 평가 그룹 (1 ~ 5) / Double\n",
    "# SOP / 자기 소개서 점수 (1 ~ 5) / Double\n",
    "# LOR / 추천서 점수 (1 ~ 5) / Double\n",
    "# CGPA / 학부 평량 평점 (10점 만점 환산 점수) / Double\n",
    "# Research / 연구 참여 경험 여부 (0 / 1) / Double\n",
    "# Chance_of_Admit / 합격 가능성 / Double\n",
    "# =============================================================================\n",
    "# =============================================================================\n",
    "\n",
    "# =============================================================================\n",
    "# (참고)\n",
    "# #1\n",
    "# import pandas as pd\n",
    "# #2\n",
    "# import scipy.stats as stats\n",
    "# #3\n",
    "# from sklearn.linear_model import LogisticRegression\n",
    "# Solver = ‘liblinear’, random_state = 12\n",
    "# =============================================================================\n",
    "\n",
    "import pandas as pd\n",
    "\n",
    "data7 = pd.read_csv('./DataSet/DataSet_07.csv')"
   ]
  },
  {
   "cell_type": "code",
   "execution_count": 44,
   "id": "dd4e3b50",
   "metadata": {},
   "outputs": [
    {
     "name": "stdout",
     "output_type": "stream",
     "text": [
      "가장 큰 상관계수 : 0.8732890993553003\n"
     ]
    }
   ],
   "source": [
    "# =============================================================================\n",
    "# 1. 합격 가능성에 GRE, TOEFL, CGPA 점수 가운데 가장 영향이 큰 것이 어떤 점수인지\n",
    "# 알아 보기 위해서 상관 분석을 수행한다.\n",
    "# - 피어슨(Pearson) 상관계수 값을 구한다.\n",
    "# - Chance_of_Admit와의 가장 큰 상관계수 값을 가지는 항목의 상관계수를 소수점 넷째\n",
    "# 자리에서 반올림하여 셋째 자리까지 기술하시오. (답안 예시) 0.123\n",
    "# =============================================================================\n",
    "\n",
    "# 1.  Chance_of_Admit, GRE, TOEFL, CGPA \n",
    "var_list = ['Chance_of_Admit', 'GRE', 'TOEFL', 'CGPA']\n",
    "\n",
    "# 2. 피어슨 상관계수\n",
    "q7_1 = data7[var_list].corr().drop('Chance_of_Admit')['Chance_of_Admit']\n",
    "print(f'가장 큰 상관계수 : {abs(q7_1).max()}')\n",
    "\n",
    "# 답 : 0.873"
   ]
  },
  {
   "cell_type": "code",
   "execution_count": 52,
   "id": "bb34499e",
   "metadata": {},
   "outputs": [
    {
     "name": "stdout",
     "output_type": "stream",
     "text": [
      "검정통계량 추정치 : 19.443\n"
     ]
    }
   ],
   "source": [
    "# =============================================================================\n",
    "# 2.GRE 점수의 평균 이상을 받은 그룹과 평균 미만을 받은 그룹의 CGPA 평균은 차이가\n",
    "# 있는지\n",
    "# 검정을 하고자 한다.\n",
    "# - 적절한 검정 방법을 선택하고 양측 검정을 수행하시오 (등분산으로 가정)\n",
    "# - 검정 결과, 검정통계량의 추정치를 소수점 셋째 자리에서 반올림하여 소수점 두 자리까지\n",
    "# 기술하시오.\n",
    "# (답안 예시) 1.23\n",
    "# =============================================================================\n",
    "import numpy as np\n",
    "import scipy.stats as stats\n",
    "from scipy.stats import ttest_ind\n",
    "\n",
    "# 1. GRE 점수의 평균\n",
    "mu = data7['GRE'].mean()  # 316.8075\n",
    "\n",
    "# 2. GRE 점수의 평균 이상을 받은 그룹과 평균 미만을 받은 그룹\n",
    "q7_2 = data7.copy()\n",
    "q7_2['GRE_gr'] = np.where(q7_2['GRE'] < mu, 0, 1)\n",
    "\n",
    "# 3. CGPA 평균\n",
    "q7_2_0 = q7_2[q7_2['GRE_gr'] == 0]['CGPA']\n",
    "q7_2_1 = q7_2[q7_2['GRE_gr'] == 1]['CGPA']\n",
    "\n",
    "# 4. 양측 검정 ttest_ind\n",
    "q7_2_out = ttest_ind(q7_2_1, q7_2_0, equal_var=True)  # equal_var=True : 등분산\n",
    "\n",
    "# 5. 검정통계량 추정치\n",
    "print(f'검정통계량 추정치 : {round(q7_2_out.statistic,3)}')\n",
    "\n",
    "# 답 : 19.44"
   ]
  },
  {
   "cell_type": "code",
   "execution_count": 67,
   "id": "41ad2110",
   "metadata": {},
   "outputs": [
    {
     "name": "stdout",
     "output_type": "stream",
     "text": [
      "절대값이 가장 큰 값 : 1.9553524719423052\n"
     ]
    },
    {
     "data": {
      "text/plain": [
       "CGPA        1.955352\n",
       "LOR         1.007927\n",
       "Research    0.674606\n",
       "SOP         0.243510\n",
       "TOEFL       0.107847\n",
       "dtype: float64"
      ]
     },
     "execution_count": 67,
     "metadata": {},
     "output_type": "execute_result"
    }
   ],
   "source": [
    "# =============================================================================\n",
    "# 3.Chance_of_Admit 확률이 0.5를 초과하면 합격으로, 이하이면 불합격으로 구분하고\n",
    "# 로지스틱 회귀분석을 수행하시오.\n",
    "# - 원데이터만 사용하고, 원데이터 가운데 Serial_No와 Label은 모형에서 제외\n",
    "# - 각 설정값은 다음과 같이 지정하고, 언급되지 않은 사항은 기본 설정값을 사용하시오\n",
    "# Seed : 123\n",
    "# - 로지스틱 회귀분석 수행 결과에서 로지스틱 회귀계수의 절대값이 가장 큰 변수와 그 값을\n",
    "# 기술하시오. \n",
    "# (로지스틱 회귀계수는 반올림하여 소수점 둘째 자리까지 / Intercept는 제외)\n",
    "# (답안 예시) abc, 0.12\n",
    "# =============================================================================\n",
    "\n",
    "from sklearn.linear_model import LogisticRegression\n",
    "# Solver = ‘liblinear’, random_state = 12\n",
    "\n",
    "# 1. Chance_of_Admit 확률이 0.5를 초과하면 합격으로, 이하이면 불합격\n",
    "q7_3 = data7.copy()\n",
    "q7_3['Ch_cd'] = np.where(q7_3['Chance_of_Admit'] > 0.5, 1, 0)\n",
    "\n",
    "# 2. 로지스틱 회귀분석\n",
    "# 2-1. 원데이터만 사용하고, 원데이터 가운데 Serial_No와 Label은 모형에서 제외\n",
    "var_list = data7.columns.drop(['Serial_No','Chance_of_Admit'])\n",
    "\n",
    "# 2-2. 로지스틱 회귀분석\n",
    "logit = LogisticRegression(fit_intercept=False,\n",
    "                  random_state = 12, solver='liblinear')\n",
    "logit.fit(q7_3[var_list], q7_3['Ch_cd'])\n",
    "\n",
    "# 2-3. 로지스틱 회귀계수의 절대값이 가장 큰 변수와 그 값\n",
    "print(f'절대값이 가장 큰 값 : {abs(logit.coef_).max()}')\n",
    "\n",
    "logit.coef_.shape\n",
    "q7_3_out = pd.Series(logit.coef_.reshape(-1))\n",
    "q7_3_out.index = var_list\n",
    "q7_3_out.abs().nlargest()\n",
    "\n",
    "# CGPA        1.955352\n",
    "# 답 : CGPA, 1.96"
   ]
  },
  {
   "cell_type": "markdown",
   "id": "90381621",
   "metadata": {},
   "source": [
    "## 문제 08"
   ]
  },
  {
   "cell_type": "code",
   "execution_count": 70,
   "id": "f2498cb2",
   "metadata": {},
   "outputs": [],
   "source": [
    "# =============================================================================\n",
    "# =============================================================================\n",
    "# # 문제 08 유형(DataSet_08.csv 이용)\n",
    "#\n",
    "# 구분자 : comma(“,”), 50 Rows, 5 Columns, UTF-8 인코딩\n",
    "#\n",
    "# 스타트업 기업들의 수익성에 대한 분석을 하기 위하여\n",
    "# 아래와 같은 데이터를 입수하였다\n",
    "#\n",
    "# \n",
    "# 컬 럼 / 정 의 / Type\n",
    "# RandD_Spend / 연구개발비 지출 / Double\n",
    "# Administration / 운영관리비 지출 / Double\n",
    "# Marketing_Spend / 마케팅비 지출 / Double\n",
    "# State / 본사 위치 / String\n",
    "# Profit / 이익 / Double\n",
    "# =============================================================================\n",
    "# =============================================================================\n",
    "\n",
    "# =============================================================================\n",
    "# (참고)\n",
    "# #1\n",
    "# import pandas as pd\n",
    "# import numpy as np\n",
    "# #3\n",
    "# from sklearn.linear_model import LinearRegression\n",
    "# =============================================================================\n",
    "\n",
    "import pandas as pd\n",
    "import numpy as np\n",
    "\n",
    "data8 = pd.read_csv('./DataSet/DataSet_08.csv')"
   ]
  },
  {
   "cell_type": "code",
   "execution_count": 84,
   "id": "cc28ae06",
   "metadata": {},
   "outputs": [
    {
     "data": {
      "text/plain": [
       "array([0.34, 0.32, 0.34])"
      ]
     },
     "execution_count": 84,
     "metadata": {},
     "output_type": "execute_result"
    }
   ],
   "source": [
    "# =============================================================================\n",
    "# 1.각 주(State)별 데이터 구성비를 소수점 둘째 자리까지 구하고, 알파벳 순으로\n",
    "# 기술하시오(주 이름 기준).\n",
    "# (답안 예시) 0.12, 0.34, 0.54\n",
    "# =============================================================================\n",
    "\n",
    "data8[['State']].value_counts(normalize=True).sort_index().values\n",
    "\n",
    "# 답 : 0.34, 0.32, 0.34"
   ]
  },
  {
   "cell_type": "markdown",
   "id": "6401c439",
   "metadata": {},
   "source": [
    "- value_counts() : 개수 세기\n",
    "- value_counts(normalize=True) : 비율"
   ]
  },
  {
   "cell_type": "code",
   "execution_count": 87,
   "id": "477ad186",
   "metadata": {},
   "outputs": [
    {
     "data": {
      "text/plain": [
       "14868.849080882355"
      ]
     },
     "execution_count": 87,
     "metadata": {},
     "output_type": "execute_result"
    }
   ],
   "source": [
    "# =============================================================================\n",
    "# 2.주별 이익의 평균을 구하고, 평균 이익이 가장 큰 주와 작은 주의 차이를 구하시오. \n",
    "# 차이값은 소수점 이하는 버리고 정수부분만 기술하시오. (답안 예시) 1234\n",
    "# =============================================================================\n",
    "\n",
    "q8_2 = data8.groupby('State')['Profit'].mean()\n",
    "q8_2.max() - q8_2.min()  # 14868.849080882355\n",
    "\n",
    "# 답 : 14868"
   ]
  },
  {
   "cell_type": "code",
   "execution_count": 89,
   "id": "dfad73a8",
   "metadata": {},
   "outputs": [
    {
     "data": {
      "text/plain": [
       "Profit    14868.849081\n",
       "dtype: float64"
      ]
     },
     "execution_count": 89,
     "metadata": {},
     "output_type": "execute_result"
    }
   ],
   "source": [
    "# 정답 \n",
    "q8_2_2=data8.copy()\n",
    "\n",
    "q8_2_2_tab=pd.pivot_table(data=q8_2_2,\n",
    "               index='State',\n",
    "               values='Profit')\n",
    "\n",
    "q8_2_2_tab.max() - q8_2_2_tab.min()"
   ]
  },
  {
   "cell_type": "code",
   "execution_count": 99,
   "id": "6ce1dce2",
   "metadata": {},
   "outputs": [
    {
     "data": {
      "text/html": [
       "<div>\n",
       "<style scoped>\n",
       "    .dataframe tbody tr th:only-of-type {\n",
       "        vertical-align: middle;\n",
       "    }\n",
       "\n",
       "    .dataframe tbody tr th {\n",
       "        vertical-align: top;\n",
       "    }\n",
       "\n",
       "    .dataframe thead th {\n",
       "        text-align: right;\n",
       "    }\n",
       "</style>\n",
       "<table border=\"1\" class=\"dataframe\">\n",
       "  <thead>\n",
       "    <tr style=\"text-align: right;\">\n",
       "      <th></th>\n",
       "      <th>state</th>\n",
       "      <th>mape</th>\n",
       "    </tr>\n",
       "  </thead>\n",
       "  <tbody>\n",
       "    <tr>\n",
       "      <th>2</th>\n",
       "      <td>Florida</td>\n",
       "      <td>5.706713</td>\n",
       "    </tr>\n",
       "  </tbody>\n",
       "</table>\n",
       "</div>"
      ],
      "text/plain": [
       "     state      mape\n",
       "2  Florida  5.706713"
      ]
     },
     "execution_count": 99,
     "metadata": {},
     "output_type": "execute_result"
    }
   ],
   "source": [
    "### =============================================================================\n",
    "# 3.독립변수로 RandD_Spend, Administration, Marketing_Spend를 사용하여 Profit을 주별로\n",
    "# 예측하는 회귀 모형을 만들고, 이 회귀모형을 사용하여 학습오차를 산출하시오.\n",
    "# - 주별로 계산된 학습오차 중 MAPE 기준으로 가장 낮은 오차를 보이는 주는 어느\n",
    "# 주이고 그 값은 무엇인가? (반올림하여 소수점 둘째 자리까지 기술하시오)\n",
    "# - (MAPE = Σ ( | y - y ̂ | / y ) * 100/n )\n",
    "# (답안 예시) ABC, 1.56\n",
    "# =============================================================================\n",
    "\n",
    "from sklearn.linear_model import LinearRegression\n",
    "\n",
    "# 1. 독립변수로 RandD_Spend, Administration, Marketing_Spend를 사용\n",
    "var_list = ['RandD_Spend', 'Administration', 'Marketing_Spend']\n",
    "q8_3 = data8.copy()\n",
    "\n",
    "# 2. Profit을 주별로 예측하는 회귀 모형\n",
    "# - 주별\n",
    "state_list = q8_3.State.unique()\n",
    "\n",
    "# 주별로 회귀 모형\n",
    "q8_3_out = []\n",
    "for i in state_list:\n",
    "    # 주별로\n",
    "    temp = q8_3[q8_3['State']==i]\n",
    "    # 회귀분석 학습\n",
    "    lm = LinearRegression().fit(temp[var_list], temp['Profit'])\n",
    "    # 예측\n",
    "    pred = lm.predict(temp[var_list])\n",
    "    # MAPE\n",
    "    # (MAPE = Σ ( | y - y ̂ | / y ) * 100/n )\n",
    "    mape = (abs(temp['Profit'] - pred) / temp['Profit']).sum() * 100 / len(temp)\n",
    "    # 리스트 담기\n",
    "    q8_3_out.append([i, mape])\n",
    "    \n",
    "q8_3_df = pd.DataFrame(q8_3_out, columns=['state','mape'])\n",
    "\n",
    "# 가장 낮은 오차를 보이는 주\n",
    "q8_3_df.sort_values(by='mape', ascending=True).head(1)\n",
    "\n",
    "# 답 : Florida, 5.706713"
   ]
  },
  {
   "cell_type": "markdown",
   "id": "664a430e",
   "metadata": {},
   "source": [
    "## 문제 09"
   ]
  },
  {
   "cell_type": "code",
   "execution_count": 101,
   "id": "533656a3",
   "metadata": {},
   "outputs": [],
   "source": [
    "# =============================================================================\n",
    "# =============================================================================\n",
    "# # 문제 09 유형(DataSet_09.csv 이용)\n",
    "#\n",
    "# 구분자 : comma(“,”), 2000 Rows, 16 Columns, UTF-8 인코딩\n",
    "#\n",
    "# 항공사에서 고객만족도 조사를 하고 서비스 개선에 활용하고자\n",
    "# 아래와 같은 데이터를 준비하였다.\n",
    "#\n",
    "# 컬 럼 / 정 의 / Type\n",
    "# satisfaction / 서비스 만족 여부 / String\n",
    "# Gender / 성별 / String\n",
    "# Age / 나이 / Double\n",
    "# Customer_Type / 고객 타입 / String\n",
    "# Class / 탑승 좌석 등급 / String\n",
    "# Flight_Distance / 비행 거리 / Double\n",
    "# Seat_comfort / 좌석 안락도 점수 / Double\n",
    "# Food_and_Drink / 식사와 음료 점수 / Double\n",
    "# Inflight_wifi_service / 기내 와이파이 서비스 점수 / Double\n",
    "# Inflight_entertainment / 기내 엔터테인먼트 서비스 점수 / Double\n",
    "# Onboard_service / 탑승 서비스 점수 / Double\n",
    "# Leg_room_service / 다리 공간 점수 / Double\n",
    "# Baggage_handling / 수하물 취급 점수 / Double\n",
    "# Cleanliness / 청결도 점수 / Double\n",
    "# Departure_Daly_in_Minutes / 출발 지연 (분) / Double\n",
    "# Arrival_Delay_in_Minutes / 도착 지연 (분) / Double\n",
    "# =============================================================================\n",
    "# =============================================================================\n",
    "\n",
    "# =============================================================================\n",
    "# (참고)\n",
    "# #1\n",
    "# import pandas as pd\n",
    "# import numpy as np\n",
    "# #2\n",
    "# import scipy.stats as stats\n",
    "# #3\n",
    "# from sklearn.linear_model import LogisticRegression\n",
    "# from sklearn.model_selection import train_test_split\n",
    "# from sklearn import metrics\n",
    "# \n",
    "# =============================================================================\n",
    "\n",
    "import pandas as pd\n",
    "import numpy as np\n",
    "\n",
    "data9 = pd.read_csv('./DataSet/DataSet_09.csv')"
   ]
  },
  {
   "cell_type": "code",
   "execution_count": 105,
   "id": "cf4cf7d3",
   "metadata": {},
   "outputs": [
    {
     "name": "stdout",
     "output_type": "stream",
     "text": [
      "<class 'pandas.core.frame.DataFrame'>\n",
      "RangeIndex: 2000 entries, 0 to 1999\n",
      "Data columns (total 16 columns):\n",
      " #   Column                      Non-Null Count  Dtype  \n",
      "---  ------                      --------------  -----  \n",
      " 0   satisfaction                2000 non-null   object \n",
      " 1   Gender                      2000 non-null   object \n",
      " 2   Age                         2000 non-null   float64\n",
      " 3   Customer_Type               2000 non-null   object \n",
      " 4   Class                       2000 non-null   object \n",
      " 5   Flight_Distance             2000 non-null   float64\n",
      " 6   Seat_comfort                2000 non-null   float64\n",
      " 7   Food_and_drink              2000 non-null   float64\n",
      " 8   Inflight_wifi_service       2000 non-null   float64\n",
      " 9   Inflight_entertainment      2000 non-null   float64\n",
      " 10  Onboard_service             2000 non-null   float64\n",
      " 11  Leg_room_service            2000 non-null   float64\n",
      " 12  Baggage_handling            2000 non-null   float64\n",
      " 13  Cleanliness                 2000 non-null   float64\n",
      " 14  Departure_Delay_in_Minutes  2000 non-null   float64\n",
      " 15  Arrival_Delay_in_Minutes    1995 non-null   float64\n",
      "dtypes: float64(12), object(4)\n",
      "memory usage: 250.1+ KB\n"
     ]
    },
    {
     "data": {
      "text/plain": [
       "5"
      ]
     },
     "execution_count": 105,
     "metadata": {},
     "output_type": "execute_result"
    }
   ],
   "source": [
    "# =============================================================================\n",
    "# 1.데이터 타입을 위 표에 정의된 타입으로 전처리를 한 후, 데이터 파일 내에 결측값은\n",
    "# 총 몇 개인가? (답안 예시) 1\n",
    "# =============================================================================\n",
    "\n",
    "data9.info()\n",
    "\n",
    "data9.isnull().sum().sum()\n",
    "\n",
    "# 답 : 5"
   ]
  },
  {
   "cell_type": "code",
   "execution_count": 116,
   "id": "391cfb6a",
   "metadata": {},
   "outputs": [
    {
     "name": "stderr",
     "output_type": "stream",
     "text": [
      "C:\\Users\\yes47\\AppData\\Local\\Temp\\ipykernel_38792\\217511055.py:21: SettingWithCopyWarning: \n",
      "A value is trying to be set on a copy of a slice from a DataFrame.\n",
      "Try using .loc[row_indexer,col_indexer] = value instead\n",
      "\n",
      "See the caveats in the documentation: https://pandas.pydata.org/pandas-docs/stable/user_guide/indexing.html#returning-a-view-versus-a-copy\n",
      "  q9_2['Age_gr'] = np.where(q9_2['Age'] <= 20, 10,\n"
     ]
    },
    {
     "data": {
      "text/plain": [
       "1    1066.782426\n",
       "Name: chi, dtype: float64"
      ]
     },
     "execution_count": 116,
     "metadata": {},
     "output_type": "execute_result"
    }
   ],
   "source": [
    "# =============================================================================\n",
    "# 2.다음에 제시된 데이터 처리를 하고 카이제곱 독립성 검정을 수행하시오.\n",
    "# - 결측값이 있다면 해당 행을 제거하시오.\n",
    "# - 나이는 20 이하이면 10, 30 이하이면 20, 40 이하이면 30, 50 이하이면 40, 60 이하이면 50, \n",
    "# 60 초과는 60으로 변환하여 Age_gr으로 파생변수를 생성하시오.\n",
    "# - Age_gr, Gender, Customer_Type, Class 변수가 satisfaction에 영향이 있는지 카이제곱\n",
    "# 독립성 검정을 수행하시오. \n",
    "# - 연관성이 있는 것으로 파악된 변수의 검정통계량 추정치를 정수 부분만 기술하시오. \n",
    "# (답안 예시) 123\n",
    "# =============================================================================\n",
    "\n",
    "import scipy.stats as stats\n",
    "from scipy.stats import chi2_contingency\n",
    "\n",
    "# 1. 결측값이 있다면 해당 행을 제거\n",
    "q9_2 = data9.dropna()\n",
    "\n",
    "# 2. 나이는 20 이하이면 10, 30 이하이면 20, 40 이하이면 30, 50 이하이면 40, 60 이하이면 50, \n",
    "# 60 초과는 60으로 변환하여 Age_gr으로 파생변수를 생성\n",
    "\n",
    "q9_2['Age_gr'] = np.where(q9_2['Age'] <= 20, 10,\n",
    "                    np.where(q9_2['Age'] <= 30, 20,\n",
    "                        np.where(q9_2['Age'] <= 40, 30,\n",
    "                            np.where(q9_2['Age'] <= 50, 40,\n",
    "                                np.where(q9_2['Age'] <= 60, 50, 60)))))\n",
    "\n",
    "# 3. Age_gr, Gender, Customer_Type, Class 변수가 satisfaction에 영향이 있는지 카이제곱 독립성 검정\n",
    "\n",
    "var_list = ['Age_gr', 'Gender', 'Customer_Type', 'Class']\n",
    "\n",
    "q9_2_out = []\n",
    "for i in var_list:\n",
    "    q9_tab = pd.crosstab(index=q9_2[i], columns=q9_2['satisfaction'])\n",
    "    chi_test = chi2_contingency(q9_tab)\n",
    "    chi = chi_test[0]\n",
    "    pvalue = chi_test[1]\n",
    "    q9_2_out.append([i,chi,pvalue])\n",
    "    \n",
    "q9_2_df = pd.DataFrame(q9_2_out, columns=['sub','chi','pvalue'])\n",
    "\n",
    "# 연관성이 있는 것으로 파악된 변수의 검정통계량 추정치를 정수 부분만 기술\n",
    "q9_2_df[q9_2_df.pvalue < 0.05]['chi']\n",
    "\n",
    "# 답 : 1066\n",
    "# q9_2_df"
   ]
  },
  {
   "cell_type": "code",
   "execution_count": 136,
   "id": "585ec34f",
   "metadata": {},
   "outputs": [
    {
     "data": {
      "text/plain": [
       "0.7764350453172206"
      ]
     },
     "execution_count": 136,
     "metadata": {},
     "output_type": "execute_result"
    }
   ],
   "source": [
    "# =============================================================================\n",
    "# 3.고객 만족도를 라벨로 하여 다음과 같이 로지스틱 회귀분석을 수행하시오. \n",
    "# - 결측치가 포함된 행은 제거\n",
    "# - 데이터를 7대 3으로 분리 (Seed = 123)\n",
    "# - 아래의 11개 변수를 Feature로 사용\n",
    "# Flight_Distance, Seat_comfort, Food_and_drink, Inflight_wifi_service, \n",
    "# Inflight_entertainment,Onboard_service, Leg_room_service, Baggage_handling,\n",
    "# Cleanliness, Departure_Delay_in_Minutes, Arrival_Delay_in_Minutes\n",
    "# \n",
    "# - Seed = 123, 이외의 항목은 모두 Default 사용\n",
    "# - 예측 정확도를 측정하고 dissatisfied의 f1 score를 소수점 넷째 자리에서 반올림하여\n",
    "# 소수점 셋째 자리까지 기술하시오. (답안 예시) 0.123\n",
    "# =============================================================================\n",
    "\n",
    "from sklearn.linear_model import LogisticRegression\n",
    "from sklearn.model_selection import train_test_split\n",
    "from sklearn import metrics\n",
    "from sklearn.metrics import f1_score\n",
    "\n",
    "# 1. 결측치가 포함된 행은 제거\n",
    "q9_3 = data9.dropna()\n",
    "\n",
    "# 2. 데이터를 7대 3으로 분리 (Seed = 123)\n",
    "train, test = train_test_split(q9_3, test_size=0.3, random_state = 123)\n",
    "\n",
    "# 3. Feature\n",
    "var_list = ['Flight_Distance', 'Seat_comfort', 'Food_and_drink', 'Inflight_wifi_service', \n",
    "            'Inflight_entertainment','Onboard_service', 'Leg_room_service', 'Baggage_handling',\n",
    "            'Cleanliness', 'Departure_Delay_in_Minutes', 'Arrival_Delay_in_Minutes']\n",
    "\n",
    "# 3. 로지스틱 회귀분석\n",
    "# 클래스 정의\n",
    "lr = LogisticRegression(solver = 'liblinear', random_state=123)\n",
    "# 학습\n",
    "result = lr.fit(train[var_list], train['satisfaction'])\n",
    "# 예측\n",
    "pred = lr.predict(test[var_list])\n",
    "\n",
    "# 성능 평가\n",
    "f1_score(test['satisfaction'], pred, pos_label='dissatisfied')\n",
    "\n",
    "# 답 : 0.776"
   ]
  },
  {
   "cell_type": "code",
   "execution_count": 135,
   "id": "060d35f6",
   "metadata": {},
   "outputs": [
    {
     "name": "stdout",
     "output_type": "stream",
     "text": [
      "257 70 78 194\n"
     ]
    }
   ],
   "source": [
    "# acc = metrics.accuracy_score(test['satisfaction'], pred)\n",
    "# # pre = metrics.precision_score(test['satisfaction'], pred)\n",
    "# conf =  metrics.confusion_matrix(test['satisfaction'], pred)\n",
    "\n",
    "# FF, FM, MF, MM = metrics.confusion_matrix(test['satisfaction'], pred).ravel()\n",
    "\n",
    "# print(FF, FM, MF, MM)"
   ]
  },
  {
   "cell_type": "markdown",
   "id": "ae9f923e",
   "metadata": {},
   "source": [
    "## 문제 10"
   ]
  },
  {
   "cell_type": "code",
   "execution_count": 146,
   "id": "e01da2f0",
   "metadata": {},
   "outputs": [
    {
     "name": "stdout",
     "output_type": "stream",
     "text": [
      "<class 'pandas.core.frame.DataFrame'>\n",
      "RangeIndex: 1538 entries, 0 to 1537\n",
      "Data columns (total 6 columns):\n",
      " #   Column           Non-Null Count  Dtype \n",
      "---  ------           --------------  ----- \n",
      " 0   model            1538 non-null   object\n",
      " 1   engine_power     1538 non-null   int64 \n",
      " 2   age_in_days      1538 non-null   int64 \n",
      " 3   km               1538 non-null   int64 \n",
      " 4   previous_owners  1538 non-null   int64 \n",
      " 5   price            1538 non-null   int64 \n",
      "dtypes: int64(5), object(1)\n",
      "memory usage: 72.2+ KB\n"
     ]
    }
   ],
   "source": [
    "# =============================================================================\n",
    "# =============================================================================\n",
    "# # 문제 10 유형(DataSet_10.csv 이용)\n",
    "#\n",
    "# 구분자 : comma(“,”), 1538 Rows, 6 Columns, UTF-8 인코딩\n",
    "\n",
    "# 중고 자동차 가격에 대한 분석을 위하여 아래와 같은 데이터를\n",
    "# 확보하였다.\n",
    "\n",
    "# 컬 럼 / 정 의 / Type\n",
    "# model / 모델명 / String\n",
    "# engine_power / 엔진 파워 / Double\n",
    "# age_in_days / 운행 일수 / Double\n",
    "# km / 운행 거리 / Double\n",
    "# previous_owners / 이전 소유자 수 / Double\n",
    "# price / 중고차 가격 / Double\n",
    "# =============================================================================\n",
    "# =============================================================================\n",
    "\n",
    "# =============================================================================\n",
    "# (참고)\n",
    "# #1\n",
    "# import pandas as pd\n",
    "# import numpy as np\n",
    "# #2\n",
    "# import scipy.stats as ststs\n",
    "# #3\n",
    "# from sklearn.linear_model import LinearRegression\n",
    "# =============================================================================\n",
    "\n",
    "import pandas as pd\n",
    "import numpy as np\n",
    "\n",
    "data10 = pd.read_csv('./DataSet/DataSet_10.csv')\n",
    "\n",
    "data10 = data10.dropna(axis=1, how='all')\n",
    "\n",
    "data10.info()\n"
   ]
  },
  {
   "cell_type": "code",
   "execution_count": 153,
   "id": "ab84bcf8",
   "metadata": {},
   "outputs": [
    {
     "data": {
      "text/plain": [
       "0.9688580804724013"
      ]
     },
     "execution_count": 153,
     "metadata": {},
     "output_type": "execute_result"
    }
   ],
   "source": [
    "# =============================================================================\n",
    "# 1.이전 소유자 수가 한 명이고 엔진 파워가 51인 차에 대해 모델별 하루 평균 운행\n",
    "# 거리를 산출하였을 때 가장 낮은 값을 가진 모델이 가장 큰 값을 가진 모델에 대한\n",
    "# 비율은 얼마인가? 소수점 셋째 자리에서 반올림하여 소수점 둘째 자리까지\n",
    "# 기술하시오.\n",
    "# (모델별 평균 → 일평균 → 최대최소 비율 계산) (답안 예시) 0.12\n",
    "# =============================================================================\n",
    "\n",
    "data10.columns\n",
    "# ['model', 'engine_power', 'age_in_days', 'km', 'previous_owners','price']\n",
    "\n",
    "# 이전 소유자 수가 한 명이고 엔진 파워가 51인 차\n",
    "q10_1 = data10[(data10.previous_owners == 1) & (data10.engine_power == 51)]\n",
    "\n",
    "# 모델별 하루 평균 운행 거리를 산출\n",
    "# - 모델별 평균\n",
    "q10_1_out = q10_1.groupby('model')[['age_in_days','km']].mean()\n",
    "\n",
    "# - 일평균\n",
    "q10_1_out['day'] = q10_1_out['km'] / q10_1_out['age_in_days']\n",
    "\n",
    "# 가장 낮은 값을 가진 모델이 가장 큰 값을 가진 모델에 대한 비율\n",
    "q10_1_out.day.min() / q10_1_out.day.max()\n",
    "\n",
    "# 0.97"
   ]
  },
  {
   "cell_type": "code",
   "execution_count": 157,
   "id": "724f1afd",
   "metadata": {},
   "outputs": [
    {
     "name": "stdout",
     "output_type": "stream",
     "text": [
      "0.13\n",
      "기각 여부 : False\n"
     ]
    }
   ],
   "source": [
    "# =============================================================================\n",
    "# 2.운행 일수에 대한 운행 거리를 산출하고, 위 1번 문제에서 가장 큰 값을 가지고 있던\n",
    "# 모델과 가장 낮은 값을 가지고 있던 모델 간의 운행 일수 대비 운행거리 평균이 다른지\n",
    "# 적절한 통계 검정을 수행하고 p-value를 소수점 세자리 이하는 버리고 소수점\n",
    "# 두자리까지 기술하고 기각 여부를 Y / N로 답하시오. (등분산을 가정하고 equal_var = \n",
    "# True / var.equal = T로 분석을 실행하시오.)\n",
    "# (답안 예시) 0.23, Y\n",
    "# =============================================================================\n",
    "\n",
    "# 1. 운행 일수에 대한 운행 거리\n",
    "q10_2 = data10.copy()\n",
    "q10_2['day'] = q10_2['km'] / q10_2['age_in_days']\n",
    "\n",
    "# 2. 1번 문제에서 가장 큰 값을 가지고 있던\n",
    "# 모델과 가장 낮은 값을 가지고 있던 모델 간의 운행 일수 대비 운행거리 평균\n",
    "q10_max = q10_1_out.day.idxmax()\n",
    "q10_min = q10_1_out.day.idxmin()\n",
    "\n",
    "# 3. 그룹별 데이터\n",
    "max_data = q10_2[q10_2.model == q10_max]['day']\n",
    "min_data = q10_2[q10_2.model == q10_min]['day']\n",
    "\n",
    "# 4. 적절한 통계 검정을 수행 (ttest_ind 독립 2표본 t 검정)\n",
    "# 등분산을 가정하고 equal_var = True / var.equal = T\n",
    "from scipy.stats import ttest_ind\n",
    "q10_2_out = ttest_ind(max_data, min_data, equal_var = True)\n",
    "\n",
    "print(round(q10_2_out.pvalue, 2))\n",
    "print(f'기각 여부 : {q10_2_out.pvalue < 0.05}')\n",
    "\n",
    "# 답 : 0.13, N"
   ]
  },
  {
   "cell_type": "code",
   "execution_count": 158,
   "id": "99ae956e",
   "metadata": {},
   "outputs": [
    {
     "data": {
      "text/plain": [
       "BartlettResult(statistic=2.8320958263094305, pvalue=0.09239770665253491)"
      ]
     },
     "execution_count": 158,
     "metadata": {},
     "output_type": "execute_result"
    }
   ],
   "source": [
    "# [참고] 등분산 검정\n",
    "from scipy.stats import bartlett\n",
    "bartlett(max_data, min_data)\n",
    "# BartlettResult(statistic=2.8320958263094305, pvalue=0.09239770665253491)\n",
    "# H0 : 등분산이다\n",
    "# H1 : 등분산이 아니다 (이분산이다)\n"
   ]
  },
  {
   "cell_type": "code",
   "execution_count": 165,
   "id": "b02f05c0",
   "metadata": {},
   "outputs": [
    {
     "data": {
      "text/plain": [
       "array([10367.53433763])"
      ]
     },
     "execution_count": 165,
     "metadata": {},
     "output_type": "execute_result"
    }
   ],
   "source": [
    "# =============================================================================\n",
    "# 3.독립변수로 engine_power, age_in_days, km를 사용하고 종속변수로 price를 사용하여\n",
    "# 모델별 선형회귀분석을 수행하고, 산출된 모형을 사용하여 다음과 같은 조건의\n",
    "# 중고차에 대한 가격을 예측하고 예측된 가격을 정수부만 기술하시오.\n",
    "# - model : pop / engine_power : 51 / age_in_days : 400 / km : 9500 / \n",
    "#  previous_owners : 2\n",
    "\n",
    "# (답안 예시) 12345\n",
    "# =============================================================================\n",
    "# model = pop이고 이전 소유자수가 2명인 데이터만을 이용하여 회귀모델을 생성하시오.\n",
    "\n",
    "from sklearn.linear_model import LinearRegression\n",
    "\n",
    "# 1. model = pop이고 이전 소유자수가 2명인 데이터만을 이용하여 회귀모델을 생성하시오.\n",
    "q10_3 = data10[(data10.model=='pop') & (data10.previous_owners == 2)]\n",
    "\n",
    "# 2. 모델 리스트 추출\n",
    "model_list = q10_3.model.unique()\n",
    "\n",
    "# 3. 모델별 선형회귀분석\n",
    "# - 독립변수\n",
    "var_list = ['engine_power', 'age_in_days', 'km']\n",
    "\n",
    "for i in model_list:\n",
    "    temp = q10_3[q10_3.model == i]\n",
    "    lr = LinearRegression().fit(temp[var_list], temp['price'])\n",
    "    \n",
    "# engine_power : 51 / age_in_days : 400 / km : 9500 / \n",
    "lr.predict([[51,400,9500]])\n",
    "\n",
    "# 답 : 10367"
   ]
  },
  {
   "cell_type": "code",
   "execution_count": 167,
   "id": "659a9c86",
   "metadata": {},
   "outputs": [
    {
     "data": {
      "text/plain": [
       "array([10367.53433763])"
      ]
     },
     "execution_count": 167,
     "metadata": {},
     "output_type": "execute_result"
    }
   ],
   "source": [
    "lr.predict(pd.DataFrame(\n",
    "    {'engine_power' : [51],\n",
    "     'age_in_days' : [400],\n",
    "     'km' : [9500]}))\n",
    "\n",
    "# 10367"
   ]
  },
  {
   "cell_type": "code",
   "execution_count": null,
   "id": "c988d8d5",
   "metadata": {},
   "outputs": [],
   "source": []
  }
 ],
 "metadata": {
  "kernelspec": {
   "display_name": "Python 3 (ipykernel)",
   "language": "python",
   "name": "python3"
  },
  "language_info": {
   "codemirror_mode": {
    "name": "ipython",
    "version": 3
   },
   "file_extension": ".py",
   "mimetype": "text/x-python",
   "name": "python",
   "nbconvert_exporter": "python",
   "pygments_lexer": "ipython3",
   "version": "3.9.12"
  }
 },
 "nbformat": 4,
 "nbformat_minor": 5
}
