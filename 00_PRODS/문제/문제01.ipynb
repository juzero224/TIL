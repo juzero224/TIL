{
 "cells": [
  {
   "cell_type": "code",
   "execution_count": 5,
   "id": "5a836727",
   "metadata": {},
   "outputs": [
    {
     "data": {
      "text/plain": [
       "Index(['TV', 'Radio', 'Social_Media', 'Influencer', 'Sales'], dtype='object')"
      ]
     },
     "execution_count": 5,
     "metadata": {},
     "output_type": "execute_result"
    }
   ],
   "source": [
    "# =============================================================================\n",
    "# =============================================================================\n",
    "# # 문제 01 유형(DataSet_01.csv 이용)\n",
    "#\n",
    "# 구분자 : comma(“,”), 4,572 Rows, 5 Columns, UTF-8 인코딩\n",
    "# \n",
    "# 글로벌 전자제품 제조회사에서 효과적인 마케팅 방법을 찾기\n",
    "# 위해서 채널별 마케팅 예산과 매출금액과의 관계를 분석하고자\n",
    "# 한다.\n",
    "# 컬 럼 / 정 의  /   Type\n",
    "# TV   /     TV 마케팅 예산 (억원)  /   Double\n",
    "# Radio / 라디오 마케팅 예산 (억원)  /   Double\n",
    "# Social_Media / 소셜미디어 마케팅 예산 (억원)  / Double\n",
    "# Influencer / 인플루언서 마케팅\n",
    "# (인플루언서의 영향력 크기에 따라 Mega / Macro / Micro / \n",
    "# Nano) / String\n",
    "\n",
    "# SALES / 매출액 / Double\n",
    "# =============================================================================\n",
    "# =============================================================================\n",
    "\n",
    "import pandas as pd\n",
    "\n",
    "data1 = pd.read_csv('./DataSet/DataSet_01.csv')\n",
    "data1.columns\n",
    "# ['TV', 'Radio', 'Social_Media', 'Influencer', 'Sales']"
   ]
  },
  {
   "cell_type": "code",
   "execution_count": 3,
   "id": "145e943c",
   "metadata": {},
   "outputs": [
    {
     "name": "stdout",
     "output_type": "stream",
     "text": [
      "답 : 26\n"
     ]
    }
   ],
   "source": [
    "# =============================================================================\n",
    "# 1. 데이터 세트 내에 총 결측값의 개수는 몇 개인가? (답안 예시) 23\n",
    "# =============================================================================\n",
    "result = data1.isnull().sum().sum()\n",
    "print(f'답 : {result}')\n",
    "\n",
    "# 답 : 26"
   ]
  },
  {
   "cell_type": "code",
   "execution_count": 9,
   "id": "243c9e4b",
   "metadata": {},
   "outputs": [
    {
     "name": "stdout",
     "output_type": "stream",
     "text": [
      "답 : 0.9995\n"
     ]
    }
   ],
   "source": [
    "# =============================================================================\n",
    "# 2. TV, Radio, Social Media 등 세 가지 다른 마케팅 채널의 예산과 매출액과의 상관분석을\n",
    "# 통하여 각 채널이 매출에 어느 정도 연관이 있는지 알아보고자 한다. \n",
    "# - 매출액과 가장 강한 상관관계를 가지고 있는 채널의 상관계수를 소수점 5번째\n",
    "# 자리에서 반올림하여 소수점 넷째 자리까지 기술하시오. (답안 예시) 0.1234\n",
    "# =============================================================================\n",
    "\n",
    "# 1. TV, Radio, Social Media 등 세 가지 다른 마케팅 채널의 예산과 매출액과의 상관분석\n",
    "q2 = data1[['TV', 'Radio', 'Social_Media','Sales']].corr().drop('Sales')['Sales']\n",
    "\n",
    "# 2. 매출액과 가장 강한 상관관계를 가지고 있는 채널의 상관계수\n",
    "q2_out = round(q2.max(), 4)\n",
    "\n",
    "print(f'답 : {q2_out}')\n",
    "\n",
    "# 답 : 0.9995"
   ]
  },
  {
   "cell_type": "code",
   "execution_count": 21,
   "id": "7e451c35",
   "metadata": {},
   "outputs": [
    {
     "data": {
      "text/plain": [
       "array([ 3.56256963, -0.00397039,  0.00496402])"
      ]
     },
     "execution_count": 21,
     "metadata": {},
     "output_type": "execute_result"
    }
   ],
   "source": [
    "# =============================================================================\n",
    "# 3. 매출액을 종속변수, TV, Radio, Social Media의 예산을 독립변수로 하여 회귀분석을\n",
    "# 수행하였을 때, 세 개의 독립변수의 회귀계수를 큰 것에서부터 작은 것 순으로\n",
    "# 기술하시오. \n",
    "# - 분석 시 결측치가 포함된 행은 제거한 후 진행하며, 회귀계수는 소수점 넷째 자리\n",
    "# 이하는 버리고 소수점 셋째 자리까지 기술하시오. (답안 예시) 0.123\n",
    "# =============================================================================\n",
    "\n",
    "from sklearn.linear_model import LinearRegression\n",
    "\n",
    "# 1. 결측치가 포함된 행은 제거\n",
    "q3 = data1.dropna()\n",
    "\n",
    "# 2. 매출액을 종속변수, TV, Radio, Social Media의 예산을 독립변수\n",
    "var_list = ['TV', 'Radio', 'Social_Media']\n",
    "\n",
    "# 3. 회귀분석\n",
    "lm = LinearRegression(fit_intercept=True)\n",
    "lm.fit(q3[var_list], q3['Sales'])\n",
    "\n",
    "# dir(lm)\n",
    "lm.coef_\n",
    "# [ 3.56256963, -0.00397039,  0.00496402]\n"
   ]
  },
  {
   "cell_type": "code",
   "execution_count": null,
   "id": "02053de3",
   "metadata": {},
   "outputs": [],
   "source": []
  }
 ],
 "metadata": {
  "kernelspec": {
   "display_name": "Python 3 (ipykernel)",
   "language": "python",
   "name": "python3"
  },
  "language_info": {
   "codemirror_mode": {
    "name": "ipython",
    "version": 3
   },
   "file_extension": ".py",
   "mimetype": "text/x-python",
   "name": "python",
   "nbconvert_exporter": "python",
   "pygments_lexer": "ipython3",
   "version": "3.9.12"
  }
 },
 "nbformat": 4,
 "nbformat_minor": 5
}
