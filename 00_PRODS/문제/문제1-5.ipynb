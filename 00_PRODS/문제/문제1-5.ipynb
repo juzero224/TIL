{
 "cells": [
  {
   "cell_type": "code",
   "execution_count": 3,
   "id": "c7e7645d",
   "metadata": {},
   "outputs": [
    {
     "name": "stdout",
     "output_type": "stream",
     "text": [
      "<class 'pandas.core.frame.DataFrame'>\n",
      "RangeIndex: 4572 entries, 0 to 4571\n",
      "Data columns (total 5 columns):\n",
      " #   Column        Non-Null Count  Dtype  \n",
      "---  ------        --------------  -----  \n",
      " 0   TV            4562 non-null   float64\n",
      " 1   Radio         4568 non-null   float64\n",
      " 2   Social_Media  4566 non-null   float64\n",
      " 3   Influencer    4572 non-null   object \n",
      " 4   Sales         4566 non-null   float64\n",
      "dtypes: float64(4), object(1)\n",
      "memory usage: 178.7+ KB\n",
      "None\n",
      "\n",
      "Index(['TV', 'Radio', 'Social_Media', 'Influencer', 'Sales'], dtype='object')\n"
     ]
    }
   ],
   "source": [
    "#-*- coding: utf-8 -*-\n",
    "\"\"\"\n",
    "Created on 2021\n",
    "\n",
    "@author: Administrator\n",
    "\"\"\"\n",
    "\n",
    "#%%\n",
    "\n",
    "# =============================================================================\n",
    "# =============================================================================\n",
    "# # 문제 01 유형(DataSet_01.csv 이용)\n",
    "#\n",
    "# 구분자 : comma(“,”), 4,572 Rows, 5 Columns, UTF-8 인코딩\n",
    "#\n",
    "# 글로벌 전자제품 제조회사에서 효과적인 마케팅 방법을 찾기\n",
    "# 위해서 채널별 마케팅 예산과 매출금액과의 관계를 분석하고자\n",
    "# 한다.\n",
    "# 컬 럼 / 정 의  /   Type\n",
    "# TV   /     TV 마케팅 예산 (억원)  /   Double\n",
    "# Radio / 라디오 마케팅 예산 (억원)  /   Double\n",
    "# Social_Media / 소셜미디어 마케팅 예산 (억원)  / Double\n",
    "# Influencer / 인플루언서 마케팅\n",
    "# (인플루언서의 영향력 크기에 따라 Mega / Macro / Micro /\n",
    "# Nano) / String\n",
    "\n",
    "# SALES / 매출액 / Double\n",
    "# =============================================================================\n",
    "# =============================================================================\n",
    "\n",
    "import pandas as pd\n",
    "\n",
    "data1 = pd.read_csv('./Dataset/Dataset_01.csv')\n",
    "\n",
    "print(data1.info())\n",
    "print()\n",
    "print(data1.columns)\n",
    "\n",
    "#%%"
   ]
  },
  {
   "cell_type": "code",
   "execution_count": 2,
   "id": "c1d27dac",
   "metadata": {},
   "outputs": [
    {
     "data": {
      "text/plain": [
       "26"
      ]
     },
     "execution_count": 2,
     "metadata": {},
     "output_type": "execute_result"
    }
   ],
   "source": [
    "# =============================================================================\n",
    "# 1. 데이터 세트 내에 총 결측값의 개수는 몇 개인가? (답안 예시) 23\n",
    "# =============================================================================\n",
    "\n",
    "data1.isna().sum().sum()\n",
    "\n",
    "# 답 : 26"
   ]
  },
  {
   "cell_type": "code",
   "execution_count": 6,
   "id": "a86faf8f",
   "metadata": {},
   "outputs": [
    {
     "data": {
      "text/plain": [
       "26"
      ]
     },
     "execution_count": 6,
     "metadata": {},
     "output_type": "execute_result"
    }
   ],
   "source": [
    "# [참고] : 결측치가 포함된 행의 수\n",
    "data1.isna().any(axis=1).sum()"
   ]
  },
  {
   "cell_type": "code",
   "execution_count": 15,
   "id": "2b0f4665",
   "metadata": {},
   "outputs": [
    {
     "name": "stdout",
     "output_type": "stream",
     "text": [
      "0.9995\n"
     ]
    }
   ],
   "source": [
    "# ============================================================================\n",
    "# 2. TV, Radio, Social Media 등 세 가지 다른 마케팅 채널의 예산과 매출액과의 상관분석을\n",
    "# 통하여 각 채널이 매출에 어느 정도 연관이 있는지 알아보고자 한다.\n",
    "# - 매출액과 가장 강한 상관관계를 가지고 있는 채널의 상관계수를 소수점 5번째\n",
    "# 자리에서 반올림하여 소수점 넷째 자리까지 기술하시오. (답안 예시) 0.1234\n",
    "# =============================================================================\n",
    "\n",
    "var_list = ['TV','Radio','Social_Media','Sales']\n",
    "\n",
    "q1_2 = data1.corr().drop('Sales')['Sales'].abs()\n",
    "\n",
    "# 상관계수 소수점 5번째자리에서 반올림하여 소수점 넷째 자리까지 기술\n",
    "print(round(q1_2.max(), 4))\n",
    "\n",
    "#  답 : 0.9995"
   ]
  },
  {
   "cell_type": "code",
   "execution_count": 17,
   "id": "cc067eed",
   "metadata": {},
   "outputs": [
    {
     "name": "stdout",
     "output_type": "stream",
     "text": [
      "0.999497444941335\n",
      "TV\n",
      "0\n",
      "TV    0.999497\n",
      "Name: Sales, dtype: float64\n"
     ]
    }
   ],
   "source": [
    "print(q1_2.max()) # 최대값\n",
    "print(q1_2.idxmax())  # 인덱스명\n",
    "print(q1_2.argmax())  # 위치번호\n",
    "print(q1_2.nlargest(1))  # 결과 인덱스명"
   ]
  },
  {
   "cell_type": "code",
   "execution_count": 21,
   "id": "5cc4f35f",
   "metadata": {},
   "outputs": [
    {
     "name": "stdout",
     "output_type": "stream",
     "text": [
      "-0.1339630519422883\n",
      "\n",
      "[ 3.56256963 -0.00397039  0.00496402]\n"
     ]
    }
   ],
   "source": [
    "# =============================================================================\n",
    "# 3. 매출액을 종속변수, TV, Radio, Social Media의 예산을 독립변수로 하여 회귀분석을\n",
    "# 수행하였을 때, 세 개의 독립변수의 회귀계수를 큰 것에서부터 작은 것 순으로\n",
    "# 기술하시오.\n",
    "# - 분석 시 결측치가 포함된 행은 제거한 후 진행하며, 회귀계수는 소수점 넷째 자리\n",
    "# 이하는 버리고 소수점 셋째 자리까지 기술하시오. (답안 예시) 0.123\n",
    "# =============================================================================\n",
    "\n",
    "var_list = ['TV','Radio','Social_Media']\n",
    "\n",
    "# 결측치가 포함된 행 제거\n",
    "q1_3 = data1.dropna()\n",
    "\n",
    "# 회귀계수\n",
    "from sklearn.linear_model import LinearRegression\n",
    "from statsmodels.formula.api import ols\n",
    "from statsmodels.api import OLS, add_constant\n",
    "\n",
    "# LinearRegression\n",
    "lm = LinearRegression(fit_intercept=True)\n",
    "lm.fit(q1_3[var_list], q1_3['Sales'])\n",
    "\n",
    "#dir(lm)\n",
    "\n",
    "print(lm.intercept_)  # 상수항/절편, -0.1339630519422883\n",
    "print()\n",
    "print(lm.coef_)  # 회귀계수. [ 3.56256963 -0.00397039  0.00496402]\n",
    "\n",
    "# 답 : 3.562, 0.004, -0.003"
   ]
  },
  {
   "cell_type": "markdown",
   "id": "390733bf",
   "metadata": {},
   "source": [
    "### scikit-learn 패키지 사용한 선형 회귀분석\n",
    "1. `LinearRegression` 클래스 객체 생성\n",
    "    ```\n",
    "    model = LinearRegression(fit_intercept=True)\n",
    "    ```\n",
    "    `fit_intercept` 인수는 모형에 상수항이 있는가 없는가를 결정하는 인수 (있으면 True)\n",
    "    \n",
    "2. `fit` 메서드로 모형 추정. 상수항 결합을 자동으로 해주므로 사용자가 직접 `add_constant` 등의\n",
    "    명령을 써서 상수항 결합을 할 필요는 없다.\n",
    "    ```\n",
    "    model = model.fit(X,y)\n",
    "    ```\n",
    "    회귀분석을 하고 나면 모형 객체는 다음과 같은 속성을 가지게 됨\n",
    "    - `coef_` : 추정된 가중치 벡터\n",
    "    - `intercept_` : 추정된 상수항\n",
    "    \n",
    "3. `predict` 메서드로 새로운 입력 데이터에 대한 출력 데이터 예측\n",
    "    ```\n",
    "    y_new = model.predict(x_new)\n",
    "    ```"
   ]
  },
  {
   "cell_type": "code",
   "execution_count": 25,
   "id": "9bc93060",
   "metadata": {},
   "outputs": [
    {
     "name": "stdout",
     "output_type": "stream",
     "text": [
      "Sales~TV+Radio+Social_Media\n"
     ]
    },
    {
     "data": {
      "text/html": [
       "<table class=\"simpletable\">\n",
       "<caption>OLS Regression Results</caption>\n",
       "<tr>\n",
       "  <th>Dep. Variable:</th>          <td>Sales</td>      <th>  R-squared:         </th> <td>   0.999</td> \n",
       "</tr>\n",
       "<tr>\n",
       "  <th>Model:</th>                   <td>OLS</td>       <th>  Adj. R-squared:    </th> <td>   0.999</td> \n",
       "</tr>\n",
       "<tr>\n",
       "  <th>Method:</th>             <td>Least Squares</td>  <th>  F-statistic:       </th> <td>1.505e+06</td>\n",
       "</tr>\n",
       "<tr>\n",
       "  <th>Date:</th>             <td>Tue, 25 Oct 2022</td> <th>  Prob (F-statistic):</th>  <td>  0.00</td>  \n",
       "</tr>\n",
       "<tr>\n",
       "  <th>Time:</th>                 <td>16:53:43</td>     <th>  Log-Likelihood:    </th> <td> -11366.</td> \n",
       "</tr>\n",
       "<tr>\n",
       "  <th>No. Observations:</th>      <td>  4546</td>      <th>  AIC:               </th> <td>2.274e+04</td>\n",
       "</tr>\n",
       "<tr>\n",
       "  <th>Df Residuals:</th>          <td>  4542</td>      <th>  BIC:               </th> <td>2.277e+04</td>\n",
       "</tr>\n",
       "<tr>\n",
       "  <th>Df Model:</th>              <td>     3</td>      <th>                     </th>     <td> </td>    \n",
       "</tr>\n",
       "<tr>\n",
       "  <th>Covariance Type:</th>      <td>nonrobust</td>    <th>                     </th>     <td> </td>    \n",
       "</tr>\n",
       "</table>\n",
       "<table class=\"simpletable\">\n",
       "<tr>\n",
       "        <td></td>          <th>coef</th>     <th>std err</th>      <th>t</th>      <th>P>|t|</th>  <th>[0.025</th>    <th>0.975]</th>  \n",
       "</tr>\n",
       "<tr>\n",
       "  <th>Intercept</th>    <td>   -0.1340</td> <td>    0.103</td> <td>   -1.303</td> <td> 0.193</td> <td>   -0.336</td> <td>    0.068</td>\n",
       "</tr>\n",
       "<tr>\n",
       "  <th>TV</th>           <td>    3.5626</td> <td>    0.003</td> <td> 1051.118</td> <td> 0.000</td> <td>    3.556</td> <td>    3.569</td>\n",
       "</tr>\n",
       "<tr>\n",
       "  <th>Radio</th>        <td>   -0.0040</td> <td>    0.010</td> <td>   -0.406</td> <td> 0.685</td> <td>   -0.023</td> <td>    0.015</td>\n",
       "</tr>\n",
       "<tr>\n",
       "  <th>Social_Media</th> <td>    0.0050</td> <td>    0.025</td> <td>    0.199</td> <td> 0.842</td> <td>   -0.044</td> <td>    0.054</td>\n",
       "</tr>\n",
       "</table>\n",
       "<table class=\"simpletable\">\n",
       "<tr>\n",
       "  <th>Omnibus:</th>       <td> 0.056</td> <th>  Durbin-Watson:     </th> <td>   1.998</td>\n",
       "</tr>\n",
       "<tr>\n",
       "  <th>Prob(Omnibus):</th> <td> 0.972</td> <th>  Jarque-Bera (JB):  </th> <td>   0.034</td>\n",
       "</tr>\n",
       "<tr>\n",
       "  <th>Skew:</th>          <td>-0.001</td> <th>  Prob(JB):          </th> <td>   0.983</td>\n",
       "</tr>\n",
       "<tr>\n",
       "  <th>Kurtosis:</th>      <td> 3.013</td> <th>  Cond. No.          </th> <td>    149.</td>\n",
       "</tr>\n",
       "</table><br/><br/>Notes:<br/>[1] Standard Errors assume that the covariance matrix of the errors is correctly specified."
      ],
      "text/plain": [
       "<class 'statsmodels.iolib.summary.Summary'>\n",
       "\"\"\"\n",
       "                            OLS Regression Results                            \n",
       "==============================================================================\n",
       "Dep. Variable:                  Sales   R-squared:                       0.999\n",
       "Model:                            OLS   Adj. R-squared:                  0.999\n",
       "Method:                 Least Squares   F-statistic:                 1.505e+06\n",
       "Date:                Tue, 25 Oct 2022   Prob (F-statistic):               0.00\n",
       "Time:                        16:53:43   Log-Likelihood:                -11366.\n",
       "No. Observations:                4546   AIC:                         2.274e+04\n",
       "Df Residuals:                    4542   BIC:                         2.277e+04\n",
       "Df Model:                           3                                         \n",
       "Covariance Type:            nonrobust                                         \n",
       "================================================================================\n",
       "                   coef    std err          t      P>|t|      [0.025      0.975]\n",
       "--------------------------------------------------------------------------------\n",
       "Intercept       -0.1340      0.103     -1.303      0.193      -0.336       0.068\n",
       "TV               3.5626      0.003   1051.118      0.000       3.556       3.569\n",
       "Radio           -0.0040      0.010     -0.406      0.685      -0.023       0.015\n",
       "Social_Media     0.0050      0.025      0.199      0.842      -0.044       0.054\n",
       "==============================================================================\n",
       "Omnibus:                        0.056   Durbin-Watson:                   1.998\n",
       "Prob(Omnibus):                  0.972   Jarque-Bera (JB):                0.034\n",
       "Skew:                          -0.001   Prob(JB):                        0.983\n",
       "Kurtosis:                       3.013   Cond. No.                         149.\n",
       "==============================================================================\n",
       "\n",
       "Notes:\n",
       "[1] Standard Errors assume that the covariance matrix of the errors is correctly specified.\n",
       "\"\"\""
      ]
     },
     "execution_count": 25,
     "metadata": {},
     "output_type": "execute_result"
    }
   ],
   "source": [
    "# 식 제작 : 'Sales~TV+Radio+Social_Media'\n",
    "form1 = 'Sales~' + '+'.join(var_list)\n",
    "print(form1)\n",
    "\n",
    "# ols\n",
    "q1_3_out = ols(form1, q1_3).fit()\n",
    "\n",
    "#print(dir(q1_3_out))\n",
    "\n",
    "q1_3_out.summary()"
   ]
  },
  {
   "cell_type": "code",
   "execution_count": 26,
   "id": "d2984ad9",
   "metadata": {},
   "outputs": [
    {
     "data": {
      "text/plain": [
       "array([ 3.56256963,  0.00496402, -0.00397039])"
      ]
     },
     "execution_count": 26,
     "metadata": {},
     "output_type": "execute_result"
    }
   ],
   "source": [
    "q1_3_out.params.drop('Intercept').sort_values(ascending=False).values\n",
    "\n",
    "# 답 : [ 3.56256963,  0.00496402, -0.00397039]"
   ]
  },
  {
   "cell_type": "code",
   "execution_count": 29,
   "id": "ce00e258",
   "metadata": {},
   "outputs": [
    {
     "data": {
      "text/plain": [
       "Index(['TV'], dtype='object')"
      ]
     },
     "execution_count": 29,
     "metadata": {},
     "output_type": "execute_result"
    }
   ],
   "source": [
    "# [참고] 유의미한 변수 찾기\n",
    "q1_3_out.pvalues[q1_3_out.pvalues < 0.05].index\n",
    "\n",
    "# TV"
   ]
  },
  {
   "cell_type": "code",
   "execution_count": 31,
   "id": "63b19d60",
   "metadata": {},
   "outputs": [
    {
     "data": {
      "text/html": [
       "<div>\n",
       "<style scoped>\n",
       "    .dataframe tbody tr th:only-of-type {\n",
       "        vertical-align: middle;\n",
       "    }\n",
       "\n",
       "    .dataframe tbody tr th {\n",
       "        vertical-align: top;\n",
       "    }\n",
       "\n",
       "    .dataframe thead th {\n",
       "        text-align: right;\n",
       "    }\n",
       "</style>\n",
       "<table border=\"1\" class=\"dataframe\">\n",
       "  <thead>\n",
       "    <tr style=\"text-align: right;\">\n",
       "      <th></th>\n",
       "      <th>TV</th>\n",
       "      <th>Radio</th>\n",
       "      <th>Social_Media</th>\n",
       "      <th>Influencer</th>\n",
       "      <th>Sales</th>\n",
       "    </tr>\n",
       "  </thead>\n",
       "  <tbody>\n",
       "  </tbody>\n",
       "</table>\n",
       "</div>"
      ],
      "text/plain": [
       "Empty DataFrame\n",
       "Columns: [TV, Radio, Social_Media, Influencer, Sales]\n",
       "Index: []"
      ]
     },
     "execution_count": 31,
     "metadata": {},
     "output_type": "execute_result"
    }
   ],
   "source": [
    "# 이상치 확인\n",
    "outlier_score=q1_3_out.outlier_test()\n",
    "q1_3[outlier_score['bonf(p)'] < 0.05]  # 이상치 제외 데이터 획득"
   ]
  },
  {
   "cell_type": "code",
   "execution_count": 33,
   "id": "fc866507",
   "metadata": {},
   "outputs": [
    {
     "data": {
      "text/html": [
       "<table class=\"simpletable\">\n",
       "<caption>OLS Regression Results</caption>\n",
       "<tr>\n",
       "  <th>Dep. Variable:</th>          <td>Sales</td>      <th>  R-squared:         </th> <td>   0.999</td> \n",
       "</tr>\n",
       "<tr>\n",
       "  <th>Model:</th>                   <td>OLS</td>       <th>  Adj. R-squared:    </th> <td>   0.999</td> \n",
       "</tr>\n",
       "<tr>\n",
       "  <th>Method:</th>             <td>Least Squares</td>  <th>  F-statistic:       </th> <td>1.505e+06</td>\n",
       "</tr>\n",
       "<tr>\n",
       "  <th>Date:</th>             <td>Tue, 25 Oct 2022</td> <th>  Prob (F-statistic):</th>  <td>  0.00</td>  \n",
       "</tr>\n",
       "<tr>\n",
       "  <th>Time:</th>                 <td>17:41:27</td>     <th>  Log-Likelihood:    </th> <td> -11366.</td> \n",
       "</tr>\n",
       "<tr>\n",
       "  <th>No. Observations:</th>      <td>  4546</td>      <th>  AIC:               </th> <td>2.274e+04</td>\n",
       "</tr>\n",
       "<tr>\n",
       "  <th>Df Residuals:</th>          <td>  4542</td>      <th>  BIC:               </th> <td>2.277e+04</td>\n",
       "</tr>\n",
       "<tr>\n",
       "  <th>Df Model:</th>              <td>     3</td>      <th>                     </th>     <td> </td>    \n",
       "</tr>\n",
       "<tr>\n",
       "  <th>Covariance Type:</th>      <td>nonrobust</td>    <th>                     </th>     <td> </td>    \n",
       "</tr>\n",
       "</table>\n",
       "<table class=\"simpletable\">\n",
       "<tr>\n",
       "        <td></td>          <th>coef</th>     <th>std err</th>      <th>t</th>      <th>P>|t|</th>  <th>[0.025</th>    <th>0.975]</th>  \n",
       "</tr>\n",
       "<tr>\n",
       "  <th>const</th>        <td>   -0.1340</td> <td>    0.103</td> <td>   -1.303</td> <td> 0.193</td> <td>   -0.336</td> <td>    0.068</td>\n",
       "</tr>\n",
       "<tr>\n",
       "  <th>TV</th>           <td>    3.5626</td> <td>    0.003</td> <td> 1051.118</td> <td> 0.000</td> <td>    3.556</td> <td>    3.569</td>\n",
       "</tr>\n",
       "<tr>\n",
       "  <th>Radio</th>        <td>   -0.0040</td> <td>    0.010</td> <td>   -0.406</td> <td> 0.685</td> <td>   -0.023</td> <td>    0.015</td>\n",
       "</tr>\n",
       "<tr>\n",
       "  <th>Social_Media</th> <td>    0.0050</td> <td>    0.025</td> <td>    0.199</td> <td> 0.842</td> <td>   -0.044</td> <td>    0.054</td>\n",
       "</tr>\n",
       "</table>\n",
       "<table class=\"simpletable\">\n",
       "<tr>\n",
       "  <th>Omnibus:</th>       <td> 0.056</td> <th>  Durbin-Watson:     </th> <td>   1.998</td>\n",
       "</tr>\n",
       "<tr>\n",
       "  <th>Prob(Omnibus):</th> <td> 0.972</td> <th>  Jarque-Bera (JB):  </th> <td>   0.034</td>\n",
       "</tr>\n",
       "<tr>\n",
       "  <th>Skew:</th>          <td>-0.001</td> <th>  Prob(JB):          </th> <td>   0.983</td>\n",
       "</tr>\n",
       "<tr>\n",
       "  <th>Kurtosis:</th>      <td> 3.013</td> <th>  Cond. No.          </th> <td>    149.</td>\n",
       "</tr>\n",
       "</table><br/><br/>Notes:<br/>[1] Standard Errors assume that the covariance matrix of the errors is correctly specified."
      ],
      "text/plain": [
       "<class 'statsmodels.iolib.summary.Summary'>\n",
       "\"\"\"\n",
       "                            OLS Regression Results                            \n",
       "==============================================================================\n",
       "Dep. Variable:                  Sales   R-squared:                       0.999\n",
       "Model:                            OLS   Adj. R-squared:                  0.999\n",
       "Method:                 Least Squares   F-statistic:                 1.505e+06\n",
       "Date:                Tue, 25 Oct 2022   Prob (F-statistic):               0.00\n",
       "Time:                        17:41:27   Log-Likelihood:                -11366.\n",
       "No. Observations:                4546   AIC:                         2.274e+04\n",
       "Df Residuals:                    4542   BIC:                         2.277e+04\n",
       "Df Model:                           3                                         \n",
       "Covariance Type:            nonrobust                                         \n",
       "================================================================================\n",
       "                   coef    std err          t      P>|t|      [0.025      0.975]\n",
       "--------------------------------------------------------------------------------\n",
       "const           -0.1340      0.103     -1.303      0.193      -0.336       0.068\n",
       "TV               3.5626      0.003   1051.118      0.000       3.556       3.569\n",
       "Radio           -0.0040      0.010     -0.406      0.685      -0.023       0.015\n",
       "Social_Media     0.0050      0.025      0.199      0.842      -0.044       0.054\n",
       "==============================================================================\n",
       "Omnibus:                        0.056   Durbin-Watson:                   1.998\n",
       "Prob(Omnibus):                  0.972   Jarque-Bera (JB):                0.034\n",
       "Skew:                          -0.001   Prob(JB):                        0.983\n",
       "Kurtosis:                       3.013   Cond. No.                         149.\n",
       "==============================================================================\n",
       "\n",
       "Notes:\n",
       "[1] Standard Errors assume that the covariance matrix of the errors is correctly specified.\n",
       "\"\"\""
      ]
     },
     "execution_count": 33,
     "metadata": {},
     "output_type": "execute_result"
    }
   ],
   "source": [
    "q1_3_out2=OLS(q1_3['Sales'], add_constant(q1_3[var_list])).fit()\n",
    "q1_3_out2.summary()"
   ]
  },
  {
   "cell_type": "markdown",
   "id": "e4a4efe0",
   "metadata": {},
   "source": [
    "### statsmodels 패키지를 사용한 선형 회귀 분석\n",
    "\n",
    "1. 독립변수와 종속변수가 모두 포함된 데이터프레임 생성. 상수항 결함은 하지 않아도 됨\n",
    "\n",
    "2. OLS 클래스 객체 생성\n",
    "   ```\n",
    "   model = OLS.from_formul(formul,data=df)\n",
    "   ```\n",
    "   또는\n",
    "   독립변수만 있는 데이터프레임 dfs와 종속변수만 있는 데이터프레임 dfy를 인수로 넣어서 만듦\n",
    "   이 때는 독립변수만 있는 데이터프레임 dfx가 상수항을 가지고 있어야 함\n",
    "   ```\n",
    "   model = OLS(dfy, dfx)\n",
    "   ```\n",
    "3. `fit` 메서드로 모형 추정. scikit-learn 패키지와 달리 추정 결과는 \n",
    "    별도의 RegressionResults 클래스 객체로 출력\n",
    "    ```\n",
    "    result = model.fit()\n",
    "    변수 = ols(식, 데이터).fit()\n",
    "    ```\n",
    "    식 : 'y~x1+c(x2)+x3-1'\n",
    "    - -1의 의미 : 상수항 미포함\n",
    "    - C() : 범주형 선언 -> 더미변수로 자동 변환 생성\n",
    "    - 결측치는 자동 제외\n",
    "    - 범주형 변수는 자동으로 더미변수 생성\n",
    "    - 강제로 생성하고자 할 경우 변수 앞에 C() 사용\n",
    "    \n",
    "4. `RegressionResults` 클래스 객체는 결과 리포트용 `summary()`메서드와 예측을 위한 `prediction`메서드를 제공\n",
    "    ```\n",
    "    result.summary()\n",
    "    y_new = result.predict(x_new)\n",
    "    ```\n",
    "    이 때, 예측을 위한 데이터는 추정시와 동일하게 상수항 결합을 해 주어야 함"
   ]
  },
  {
   "cell_type": "markdown",
   "id": "1ccea3fe",
   "metadata": {},
   "source": [
    "### 범주형 변수 삽입 시"
   ]
  },
  {
   "cell_type": "code",
   "execution_count": 55,
   "id": "1ac9bf11",
   "metadata": {},
   "outputs": [
    {
     "data": {
      "text/plain": [
       "0        56.896653\n",
       "1        46.196295\n",
       "2       145.924369\n",
       "3       295.514743\n",
       "4        53.251588\n",
       "           ...    \n",
       "4567     92.452216\n",
       "4568    252.713557\n",
       "4569    156.538029\n",
       "4570    252.778919\n",
       "4571    149.427658\n",
       "Length: 4546, dtype: float64"
      ]
     },
     "execution_count": 55,
     "metadata": {},
     "output_type": "execute_result"
    }
   ],
   "source": [
    "form2 = 'Sales~' + '+'.join(data1.columns.drop('Sales'))\n",
    "# form2\n",
    "# 'Sales~TV+Radio+Social_Media+Influencer'\n",
    "\n",
    "lm3 = ols(form2, q1_3).fit()\n",
    "\n",
    "lm3.summary()\n",
    "\n",
    "lm3.predict(q1_3.drop(columns=['Sales']))"
   ]
  },
  {
   "cell_type": "code",
   "execution_count": 59,
   "id": "7f8b62e9",
   "metadata": {},
   "outputs": [
    {
     "data": {
      "text/html": [
       "<div>\n",
       "<style scoped>\n",
       "    .dataframe tbody tr th:only-of-type {\n",
       "        vertical-align: middle;\n",
       "    }\n",
       "\n",
       "    .dataframe tbody tr th {\n",
       "        vertical-align: top;\n",
       "    }\n",
       "\n",
       "    .dataframe thead th {\n",
       "        text-align: right;\n",
       "    }\n",
       "</style>\n",
       "<table border=\"1\" class=\"dataframe\">\n",
       "  <thead>\n",
       "    <tr style=\"text-align: right;\">\n",
       "      <th></th>\n",
       "      <th>df</th>\n",
       "      <th>sum_sq</th>\n",
       "      <th>mean_sq</th>\n",
       "      <th>F</th>\n",
       "      <th>PR(&gt;F)</th>\n",
       "    </tr>\n",
       "  </thead>\n",
       "  <tbody>\n",
       "    <tr>\n",
       "      <th>Influencer</th>\n",
       "      <td>3.0</td>\n",
       "      <td>2.081064e+04</td>\n",
       "      <td>6936.879515</td>\n",
       "      <td>0.801596</td>\n",
       "      <td>0.492813</td>\n",
       "    </tr>\n",
       "    <tr>\n",
       "      <th>Residual</th>\n",
       "      <td>4542.0</td>\n",
       "      <td>3.930570e+07</td>\n",
       "      <td>8653.830120</td>\n",
       "      <td>NaN</td>\n",
       "      <td>NaN</td>\n",
       "    </tr>\n",
       "  </tbody>\n",
       "</table>\n",
       "</div>"
      ],
      "text/plain": [
       "                df        sum_sq      mean_sq         F    PR(>F)\n",
       "Influencer     3.0  2.081064e+04  6936.879515  0.801596  0.492813\n",
       "Residual    4542.0  3.930570e+07  8653.830120       NaN       NaN"
      ]
     },
     "execution_count": 59,
     "metadata": {},
     "output_type": "execute_result"
    }
   ],
   "source": [
    "anova1 = ols('Sales~Influencer', q1_3).fit()\n",
    "\n",
    "from statsmodels.stats.anova import anova_lm\n",
    "\n",
    "anova_lm(anova1)"
   ]
  },
  {
   "cell_type": "code",
   "execution_count": 60,
   "id": "699e3aed",
   "metadata": {},
   "outputs": [
    {
     "name": "stdout",
     "output_type": "stream",
     "text": [
      " Multiple Comparison of Means - Tukey HSD, FWER=0.05 \n",
      "=====================================================\n",
      "group1 group2 meandiff p-adj   lower    upper  reject\n",
      "-----------------------------------------------------\n",
      " Macro   Mega  -5.6532 0.4709 -15.7039  4.3974  False\n",
      " Macro  Micro  -4.4878 0.6606  -14.547  5.5715  False\n",
      " Macro   Nano  -4.3573 0.6835 -14.4471  5.7324  False\n",
      "  Mega  Micro   1.1655 0.9906  -8.8047 11.1356  False\n",
      "  Mega   Nano   1.2959 0.9873   -8.705 11.2968  False\n",
      " Micro   Nano   0.1305    1.0  -9.8791   10.14  False\n",
      "-----------------------------------------------------\n"
     ]
    }
   ],
   "source": [
    "# 다중비교, 사후분석\n",
    "from statsmodels.stats.multicomp import pairwise_tukeyhsd\n",
    "\n",
    "print(pairwise_tukeyhsd(q1_3['Sales'], q1_3['Influencer']))"
   ]
  },
  {
   "cell_type": "code",
   "execution_count": 63,
   "id": "bb8ca493",
   "metadata": {},
   "outputs": [
    {
     "name": "stdout",
     "output_type": "stream",
     "text": [
      "<class 'numpy.ndarray'>\n",
      "2\n",
      "2\n",
      "1\n"
     ]
    }
   ],
   "source": [
    "# [참고]\n",
    "print(type(q1_3['TV'].values))\n",
    "print(q1_3['TV'].values.reshape(-1,1).ndim)\n",
    "print(q1_3[['TV']].ndim)\n",
    "print(q1_3['TV'].ndim)\n",
    "# nparray.ndim : 배열의 차원 수 or 배열의 축 수"
   ]
  },
  {
   "cell_type": "markdown",
   "id": "99dd3d61",
   "metadata": {},
   "source": [
    "## 문제 02"
   ]
  },
  {
   "cell_type": "code",
   "execution_count": 36,
   "id": "085a2cea",
   "metadata": {},
   "outputs": [
    {
     "name": "stdout",
     "output_type": "stream",
     "text": [
      "     Age Sex      BP Cholesterol  Na_to_K   Drug\n",
      "0     23   F    HIGH        HIGH   25.355  DrugY\n",
      "1     47   M     LOW        HIGH   13.093  drugC\n",
      "2     47   M     LOW        HIGH   10.114  drugC\n",
      "3     28   F  NORMAL        HIGH    7.798  drugX\n",
      "4     61   F     LOW        HIGH   18.043  DrugY\n",
      "..   ...  ..     ...         ...      ...    ...\n",
      "195   56   F     LOW        HIGH   11.567  drugC\n",
      "196   16   M     LOW        HIGH   12.006  drugC\n",
      "197   52   M  NORMAL        HIGH    9.894  drugX\n",
      "198   23   M  NORMAL      NORMAL   14.020  drugX\n",
      "199   40   F     LOW      NORMAL   11.349  drugX\n",
      "\n",
      "[200 rows x 6 columns]\n",
      "\n",
      "<class 'pandas.core.frame.DataFrame'>\n",
      "RangeIndex: 200 entries, 0 to 199\n",
      "Data columns (total 6 columns):\n",
      " #   Column       Non-Null Count  Dtype  \n",
      "---  ------       --------------  -----  \n",
      " 0   Age          200 non-null    int64  \n",
      " 1   Sex          200 non-null    object \n",
      " 2   BP           200 non-null    object \n",
      " 3   Cholesterol  200 non-null    object \n",
      " 4   Na_to_K      200 non-null    float64\n",
      " 5   Drug         200 non-null    object \n",
      "dtypes: float64(1), int64(1), object(4)\n",
      "memory usage: 9.5+ KB\n",
      "None\n",
      "\n",
      "Index(['Age', 'Sex', 'BP', 'Cholesterol', 'Na_to_K', 'Drug'], dtype='object')\n"
     ]
    }
   ],
   "source": [
    "# =============================================================================\n",
    "# =============================================================================\n",
    "# # 문제 02 유형(DataSet_02.csv 이용)\n",
    "# 구분자 : comma(“,”), 200 Rows, 6 Columns, UTF-8 인코딩\n",
    "\n",
    "# 환자의 상태와 그에 따라 처방된 약에 대한 정보를 분석하고자한다\n",
    "#\n",
    "# 컬 럼 / 정 의  / Type\n",
    "# Age  / 연령 / Integer\n",
    "# Sex / 성별 / String\n",
    "# BP / 혈압 레벨 / String\n",
    "# Cholesterol / 콜레스테롤 레벨 /  String\n",
    "# Na_to_k / 혈액 내 칼륨에 대비한 나트륨 비율 / Double\n",
    "# Drug / Drug Type / String\n",
    "# =============================================================================\n",
    "# =============================================================================\n",
    "\n",
    "import pandas as pd\n",
    "\n",
    "data2 = pd.read_csv('./DataSet/DataSet_02.csv')\n",
    "print(data2)\n",
    "print()\n",
    "print(data2.info())\n",
    "print()\n",
    "print(data2.columns)"
   ]
  },
  {
   "cell_type": "code",
   "execution_count": 39,
   "id": "8c6ce2f3",
   "metadata": {},
   "outputs": [
    {
     "data": {
      "text/plain": [
       "0.105"
      ]
     },
     "execution_count": 39,
     "metadata": {},
     "output_type": "execute_result"
    }
   ],
   "source": [
    "# =============================================================================\n",
    "# 1.해당 데이터에 대한 EDA를 수행하고, 여성으로 혈압이 High, Cholesterol이 Normal인\n",
    "# 환자의 전체에 대비한 비율이 얼마인지 소수점 네 번째 자리에서 반올림하여 소수점 셋째\n",
    "# 자리까지 기술하시오. (답안 예시) 0.123\n",
    "# =============================================================================\n",
    "\n",
    "q2_1 = data2[['Sex','BP','Cholesterol']].value_counts(normalize=True)\n",
    "q2_1[('F','HIGH','NORMAL')]\n",
    "\n",
    "# 답 : 0.105"
   ]
  },
  {
   "cell_type": "code",
   "execution_count": 52,
   "id": "ac530548",
   "metadata": {},
   "outputs": [
    {
     "data": {
      "text/plain": [
       "0.0007010113024729462"
      ]
     },
     "execution_count": 52,
     "metadata": {},
     "output_type": "execute_result"
    }
   ],
   "source": [
    "# =============================================================================\n",
    "# 2. Age, Sex, BP, Cholesterol 및 Na_to_k 값이 Drug 타입에 영향을 미치는지 확인하기\n",
    "# 위하여 아래와 같이 데이터를 변환하고 분석을 수행하시오.\n",
    "# - Age_gr 컬럼을 만들고, Age가 20 미만은 ‘10’, 20부터 30 미만은 ‘20’, 30부터 40 미만은\n",
    "# ‘30’, 40부터 50 미만은 ‘40’, 50부터 60 미만은 ‘50’, 60이상은 ‘60’으로 변환하시오.\n",
    "# - Na_K_gr 컬럼을 만들고 Na_to_k 값이 10이하는 ‘Lv1’, 20이하는 ‘Lv2’, 30이하는 ‘Lv3’, 30\n",
    "# 초과는 ‘Lv4’로 변환하시오.\n",
    "# - Sex, BP, Cholesterol, Age_gr, Na_K_gr이 Drug 변수와 영향이 있는지 독립성 검정을\n",
    "# 수행하시오.\n",
    "# - 검정 수행 결과, Drug 타입과 연관성이 있는 변수는 몇 개인가? 연관성이 있는 변수\n",
    "# 가운데 가장 큰 p-value를 찾아 소수점 여섯 번째 자리 이하는 버리고 소수점 다섯\n",
    "# 번째 자리까지 기술하시오.\n",
    "# (답안 예시) 3, 1.23456\n",
    "# =============================================================================\n",
    "import numpy as np\n",
    "\n",
    "q2_2 = data2.copy()\n",
    "\n",
    "# 1. Age_gr 컬럼\n",
    "q2_2['Age_gr'] = np.where(q2_2['Age'] < 20, 10,\n",
    "                    np.where(q2_2['Age'] < 30, 20,\n",
    "                        np.where(q2_2['Age'] < 40, 30,\n",
    "                            np.where(q2_2['Age'] < 50, 40,\n",
    "                                np.where(q2_2['Age'] < 60, 50, 60)))))\n",
    "\n",
    "# 2. Na_K_gr 컬럼\n",
    "q2_2['Na_K_gr'] = np.where(q2_2['Na_to_K'] < 10, 'Lv1',\n",
    "                    np.where(q2_2['Na_to_K'] < 20, 'Lv2',\n",
    "                        np.where(q2_2['Na_to_K'] < 30, 'Lv3', 'Lv4')))\n",
    "\n",
    "# 3. Sex, BP, Cholesterol, Age_gr, Na_K_gr이 Drug 변수와 영향이 있는지 독립성 검정\n",
    "# (= 카이스퀘어 검정)\n",
    "from scipy.stats import chi2_contingency\n",
    "\n",
    "var_list = ['Sex', 'BP', 'Cholesterol', 'Age_gr', 'Na_K_gr']\n",
    "\n",
    "# 반복문으로 구성\n",
    "q2_2_out = []\n",
    "for i in var_list:\n",
    "    # 빈도 생성\n",
    "    tab = pd.crosstab(index=q2_2[i], columns=q2_2['Drug'])\n",
    "    # 카이스퀘어 검정\n",
    "    chi_test = chi2_contingency(tab)\n",
    "    # p-value만\n",
    "    pvalue = chi_test[1]\n",
    "    # 리스트 추가\n",
    "    q2_2_out.append([i, pvalue])\n",
    "\n",
    "# Drug 타입과 연관성이 있는 변수는 몇 개\n",
    "q2_2_out = pd.DataFrame(q2_2_out, columns=['var','pvalue'])\n",
    "q2_2_out2 = q2_2_out[q2_2_out.pvalue < 0.05]\n",
    "len(q2_2_out2)  # 4\n",
    "\n",
    "# 가운데 가장 큰 p-value\n",
    "q2_2_out2.pvalue.max()  # 0.0007010113024729462\n",
    "\n",
    "# 답 : 4, 0.00070"
   ]
  },
  {
   "cell_type": "markdown",
   "id": "8fbe4030",
   "metadata": {},
   "source": [
    "### 카이제곱 독립검정\n",
    "\n",
    "카이제곱검정 : 어떤 범주형 확률변수 X가 다른 범주형 확류변수 Y와 독립인지 상관관계를 가지는지 검정\n",
    "- 카이제곱검정을 독립을 확인하는 데 사용하면 카이제곱 독립검정\n",
    "\n",
    "- scipy의 `sci2_contingency()`\n",
    "- X의 값에 따른 각각의 Y분포가 2차원 표(contingency table)의 형태로 주어지고\n",
    "- 독립인 경우의 분포와 실제 y표본분포이 차이를 검정통계량으로 계산\n",
    "- 이 값이 충분히 크면 X와 Y느 상관관계가 있다.\n",
    "- 첫번째 값이 검정통계량, 두번째 값이 유의확률"
   ]
  },
  {
   "cell_type": "code",
   "execution_count": 66,
   "id": "2b92c85b",
   "metadata": {},
   "outputs": [
    {
     "name": "stdout",
     "output_type": "stream",
     "text": [
      "|--- Na_to_K <= 14.829\n",
      "|   |--- BP_cd <= 1.500\n",
      "|   |   |--- BP_cd <= 0.500\n",
      "|   |   |   |--- Ch_cd <= 0.500\n",
      "|   |   |   |   |--- class: drugX\n",
      "|   |   |   |--- Ch_cd >  0.500\n",
      "|   |   |   |   |--- class: drugC\n",
      "|   |   |--- BP_cd >  0.500\n",
      "|   |   |   |--- class: drugX\n",
      "|   |--- BP_cd >  1.500\n",
      "|   |   |--- Age <= 50.500\n",
      "|   |   |   |--- class: drugA\n",
      "|   |   |--- Age >  50.500\n",
      "|   |   |   |--- class: drugB\n",
      "|--- Na_to_K >  14.829\n",
      "|   |--- class: DrugY\n",
      "\n"
     ]
    },
    {
     "data": {
      "image/png": "[encoded data removed]",
      "text/plain": [
       "<Figure size 432x288 with 1 Axes>"
      ]
     },
     "metadata": {
      "needs_background": "light"
     },
     "output_type": "display_data"
    }
   ],
   "source": [
    "# =============================================================================\n",
    "# 3.Sex, BP, Cholesterol 등 세 개의 변수를 다음과 같이 변환하고 의사결정나무를 이용한\n",
    "# 분석을 수행하시오.\n",
    "# - Sex는 M을 0, F를 1로 변환하여 Sex_cd 변수 생성\n",
    "# - BP는 LOW는 0, NORMAL은 1 그리고 HIGH는 2로 변환하여 BP_cd 변수 생성\n",
    "# - Cholesterol은 NORMAL은 0, HIGH는 1로 변환하여 Ch_cd 생성\n",
    "# - Age, Na_to_k, Sex_cd, BP_cd, Ch_cd를 Feature로, Drug을 Label로 하여 의사결정나무를\n",
    "# 수행하고 Root Node의 split feature와 split value를 기술하시오.\n",
    "# 이 때 split value는 소수점 셋째 자리까지 반올림하여 기술하시오. (답안 예시) Age,\n",
    "# 12.345\n",
    "# =============================================================================\n",
    "\n",
    "q2_3 = data2.copy()\n",
    "\n",
    "# 변수 생성\n",
    "q2_3['Sex_cd'] = np.where(q2_3['Sex'] == 'M', 0, 1)\n",
    "q2_3['BP_cd'] = np.where(q2_3['BP'] == 'LOW', 0,\n",
    "                    np.where(q2_3['BP'] == 'NORMAL', 1, 2))\n",
    "q2_3['Ch_cd'] = np.where(q2_3['Cholesterol'] == 'NORMAL', 0, 1)\n",
    "\n",
    "# 의사결정나무\n",
    "\n",
    "from sklearn.tree import DecisionTreeClassifier, plot_tree, export_text\n",
    "\n",
    "var_list = ['Age','Na_to_K','Sex_cd','BP_cd','Ch_cd']\n",
    "\n",
    "dt = DecisionTreeClassifier().fit(q2_3[var_list], q2_3['Drug'])\n",
    "\n",
    "dt_plot = plot_tree(dt, feature_names=var_list,\n",
    "                    class_names = q2_3['Drug'].unique(),\n",
    "                    max_depth = 2,\n",
    "                    fontsize = 7)\n",
    "\n",
    "# dt_plot\n",
    "\n",
    "print(export_text(dt, feature_names=var_list, decimals=3))\n",
    "\n",
    "# Root Node의 split feature와 split value\n",
    "# 답 : Na_to_K, 14.829"
   ]
  },
  {
   "cell_type": "code",
   "execution_count": 67,
   "id": "16a0d99e",
   "metadata": {},
   "outputs": [
    {
     "data": {
      "text/plain": [
       "array([3, 1, 5, 2, 4])"
      ]
     },
     "execution_count": 67,
     "metadata": {},
     "output_type": "execute_result"
    }
   ],
   "source": [
    "# [참고]\n",
    "\n",
    "from sklearn.feature_selection import RFE\n",
    "\n",
    "rfe1 = RFE(DecisionTreeClassifier(), n_features_to_select=1).fit(q2_3[var_list], q2_3['Drug'])\n",
    "rfe1.ranking_\n",
    "\n",
    "# var_list = ['Age','Na_to_K','Sex_cd','BP_cd','Ch_cd']\n",
    "# [3, 1, 5, 2, 4]\n",
    "# >> 'Sex_cd', 'Age', 'Ch_cd', 'Na_to_K', 'BP_cd'"
   ]
  },
  {
   "cell_type": "markdown",
   "id": "7212ba58",
   "metadata": {},
   "source": [
    "Recursive feature elimination (rfe)\n",
    "- 전체 feature에 대해 훈련 후 중요하지 않은 feature 들을 제거하면서 원하는 개수의 feature 수만 남기도록 하는 방법\n",
    "\n",
    "1. 클래스 선언\n",
    "2. fit\n",
    "3. transform\n",
    "\n",
    "Parameter\n",
    "- estimator : feature importance가 계산 가능한 모델\n",
    "- n_features_to_select : 남겨질 중요한 feature의 수를 선언하며 지정되지 않을 경우 원래 feature의 절반이 선택\n",
    "- step : 매 스텝마다 제거될 feature 수 의미\n",
    "    \n",
    "Attributes\n",
    "- estimator_ : 선택된 feature들로만 훈련된 estimator\n",
    "- n_features_ : 선택된 feature의 개수\n",
    "- ranking_ : 각 feature의 순위이며 선택된 feature는 1이 됨\n",
    "- support_ : 선택된 feature를 가리키는 마스크를 리턴"
   ]
  },
  {
   "cell_type": "markdown",
   "id": "9f69064e",
   "metadata": {},
   "source": [
    "## 03"
   ]
  },
  {
   "cell_type": "code",
   "execution_count": 68,
   "id": "0d507030",
   "metadata": {},
   "outputs": [
    {
     "name": "stdout",
     "output_type": "stream",
     "text": [
      "<class 'pandas.core.frame.DataFrame'>\n",
      "RangeIndex: 5001 entries, 0 to 5000\n",
      "Data columns (total 8 columns):\n",
      " #   Column                     Non-Null Count  Dtype  \n",
      "---  ------                     --------------  -----  \n",
      " 0   long_hair                  5001 non-null   int64  \n",
      " 1   forehead_width_cm          5001 non-null   float64\n",
      " 2   forehead_height_cm         5001 non-null   float64\n",
      " 3   nose_wide                  5001 non-null   int64  \n",
      " 4   nose_long                  5001 non-null   int64  \n",
      " 5   lips_thin                  5001 non-null   int64  \n",
      " 6   distance_nose_to_lip_long  5001 non-null   int64  \n",
      " 7   gender                     5001 non-null   object \n",
      "dtypes: float64(2), int64(5), object(1)\n",
      "memory usage: 312.7+ KB\n",
      "None\n",
      "\n",
      "Index(['long_hair', 'forehead_width_cm', 'forehead_height_cm', 'nose_wide',\n",
      "       'nose_long', 'lips_thin', 'distance_nose_to_lip_long', 'gender'],\n",
      "      dtype='object')\n"
     ]
    }
   ],
   "source": [
    "# =============================================================================\n",
    "# =============================================================================\n",
    "# # 문제 03 유형(DataSet_03.csv 이용)\n",
    "#\n",
    "# 구분자 : comma(“,”), 5,001 Rows, 8 Columns, UTF-8 인코딩\n",
    "# 안경 체인을 운영하고 있는 한 회사에서 고객 사진을 바탕으로 안경의 사이즈를\n",
    "# 맞춤 제작하는 비즈니스를 기획하고 있다. 우선 데이터만으로 고객의 성별을\n",
    "# 파악하는 것이 가능할 지를 연구하고자 한다.\n",
    "#\n",
    "# 컬 럼 / 정 의 / Type\n",
    "# long_hair / 머리카락 길이 (0 – 길지 않은 경우 / 1 – 긴\n",
    "# 경우) / Integer\n",
    "# forehead_width_cm / 이마의 폭 (cm) / Double\n",
    "# forehead_height_cm / 이마의 높이 (cm) / Double\n",
    "# nose_wide / 코의 넓이 (0 – 넓지 않은 경우 / 1 – 넓은 경우) / Integer\n",
    "# nose_long / 코의 길이 (0 – 길지 않은 경우 / 1 – 긴 경우) / Integer\n",
    "# lips_thin / 입술이 얇은지 여부 0 – 얇지 않은 경우 / 1 –\n",
    "# 얇은 경우) / Integer\n",
    "# distance_nose_to_lip_long / 인중의 길이(0 – 인중이 짧은 경우 / 1 – 인중이\n",
    "# 긴 경우) / Integer\n",
    "# gender / 성별 (Female / Male) / String\n",
    "# =============================================================================\n",
    "# =============================================================================\n",
    "\n",
    "import pandas as pd\n",
    "\n",
    "data3 = pd.read_csv('./DataSet/DataSet_03.csv')\n",
    "\n",
    "print(data3.info())\n",
    "print()\n",
    "print(data3.columns)"
   ]
  },
  {
   "cell_type": "code",
   "execution_count": 69,
   "id": "626da0a3",
   "metadata": {},
   "outputs": [
    {
     "data": {
      "text/plain": [
       "3"
      ]
     },
     "execution_count": 69,
     "metadata": {},
     "output_type": "execute_result"
    }
   ],
   "source": [
    "# =============================================================================\n",
    "# 1.이마의 폭(forehead_width_cm)과 높이(forehead_height_cm) 사이의\n",
    "# 비율(forehead_ratio)에 대해서 평균으로부터 3 표준편차 밖의 경우를 이상치로\n",
    "# 정의할 때, 이상치에 해당하는 데이터는 몇 개인가? (답안 예시) 10\n",
    "# =============================================================================\n",
    "\n",
    "q3_1 = data3.copy()\n",
    "\n",
    "# 비율 변수 생성\n",
    "q3_1['forehead_ratio'] = q3_1['forehead_width_cm'] / q3_1['forehead_height_cm']\n",
    "\n",
    "# 비율 변수에 대한 평균, 표준편차\n",
    "xbar = q3_1['forehead_ratio'].mean()\n",
    "std = q3_1['forehead_ratio'].std()\n",
    "\n",
    "# 평균 대비 3 표준편차 범위 구하기\n",
    "UB = xbar + (std*3)\n",
    "DB = xbar - (std*3)\n",
    "\n",
    "# 이상치 정의\n",
    "((q3_1['forehead_ratio'] > UB ) | (q3_1['forehead_ratio'] < DB)).sum()\n",
    "\n",
    "# 답 : 3"
   ]
  },
  {
   "cell_type": "code",
   "execution_count": 73,
   "id": "58a51d03",
   "metadata": {},
   "outputs": [
    {
     "name": "stdout",
     "output_type": "stream",
     "text": [
      "2.999\n"
     ]
    },
    {
     "data": {
      "text/plain": [
       "True"
      ]
     },
     "execution_count": 73,
     "metadata": {},
     "output_type": "execute_result"
    }
   ],
   "source": [
    "# =============================================================================\n",
    "# 2.성별에 따라 forehead_ratio 평균에 차이가 있는지 적절한 통계 검정을 수행하시오.\n",
    "# - 검정은 이분산을 가정하고 수행한다.\n",
    "# - 검정통계량의 추정치는 절대값을 취한 후 소수점 셋째 자리까지 반올림하여\n",
    "# 기술하시오.\n",
    "# - 신뢰수준 99%에서 양측 검정을 수행하고 결과는 귀무가설 기각의 경우 Y로, 그렇지\n",
    "# 않을 경우 N으로 답하시오. (답안 예시) 1.234, Y\n",
    "# =============================================================================\n",
    "\n",
    "# 1. 성별에 따른 forehead_ratio 평균\n",
    "q3_2m = q3_1[q3_1['gender'] == 'Male']['forehead_ratio']\n",
    "q3_2f = q3_1[q3_1['gender'] == 'Female']['forehead_ratio']\n",
    "\n",
    "# 2. 이분산 검정\n",
    "from scipy.stats import ttest_ind\n",
    "q3_2ttest_out = ttest_ind(q3_2m, q3_2f, equal_var = False)\n",
    "# q3_2ttest_out \n",
    "# (statistic=2.9994984197511543, pvalue=0.0027186702390657176)\n",
    "\n",
    "# 3. 검정 통계량 추정치\n",
    "print(round(abs(q3_2ttest_out.statistic), 3))\n",
    "# 검정 통계량 추정치 : 2.999\n",
    "\n",
    "# 4. 신뢰 수준 99%에서 양측 검정\n",
    "q3_2ttest_out.pvalue < 0.01  # True\n",
    "\n",
    "# 답 : 2.999, Y\n"
   ]
  },
  {
   "cell_type": "code",
   "execution_count": 77,
   "id": "5a2c0c4f",
   "metadata": {},
   "outputs": [
    {
     "name": "stdout",
     "output_type": "stream",
     "text": [
      "              precision    recall  f1-score   support\n",
      "\n",
      "      Female       0.97      0.96      0.96       743\n",
      "        Male       0.96      0.97      0.97       758\n",
      "\n",
      "    accuracy                           0.97      1501\n",
      "   macro avg       0.97      0.97      0.97      1501\n",
      "weighted avg       0.97      0.97      0.97      1501\n",
      "\n",
      "0.9596354166666666\n"
     ]
    }
   ],
   "source": [
    "# =============================================================================\n",
    "# 3.주어진 데이터를 사용하여 성별을 구분할 수 있는지 로지스틱 회귀분석을 적용하여\n",
    "# 알아 보고자 한다.\n",
    "# - 데이터를 7대 3으로 나누어 각각 Train과 Test set로 사용한다. 이 때 seed는 123으로\n",
    "# 한다.\n",
    "# - 원 데이터에 있는 7개의 변수만 Feature로 사용하고 gender를 label로 사용한다.\n",
    "# (forehead_ratio는 사용하지 않음)\n",
    "# - 로지스틱 회귀분석 예측 함수와 Test dataset를 사용하여 예측을 수행하고 정확도를\n",
    "# 평가한다. 이 때 임계값은 0.5를 사용한다.\n",
    "# - Male의 Precision 값을 소수점 둘째 자리까지 반올림하여 기술하시오. (답안 예시)\n",
    "# 0.12\n",
    "#\n",
    "#\n",
    "# (참고)\n",
    "# from sklearn.linear_model import LogisticRegression\n",
    "# from sklearn.model_selection import train_test_split\n",
    "# from sklearn import metrics\n",
    "# train_test_split 의 random_state = 123\n",
    "# =============================================================================\n",
    "\n",
    "from sklearn.linear_model import LogisticRegression\n",
    "from sklearn.model_selection import train_test_split\n",
    "from sklearn import metrics\n",
    "\n",
    "# 1. 데이터를 7대 3으로 나누어 각각 Train과 Test set로 사용한다. 이 때 seed는 123\n",
    "train, test = train_test_split(data3, test_size=0.3, random_state = 123)\n",
    "\n",
    "# 2. 원 데이터에 있는 7개의 변수만 Feature로 사용하고 gender를 label\n",
    "var_list = train.columns.drop('gender')\n",
    "\n",
    "# 3. 로지스틱 회귀분석\n",
    "# 학습\n",
    "logit = LogisticRegression().fit(train[var_list], train['gender'])\n",
    "\n",
    "logit.coef_\n",
    "# [[-0.19523081,  0.73711264,  0.9901466 ,  3.65906586,  3.55063906,\n",
    "#         3.35220836,  3.62923323]]\n",
    "\n",
    "# 4. 로지스틱 회귀분석 예측 함수와 Test dataset를 사용하여 예측을 수행하고 정확도를\n",
    "# 평가한다. 이 때 임계값은 0.5를 사용한다.\n",
    "# 예측\n",
    "q3_3pred = logit.predict(test[var_list])\n",
    "q3_3pred_pr = logit.predict_proba(test[var_list])\n",
    "\n",
    "# print(q3_3pred)\n",
    "# print(q3_3pred_pr)\n",
    "\n",
    "# np.where(q3_3pred_pr[:1] >= 0.7, 'Male', 'Female')\n",
    "\n",
    "# 성능 평가\n",
    "from sklearn.metrics import classification_report, precision_score\n",
    "\n",
    "print(classification_report(test['gender'], q3_3pred))\n",
    "#              precision    recall  f1-score   support\n",
    "#\n",
    "#      Female       0.97      0.96      0.96       743\n",
    "#        Male       0.96      0.97      0.97       758\n",
    "#\n",
    "#    accuracy                           0.97      1501\n",
    "#   macro avg       0.97      0.97      0.97      1501\n",
    "#weighted avg       0.97      0.97      0.97      1501\n",
    "\n",
    "#  Male의 Precision 값을 소수점 둘째 자리까지 반올림\n",
    "print(precision_score(test['gender'], q3_3pred, pos_label='Male'))\n",
    "# 답 : 0.96"
   ]
  },
  {
   "cell_type": "markdown",
   "id": "a15f4750",
   "metadata": {},
   "source": [
    "### scikit-learn 패키지 사용 로지스틱 회귀분석\n",
    "\n",
    "1. `LogisticRegression` 클래스 객체 생성\n",
    "\n",
    "    `from sklearn.linear_model import LogisticRegression`\n",
    "    ```\n",
    "    model = LogisticRegression()\n",
    "    ```\n",
    "    \n",
    "2. `fit` 메서드로 모형 추정. \n",
    "    ```\n",
    "    model.fit(features, labels)\n",
    "    ```\n",
    "    - 계수 : `model.coef_`\n",
    "    - 절편 : `model.intercpet_`\n",
    "        \n",
    "3. `predict` 메서드로 새로운 속성들을 넣었을 때 그 레이블에 속하는지 예측 (1 또는 0으로 벡터 반환)\n",
    "    ```\n",
    "    model.preidct(features)\n",
    "    ```\n",
    "    분류 결과가 아니라, 해당 레이블로 분류될 확률 값을 알고 싶으면 `predict_proba()` (확률 반환)\n",
    "    ```\n",
    "    model.predict_proba(features)\n",
    "    ```"
   ]
  },
  {
   "cell_type": "markdown",
   "id": "149051e4",
   "metadata": {},
   "source": [
    "## 04"
   ]
  },
  {
   "cell_type": "code",
   "execution_count": 80,
   "id": "36e55166",
   "metadata": {},
   "outputs": [
    {
     "name": "stdout",
     "output_type": "stream",
     "text": [
      "Index(['LOCATION', 'SUBJECT', 'TIME', 'Value'], dtype='object')\n"
     ]
    }
   ],
   "source": [
    "# =============================================================================\n",
    "# =============================================================================\n",
    "# # 문제 04 유형(DataSet_04.csv 이용)\n",
    "#\n",
    "#구분자 : comma(“,”), 6,718 Rows, 4 Columns, UTF-8 인코딩\n",
    "\n",
    "# 한국인의 식생활 변화가 건강에 미치는 영향을 분석하기에 앞서 육류\n",
    "# 소비량에 대한 분석을 하려고 한다. 확보한 데이터는 세계 각국의 1인당\n",
    "# 육류 소비량 데이터로 아래와 같은 내용을 담고 있다.\n",
    "\n",
    "# 컬 럼 / 정 의 / Type\n",
    "# LOCATION / 국가명 / String\n",
    "# SUBJECT / 육류 종류 (BEEF / PIG / POULTRY / SHEEP) / String\n",
    "# TIME / 연도 (1990 ~ 2026) / Integer\n",
    "# Value / 1인당 육류 소비량 (KG) / Double\n",
    "# =============================================================================\n",
    "# =============================================================================\n",
    "\n",
    "# (참고)\n",
    "# #1\n",
    "# import pandas as pd\n",
    "# import numpy as np\n",
    "# #2\n",
    "# from scipy.stats import ttest_rel\n",
    "# #3\n",
    "# from sklearn.linear_model import LinearRegression\n",
    "\n",
    "import pandas as pd\n",
    "\n",
    "data4 = pd.read_csv('./DataSet/DataSet_04.csv')\n",
    "\n",
    "print(data4.columns)"
   ]
  },
  {
   "cell_type": "code",
   "execution_count": 90,
   "id": "76578e2d",
   "metadata": {},
   "outputs": [
    {
     "data": {
      "text/plain": [
       "0.9601244896033333"
      ]
     },
     "execution_count": 90,
     "metadata": {},
     "output_type": "execute_result"
    }
   ],
   "source": [
    "# =============================================================================\n",
    "# 1.한국인의 1인당 육류 소비량이 해가 갈수록 증가하는 것으로 보여 상관분석을 통하여\n",
    "# 확인하려고 한다.\n",
    "# - 데이터 파일로부터 한국 데이터만 추출한다. 한국은 KOR로 표기되어 있다.\n",
    "# - 년도별 육류 소비량 합계를 구하여 TIME과 Value간의 상관분석을 수행하고\n",
    "# 상관계수를 소수점 셋째 자리에서 반올림하여 소수점 둘째 자리까지만 기술하시오.\n",
    "# (답안 예시) 0.55\n",
    "# =============================================================================\n",
    "\n",
    "# 1. 한국 데이터만 추출\n",
    "q4_1 = data4[data4['LOCATION'] == 'KOR'] \n",
    "\n",
    "# 2. 년도별 육류 소비량 합계를 구하여 TIME과 Value간의 상관분석을 수행\n",
    "q4_1out = q4_1.groupby('TIME')['Value'].sum().reset_index()\n",
    "\n",
    "q4_1out.corr()['TIME']['Value']\n",
    "\n",
    "# 답 : 0.96"
   ]
  },
  {
   "cell_type": "code",
   "execution_count": 100,
   "id": "67958f7b",
   "metadata": {},
   "outputs": [
    {
     "data": {
      "text/plain": [
       "2    POULTRY\n",
       "Name: sub, dtype: object"
      ]
     },
     "execution_count": 100,
     "metadata": {},
     "output_type": "execute_result"
    }
   ],
   "source": [
    "# =============================================================================\n",
    "# 2. 한국 인근 국가 가운데 식생의 유사성이 상대적으로 높은 일본(JPN)과 비교하여, 연도별\n",
    "# 소비량에 평균 차이가 있는지 분석하고자 한다.\n",
    "# - 두 국가의 육류별 소비량을 연도기준으로 비교하는 대응표본 t 검정을 수행하시오.\n",
    "# - 두 국가 간의 연도별 소비량 차이가 없는 것으로 판단할 수 있는 육류 종류를 모두\n",
    "# 적으시오. (알파벳 순서) (답안 예시) BEEF, PIG, POULTRY, SHEEP\n",
    "# =============================================================================\n",
    "\n",
    "# 1. 한국, 일본 데이터 추출\n",
    "q4_2 = data4[data4['LOCATION'].isin(['KOR','JPN'])]\n",
    "\n",
    "# 2. 육류목록 추출\n",
    "sub_list = q4_2.SUBJECT.unique()\n",
    "\n",
    "# 3. 반복문 이용해서 육류 종류별 대응 t 검정\n",
    "from scipy.stats import ttest_rel\n",
    "\n",
    "q4_2out = []\n",
    "for i in sub_list:\n",
    "    # 육류별\n",
    "    temp = q4_2[q4_2['SUBJECT'] == i]\n",
    "    # pivot table 만들기\n",
    "    temp2 = pd.pivot_table(temp, index='TIME', columns='LOCATION',\n",
    "                  values = 'Value', aggfunc='mean').dropna()\n",
    "    # ttest 수행\n",
    "    ttest_out = ttest_rel(temp2['KOR'],temp2['JPN'])\n",
    "    # 육류별 pvalue 리스트\n",
    "    q4_2out.append([i,ttest_out.pvalue])\n",
    "\n",
    "q4_2_out2 = pd.DataFrame(q4_2out, columns=['sub','pvalue'])\n",
    "\n",
    "# 4. 두 국가 간의 연도별 소비량 차이가 없는 것으로 판단할 수 있는 육류 종류\n",
    "# H0 : 소비량 차이가 있다\n",
    "# H1 : 소비량 차이가 없다\n",
    "q4_2_out2[q4_2_out2.pvalue >= 0.05]['sub']\n",
    "\n",
    "# 답 : POULTRY"
   ]
  },
  {
   "cell_type": "markdown",
   "id": "6f7fe54d",
   "metadata": {},
   "source": [
    "1. `ttest_ind()` : 독립표본 t 검정\n",
    "2. `ttest_rel()` : 대응표본 t 검정\n",
    "3. `ttest_1samp()` : 단일표본 t 검정"
   ]
  },
  {
   "cell_type": "code",
   "execution_count": 114,
   "id": "c28edd39",
   "metadata": {},
   "outputs": [
    {
     "data": {
      "text/plain": [
       "5.783357902874552"
      ]
     },
     "execution_count": 114,
     "metadata": {},
     "output_type": "execute_result"
    }
   ],
   "source": [
    "# =============================================================================\n",
    "# 3.(한국만 포함한 데이터에서) Time을 독립변수로, Value를 종속변수로 하여 육류\n",
    "# 종류(SUBJECT) 별로 회귀분석을 수행하였을 때, 가장 높은 결정계수를 가진 모델의\n",
    "# 학습오차 중 MAPE를 반올림하여 소수점 둘째 자리까지 기술하시오. (답안 예시) 21.12\n",
    "# (MAPE : Mean Absolute Percentage Error, 평균 절대 백분율 오차)\n",
    "# (MAPE = Σ ( | y - y ̂ | / y ) * 100/n ))\n",
    "#\n",
    "# =============================================================================\n",
    "\n",
    "# 1. 한국만 포함한 데이터\n",
    "q4_3 = data4[data4['LOCATION'] == 'KOR']\n",
    "\n",
    "# 2. 육류 종류별\n",
    "sub_list = q4_3.SUBJECT.unique()\n",
    "\n",
    "# 3. 육류 종류별 회귀분석\n",
    "from sklearn.linear_model import LinearRegression\n",
    "\n",
    "q4_3_out = []\n",
    "for i in sub_list:\n",
    "    # 육류별\n",
    "    temp = q4_3[q4_3.SUBJECT == i]\n",
    "    # 회귀분석 학습\n",
    "    lm = LinearRegression().fit(temp[['TIME']], temp['Value'])\n",
    "    # 회귀분석 결과\n",
    "    r2 = lm.score(temp[['TIME']], temp['Value'])\n",
    "    # 예측\n",
    "    pred = lm.predict(temp[['TIME']])\n",
    "    # (MAPE = Σ ( | y - y ̂ | / y ) * 100/n )\n",
    "    mape = (abs(temp['Value'] - pred) / temp['Value']).sum() * 100 / len(temp)\n",
    "    q4_3_out.append([i, r2, mape])\n",
    "    \n",
    "# 4. 가장 높은 결정계수를 가진 모델의 학습오차 중 MAPE를 반올림하여 소수점 둘째 자리까지\n",
    "q4_3_df = pd.DataFrame(q4_3_out, columns=['sub','r2','mape'])\n",
    "\n",
    "q4_3_df.loc[q4_3_df.r2.idxmax(), 'mape']\n",
    "\n",
    "# 답 : 5.78"
   ]
  },
  {
   "cell_type": "markdown",
   "id": "45297740",
   "metadata": {},
   "source": [
    "lm = linearRegression()\n",
    "lm.score() : 결정 계수 $R^2$ "
   ]
  },
  {
   "cell_type": "markdown",
   "id": "4497b5de",
   "metadata": {},
   "source": [
    "## 05"
   ]
  },
  {
   "cell_type": "code",
   "execution_count": 119,
   "id": "e67830f5",
   "metadata": {},
   "outputs": [],
   "source": [
    "# =============================================================================\n",
    "# =============================================================================\n",
    "# # 문제 05 유형(DataSet_05.csv 이용)\n",
    "#\n",
    "# 구분자 : comma(“,”), 8,068 Rows, 12 Columns, UTF-8 인코딩\n",
    "#\n",
    "# A자동차 회사는 신규 진입하는 시장에 기존 모델을 판매하기 위한 마케팅 전략을\n",
    "# 세우려고 한다. 기존 시장과 고객 특성이 유사하다는 전제 하에 기존 고객을 세분화하여\n",
    "# 각 그룹의 특징을 파악하고, 이를 이용하여 신규 진입 시장의 마케팅 계획을\n",
    "# 수립하고자 한다. 다음은 기존 시장 고객에 대한 데이터이다.\n",
    "#\n",
    "\n",
    "# 컬 럼 / 정 의 / Type\n",
    "# ID / 고유 식별자 / Double\n",
    "# Age / 나이 / Double\n",
    "# Age_gr / 나이 그룹 (10/20/30/40/50/60/70) / Double\n",
    "# Gender / 성별 (여성 : 0 / 남성 : 1) / Double\n",
    "# Work_Experience / 취업 연수 (0 ~ 14) / Double\n",
    "# Family_Size / 가족 규모 (1 ~ 9) / Double\n",
    "# Ever_Married / 결혼 여부 (Unknown : 0 / No : 1 / Yes : 2) / Double\n",
    "# Graduated / 재학 중인지 여부 / Double\n",
    "# Profession / 직업 (Unknown : 0 / Artist ~ Marketing 등 9개) / Double\n",
    "# Spending_Score / 소비 점수 (Average : 0 / High : 1 / Low : 2) / Double\n",
    "# Var_1 / 내용이 알려지지 않은 고객 분류 코드 (0 ~ 7) / Double\n",
    "# Segmentation / 고객 세분화 결과 (A ~ D) / String\n",
    "# =============================================================================\n",
    "# =============================================================================\n",
    "\n",
    "\n",
    "#(참고)\n",
    "#1\n",
    "# import pandas as pd\n",
    "# #2\n",
    "# from scipy.stats import chi2_contingency\n",
    "# #3\n",
    "# from sklearn.model_selection import train_test_split\n",
    "# from sklearn import metrics\n",
    "# from sklearn.tree import DecisionTreeClassifier\n",
    "# from sklearn.tree import export_graphviz\n",
    "# import pydot\n",
    "\n",
    "import pandas as pd\n",
    "data5 = pd.read_csv('./DataSet/DataSet_05.csv')\n",
    "data5 = pd.read_csv('./DataSet/DataSet_05.csv', na_values=['?', 'NA','', ' '])"
   ]
  },
  {
   "cell_type": "code",
   "execution_count": 122,
   "id": "1f6c5465",
   "metadata": {},
   "outputs": [
    {
     "data": {
      "text/plain": [
       "1166"
      ]
     },
     "execution_count": 122,
     "metadata": {},
     "output_type": "execute_result"
    }
   ],
   "source": [
    "# =============================================================================\n",
    "# 1.위의 표에 표시된 데이터 타입에 맞도록 전처리를 수행하였을 때, 데이터 파일 내에\n",
    "# 존재하는 결측값은 모두 몇 개인가? 숫자형 데이터와 문자열 데이터의 결측값을\n",
    "# 모두 더하여 답하시오.\n",
    "# (String 타입 변수의 경우 White Space(Blank)를 결측으로 처리한다) (답안 예시) 123\n",
    "# =============================================================================\n",
    "\n",
    "data5.isnull().sum().sum()\n",
    "# 답 : 1166"
   ]
  },
  {
   "cell_type": "code",
   "execution_count": 129,
   "id": "c2d02332",
   "metadata": {},
   "outputs": [
    {
     "name": "stdout",
     "output_type": "stream",
     "text": [
      "pvalue:0.0031\n",
      "귀무가설 기각 : True\n"
     ]
    }
   ],
   "source": [
    "# =============================================================================\n",
    "# 2.이어지는 분석을 위해 결측값을 모두 삭제한다. 그리고, 성별이 세분화(Segmentation)에\n",
    "# 영향을 미치는지 독립성 검정을 수행한다. 수행 결과, p-value를 반올림하여 소수점\n",
    "# 넷째 자리까지 쓰고, 귀무가설을 기각하면 Y로, 기각할 수 없으면 N으로 기술하시오.\n",
    "# (답안 예시) 0.2345, N\n",
    "# =============================================================================\n",
    "\n",
    "from scipy.stats import chi2_contingency\n",
    "\n",
    "# 1. 결측치 제거\n",
    "q5_1 = data5.dropna()\n",
    "\n",
    "# 2. 성별이 세분화(Segmentation)에 영향을 미치는지 독립성 검정을 수행 (카이스퀘어 검정)\n",
    "## 빈도\n",
    "q5_tab = pd.crosstab(index=q5_1.Gender, columns=q5_1.Segmentation)\n",
    "\n",
    "## 카이스퀘어 검정\n",
    "q5_2out = chi2_contingency(q5_tab)\n",
    "\n",
    "# 3. pvalue\n",
    "pvalue = round(q5_2out[1], 4)\n",
    "print(f'pvalue:{pvalue}')\n",
    "\n",
    "print(f'귀무가설 기각 : {pvalue<0.05}')\n",
    "\n",
    "# 답 : 0.0031, Y"
   ]
  },
  {
   "cell_type": "code",
   "execution_count": 138,
   "id": "c88a1580",
   "metadata": {},
   "outputs": [
    {
     "name": "stdout",
     "output_type": "stream",
     "text": [
      "Accuracy:0.6807116104868914\n"
     ]
    }
   ],
   "source": [
    "# =============================================================================\n",
    "# 3.Segmentation 값이 A 또는 D인 데이터만 사용하여 의사결정 나무 기법으로 분류\n",
    "# 정확도를\n",
    "# 측정해 본다.\n",
    "# - 결측치가 포함된 행은 제거한 후 진행하시오.\n",
    "# - Train대 Test 7대3으로 데이터를 분리한다. (Seed = 123)\n",
    "# - Train 데이터를 사용하여 의사결정나무 학습을 수행하고, Test 데이터로 평가를\n",
    "# 수행한다.\n",
    "# - 의사결정나무 학습 시, 다음과 같이 설정하시오:\n",
    "# • Feature: Age_gr, Gender, Work_Experience, Family_Size,\n",
    "#             Ever_Married, Graduated, Spending_Score\n",
    "# • Label : Segmentation\n",
    "# • Parameter : Gini / Max Depth = 7 / Seed = 123\n",
    "# 이 때 전체 정확도(Accuracy)를 소수점 셋째 자리 이하는 버리고 소수점 둘째자리까지\n",
    "# 기술하시오.\n",
    "# (답안 예시) 0.12\n",
    "# =============================================================================\n",
    "\n",
    "from sklearn.model_selection import train_test_split\n",
    "from sklearn import metrics\n",
    "from sklearn.tree import DecisionTreeClassifier\n",
    "from sklearn.tree import export_graphviz\n",
    "\n",
    "\n",
    "# 1. 결측치 제거\n",
    "q5_3 = data5.dropna()\n",
    "\n",
    "# 2. Segmentation 값이 A 또는 D인 데이터만\n",
    "q5_3 = q5_3[q5_3['Segmentation'].isin(['A','D'])]\n",
    "\n",
    "# 3. Train test 분리\n",
    "train, test = train_test_split(q5_3, test_size=0.3, random_state=123)\n",
    "\n",
    "# 4. Featuere\n",
    "var_list = ['Age_gr', 'Gender', 'Work_Experience', 'Family_Size', \n",
    "            'Ever_Married', 'Graduated', 'Spending_Score']\n",
    "\n",
    "# 5. 의사결정나무 학습\n",
    "dt = DecisionTreeClassifier(max_depth=7, random_state=123, criterion='gini') # default\n",
    "dt.fit(train[var_list], train['Segmentation'])\n",
    "\n",
    "# 6. 정확도\n",
    "q5_3out = dt.score(test[var_list], test['Segmentation'])\n",
    "print(f'Accuracy:{q5_3out}')\n",
    "\n",
    "# 답 : 0.68"
   ]
  }
 ],
 "metadata": {
  "kernelspec": {
   "display_name": "Python 3 (ipykernel)",
   "language": "python",
   "name": "python3"
  },
  "language_info": {
   "codemirror_mode": {
    "name": "ipython",
    "version": 3
   },
   "file_extension": ".py",
   "mimetype": "text/x-python",
   "name": "python",
   "nbconvert_exporter": "python",
   "pygments_lexer": "ipython3",
   "version": "3.9.12"
  }
 },
 "nbformat": 4,
 "nbformat_minor": 5
}
