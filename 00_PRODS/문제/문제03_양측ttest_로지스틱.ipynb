{
 "cells": [
  {
   "cell_type": "code",
   "execution_count": 2,
   "id": "273aab6d",
   "metadata": {},
   "outputs": [
    {
     "data": {
      "text/plain": [
       "Index(['long_hair', 'forehead_width_cm', 'forehead_height_cm', 'nose_wide',\n",
       "       'nose_long', 'lips_thin', 'distance_nose_to_lip_long', 'gender'],\n",
       "      dtype='object')"
      ]
     },
     "execution_count": 2,
     "metadata": {},
     "output_type": "execute_result"
    }
   ],
   "source": [
    "# =============================================================================\n",
    "# =============================================================================\n",
    "# # 문제 03 유형(DataSet_03.csv 이용)\n",
    "#\n",
    "# 구분자 : comma(“,”), 5,001 Rows, 8 Columns, UTF-8 인코딩\n",
    "# 안경 체인을 운영하고 있는 한 회사에서 고객 사진을 바탕으로 안경의 사이즈를\n",
    "# 맞춤 제작하는 비즈니스를 기획하고 있다. 우선 데이터만으로 고객의 성별을\n",
    "# 파악하는 것이 가능할 지를 연구하고자 한다.\n",
    "#\n",
    "# 컬 럼 / 정 의 / Type\n",
    "# long_hair / 머리카락 길이 (0 – 길지 않은 경우 / 1 – 긴\n",
    "# 경우) / Integer\n",
    "# forehead_width_cm / 이마의 폭 (cm) / Double\n",
    "# forehead_height_cm / 이마의 높이 (cm) / Double\n",
    "# nose_wide / 코의 넓이 (0 – 넓지 않은 경우 / 1 – 넓은 경우) / Integer\n",
    "# nose_long / 코의 길이 (0 – 길지 않은 경우 / 1 – 긴 경우) / Integer\n",
    "# lips_thin / 입술이 얇은지 여부 0 – 얇지 않은 경우 / 1 –\n",
    "# 얇은 경우) / Integer\n",
    "# distance_nose_to_lip_long / 인중의 길이(0 – 인중이 짧은 경우 / 1 – 인중이\n",
    "# 긴 경우) / Integer\n",
    "# gender / 성별 (Female / Male) / String\n",
    "# =============================================================================\n",
    "# =============================================================================\n",
    "\n",
    "import pandas as pd\n",
    "\n",
    "data3 = pd.read_csv('./DataSet/DataSet_03.csv')\n",
    "\n",
    "data3.columns\n",
    "# ['long_hair', 'forehead_width_cm', 'forehead_height_cm', 'nose_wide',\n",
    "#        'nose_long', 'lips_thin', 'distance_nose_to_lip_long', 'gender']"
   ]
  },
  {
   "cell_type": "code",
   "execution_count": 6,
   "id": "6a40b3e8",
   "metadata": {},
   "outputs": [
    {
     "data": {
      "text/plain": [
       "3"
      ]
     },
     "execution_count": 6,
     "metadata": {},
     "output_type": "execute_result"
    }
   ],
   "source": [
    "# =============================================================================\n",
    "# 1.이마의 폭(forehead_width_cm)과 높이(forehead_height_cm) 사이의\n",
    "# 비율(forehead_ratio)에 대해서 평균으로부터 3 표준편차 밖의 경우를 이상치로\n",
    "# 정의할 때, 이상치에 해당하는 데이터는 몇 개인가? (답안 예시) 10\n",
    "# =============================================================================\n",
    "\n",
    "q1 = data3.copy()\n",
    "\n",
    "# 비율\n",
    "q1['forehead_ratio'] = q1['forehead_width_cm'] / q1['forehead_height_cm']\n",
    "\n",
    "# 평균, std\n",
    "xbar = q1['forehead_ratio'].mean()\n",
    "std =  q1['forehead_ratio'].std()\n",
    "\n",
    "# 이상치\n",
    "UB = xbar + (3*std)\n",
    "DB = xbar - (3*std)\n",
    "\n",
    "# 이상치 데이터 몇 개?\n",
    "len(q1[(q1['forehead_ratio'] > UB) | (q1['forehead_ratio'] < DB)])\n",
    "\n",
    "# 답 : 3"
   ]
  },
  {
   "cell_type": "code",
   "execution_count": 16,
   "id": "e885b6a4",
   "metadata": {},
   "outputs": [
    {
     "name": "stdout",
     "output_type": "stream",
     "text": [
      "답 : 2.999, Y\n"
     ]
    }
   ],
   "source": [
    "# =============================================================================\n",
    "# 2.성별에 따라 forehead_ratio 평균에 차이가 있는지 적절한 통계 검정을 수행하시오.\n",
    "# - 검정은 이분산을 가정하고 수행한다.\n",
    "# - 검정통계량의 추정치는 절대값을 취한 후 소수점 셋째 자리까지 반올림하여\n",
    "# 기술하시오.\n",
    "# - 신뢰수준 99%에서 양측 검정을 수행하고 결과는 귀무가설 기각의 경우 Y로, 그렇지\n",
    "# 않을 경우 N으로 답하시오. (답안 예시) 1.234, Y\n",
    "# =============================================================================\n",
    "\n",
    "from scipy.stats import ttest_ind\n",
    "\n",
    "# 성별에 따라 forehead_ratio\n",
    "q2_f = q1[q1['gender'] == 'Female']['forehead_ratio']\n",
    "q2_m = q1[q1['gender'] == 'Male']['forehead_ratio']\n",
    "\n",
    "# ttest\n",
    "# -이분산을 가정\n",
    "q2_out = ttest_ind(q2_f, q2_m, equal_var=False)\n",
    "# Ttest_indResult(statistic=-2.9994984197511543, pvalue=0.0027186702390657176)\n",
    "\n",
    "# 신뢰수준 99%에서 양측 검정\n",
    "result2 = q2_out.pvalue < 0.01  # True\n",
    "result1 = round(abs(q2_out.statistic), 3)\n",
    "\n",
    "print(f'답 : {result1}, Y')\n",
    "# 답 : 2.999, Y"
   ]
  },
  {
   "cell_type": "code",
   "execution_count": 24,
   "id": "b222d4ae",
   "metadata": {},
   "outputs": [
    {
     "name": "stdout",
     "output_type": "stream",
     "text": [
      "              precision    recall  f1-score   support\n",
      "\n",
      "      Female       0.97      0.96      0.96       743\n",
      "        Male       0.96      0.97      0.97       758\n",
      "\n",
      "    accuracy                           0.97      1501\n",
      "   macro avg       0.97      0.97      0.97      1501\n",
      "weighted avg       0.97      0.97      0.97      1501\n",
      "\n",
      "0.96\n"
     ]
    }
   ],
   "source": [
    "# =============================================================================\n",
    "# 3.주어진 데이터를 사용하여 성별을 구분할 수 있는지 로지스틱 회귀분석을 적용하여\n",
    "# 알아 보고자 한다. \n",
    "# - 데이터를 7대 3으로 나누어 각각 Train과 Test set로 사용한다. 이 때 seed는 123으로\n",
    "# 한다.\n",
    "# - 원 데이터에 있는 7개의 변수만 Feature로 사용하고 gender를 label로 사용한다.\n",
    "# (forehead_ratio는 사용하지 않음)\n",
    "# - 로지스틱 회귀분석 예측 함수와 Test dataset를 사용하여 예측을 수행하고 정확도를\n",
    "# 평가한다. 이 때 임계값은 0.5를 사용한다. \n",
    "# - Male의 Precision 값을 소수점 둘째 자리까지 반올림하여 기술하시오. (답안 예시) \n",
    "# 0.12\n",
    "# \n",
    "# \n",
    "# (참고) \n",
    "# from sklearn.linear_model import LogisticRegression\n",
    "# from sklearn.model_selection import train_test_split\n",
    "# from sklearn import metrics\n",
    "# train_test_split 의 random_state = 123\n",
    "# =============================================================================\n",
    "\n",
    "from sklearn.linear_model import LogisticRegression\n",
    "from sklearn.model_selection import train_test_split\n",
    "from sklearn import metrics\n",
    "from sklearn.metrics import classification_report, precision_score\n",
    "\n",
    "q3 = data3.copy()\n",
    "\n",
    "# 1. Train, Test 분리\n",
    "train, test = train_test_split(q3, test_size=0.3, random_state=123)\n",
    "\n",
    "# 2. 원 데이터에 있는 7개의 변수만 Feature\n",
    "var_list = q3.columns.drop('gender')\n",
    "\n",
    "# 3. 로지스틱 회귀분석\n",
    "lr = LogisticRegression().fit(train[var_list], train['gender'])\n",
    "pred = lr.predict(test[var_list])\n",
    "\n",
    "# 4. 평가\n",
    "print(classification_report(test['gender'], pred))\n",
    "#              precision    recall  f1-score   support\n",
    "\n",
    "#       Female       0.97      0.96      0.96       743\n",
    "#         Male       0.96      0.97      0.97       758\n",
    "\n",
    "#     accuracy                           0.97      1501\n",
    "#    macro avg       0.97      0.97      0.97      1501\n",
    "# weighted avg       0.97      0.97      0.97      1501\n",
    "\n",
    "# 5. Male의 Precision 값 소수점 둘째 자리까지 반올림\n",
    "print(round(precision_score(test['gender'], pred, pos_label='Male'),2))\n",
    "# 답 : 0.96"
   ]
  },
  {
   "cell_type": "markdown",
   "id": "8a46c739",
   "metadata": {},
   "source": [
    "### scikit-learn 패키지 사용 로지스틱 회귀분석\n",
    "\n",
    "1. `LogisticRegression` 클래스 객체 생성\n",
    "\n",
    "    `from sklearn.linear_model import LogisticRegression`\n",
    "    ```\n",
    "    model = LogisticRegression()\n",
    "    ```\n",
    "    \n",
    "2. `fit` 메서드로 모형 추정. \n",
    "    ```\n",
    "    model.fit(features, labels)\n",
    "    ```\n",
    "    - 계수 : `model.coef_`\n",
    "    - 절편 : `model.intercpet_`\n",
    "        \n",
    "3. `predict` 메서드로 새로운 속성들을 넣었을 때 그 레이블에 속하는지 예측 (1 또는 0으로 벡터 반환)\n",
    "    ```\n",
    "    model.preidct(features)\n",
    "    ```\n",
    "    분류 결과가 아니라, 해당 레이블로 분류될 확률 값을 알고 싶으면 `predict_proba()` (확률 반환)\n",
    "    ```\n",
    "    model.predict_proba(features)\n",
    "    ```"
   ]
  },
  {
   "cell_type": "code",
   "execution_count": null,
   "id": "7090fd84",
   "metadata": {},
   "outputs": [],
   "source": []
  }
 ],
 "metadata": {
  "kernelspec": {
   "display_name": "Python 3 (ipykernel)",
   "language": "python",
   "name": "python3"
  },
  "language_info": {
   "codemirror_mode": {
    "name": "ipython",
    "version": 3
   },
   "file_extension": ".py",
   "mimetype": "text/x-python",
   "name": "python",
   "nbconvert_exporter": "python",
   "pygments_lexer": "ipython3",
   "version": "3.9.12"
  }
 },
 "nbformat": 4,
 "nbformat_minor": 5
}
