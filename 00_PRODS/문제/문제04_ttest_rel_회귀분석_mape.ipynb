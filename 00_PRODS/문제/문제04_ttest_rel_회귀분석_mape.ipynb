{
 "cells": [
  {
   "cell_type": "code",
   "execution_count": 2,
   "id": "85b2c902",
   "metadata": {},
   "outputs": [
    {
     "data": {
      "text/plain": [
       "Index(['LOCATION', 'SUBJECT', 'TIME', 'Value'], dtype='object')"
      ]
     },
     "execution_count": 2,
     "metadata": {},
     "output_type": "execute_result"
    }
   ],
   "source": [
    "# =============================================================================\n",
    "# =============================================================================\n",
    "# # 문제 04 유형(DataSet_04.csv 이용)\n",
    "#\n",
    "#구분자 : comma(“,”), 6,718 Rows, 4 Columns, UTF-8 인코딩\n",
    "\n",
    "# 한국인의 식생활 변화가 건강에 미치는 영향을 분석하기에 앞서 육류\n",
    "# 소비량에 대한 분석을 하려고 한다. 확보한 데이터는 세계 각국의 1인당\n",
    "# 육류 소비량 데이터로 아래와 같은 내용을 담고 있다.\n",
    "\n",
    "# 컬 럼 / 정 의 / Type\n",
    "# LOCATION / 국가명 / String\n",
    "# SUBJECT / 육류 종류 (BEEF / PIG / POULTRY / SHEEP) / String\n",
    "# TIME / 연도 (1990 ~ 2026) / Integer\n",
    "# Value / 1인당 육류 소비량 (KG) / Double\n",
    "# =============================================================================\n",
    "# =============================================================================\n",
    "\n",
    "# (참고)\n",
    "# #1\n",
    "# import pandas as pd\n",
    "# import numpy as np\n",
    "# #2\n",
    "# from scipy.stats import ttest_rel\n",
    "# #3\n",
    "# from sklearn.linear_model import LinearRegression\n",
    "\n",
    "import pandas as pd\n",
    "import numpy as np\n",
    "\n",
    "data4 = pd.read_csv('./DataSet/DataSet_04.csv')\n",
    "data4.columns\n",
    "# ['LOCATION', 'SUBJECT', 'TIME', 'Value']"
   ]
  },
  {
   "cell_type": "code",
   "execution_count": 13,
   "id": "d23452e1",
   "metadata": {},
   "outputs": [
    {
     "name": "stdout",
     "output_type": "stream",
     "text": [
      "답 : 0.96\n"
     ]
    }
   ],
   "source": [
    "# =============================================================================\n",
    "# 1.한국인의 1인당 육류 소비량이 해가 갈수록 증가하는 것으로 보여 상관분석을 통하여\n",
    "# 확인하려고 한다. \n",
    "# - 데이터 파일로부터 한국 데이터만 추출한다. 한국은 KOR로 표기되어 있다.\n",
    "# - 년도별 육류 소비량 합계를 구하여 TIME과 Value간의 상관분석을 수행하고\n",
    "# 상관계수를 소수점 셋째 자리에서 반올림하여 소수점 둘째 자리까지만 기술하시오. \n",
    "# (답안 예시) 0.55\n",
    "# =============================================================================\n",
    "\n",
    "# 1. 한국 데이터만 추출\n",
    "q1 = data4[data4.LOCATION == 'KOR']\n",
    "\n",
    "# 년도별 육류 소비량 합계\n",
    "q1_df = q1.groupby('TIME')['Value'].sum().reset_index()\n",
    "\n",
    "# TIME과 Value간의 상관분석\n",
    "result = q1_df.corr()['TIME']['Value']\n",
    "print(f'답 : {round(result, 2)}')\n",
    "\n",
    "# 답 : 0.96"
   ]
  },
  {
   "cell_type": "code",
   "execution_count": 23,
   "id": "f3f721c0",
   "metadata": {},
   "outputs": [
    {
     "data": {
      "text/plain": [
       "2    POULTRY\n",
       "Name: sub, dtype: object"
      ]
     },
     "execution_count": 23,
     "metadata": {},
     "output_type": "execute_result"
    }
   ],
   "source": [
    "# =============================================================================\n",
    "# 2. 한국 인근 국가 가운데 식생의 유사성이 상대적으로 높은 일본(JPN)과 비교하여, 연도별\n",
    "# 소비량에 평균 차이가 있는지 분석하고자 한다.\n",
    "# - 두 국가의 육류별 소비량을 연도기준으로 비교하는 대응표본 t 검정을 수행하시오.\n",
    "# - 두 국가 간의 연도별 소비량 차이가 없는 것으로 판단할 수 있는 육류 종류를 모두\n",
    "# 적으시오. (알파벳 순서) (답안 예시) BEEF, PIG, POULTRY, SHEEP\n",
    "# =============================================================================\n",
    "\n",
    "# 1. 한국, 일본 데이터 추출\n",
    "q4_2 = data4[data4['LOCATION'].isin(['KOR','JPN'])]\n",
    "\n",
    "# 2. 육류목록 추출\n",
    "sub_list = q4_2.SUBJECT.unique()\n",
    "\n",
    "# 3. 반복문 이용해서 육류 종류별 대응 t 검정\n",
    "from scipy.stats import ttest_rel\n",
    "\n",
    "q4_2out = []\n",
    "for i in sub_list:\n",
    "    # 육류별\n",
    "    temp = q4_2[q4_2['SUBJECT'] == i]\n",
    "    # pivot table 만들기\n",
    "    temp2 = pd.pivot_table(temp, index='TIME', columns='LOCATION',\n",
    "                  values = 'Value', aggfunc='mean').dropna()\n",
    "    # ttest 수행\n",
    "    ttest_out = ttest_rel(temp2['KOR'],temp2['JPN'])\n",
    "    # 육류별 pvalue 리스트\n",
    "    q4_2out.append([i,ttest_out.pvalue])\n",
    "\n",
    "q4_2_out2 = pd.DataFrame(q4_2out, columns=['sub','pvalue'])\n",
    "\n",
    "# 4. 두 국가 간의 연도별 소비량 차이가 없는 것으로 판단할 수 있는 육류 종류\n",
    "# H0 : 소비량 차이가 있다\n",
    "# H1 : 소비량 차이가 없다\n",
    "q4_2_out2[q4_2_out2.pvalue >= 0.05]['sub']\n",
    "\n",
    "# 답 : POULTRY"
   ]
  },
  {
   "cell_type": "markdown",
   "id": "7383833e",
   "metadata": {},
   "source": [
    "1. `ttest_ind()` : 독립표본 t 검정\n",
    "2. `ttest_rel()` : 대응표본 t 검정\n",
    "3. `ttest_1samp()` : 단일표본 t 검정"
   ]
  },
  {
   "cell_type": "code",
   "execution_count": 30,
   "id": "d78c9003",
   "metadata": {},
   "outputs": [
    {
     "data": {
      "text/plain": [
       "5.783357902874552"
      ]
     },
     "execution_count": 30,
     "metadata": {},
     "output_type": "execute_result"
    }
   ],
   "source": [
    "# =============================================================================\n",
    "# 3.(한국만 포함한 데이터에서) Time을 독립변수로, Value를 종속변수로 하여 육류\n",
    "# 종류(SUBJECT) 별로 회귀분석을 수행하였을 때, 가장 높은 결정계수를 가진 모델의\n",
    "# 학습오차 중 MAPE를 반올림하여 소수점 둘째 자리까지 기술하시오. (답안 예시) 21.12\n",
    "# (MAPE : Mean Absolute Percentage Error, 평균 절대 백분율 오차)\n",
    "# (MAPE = Σ ( | y - y ̂ | / y ) * 100/n ))\n",
    "#\n",
    "# =============================================================================\n",
    "\n",
    "# 1. 한국만 포함한 데이터\n",
    "q4_3 = data4[data4['LOCATION'] == 'KOR']\n",
    "\n",
    "# 2. 육류 종류별\n",
    "sub_list = q4_3.SUBJECT.unique()\n",
    "\n",
    "# 3. 육류 종류별 회귀분석\n",
    "from sklearn.linear_model import LinearRegression\n",
    "\n",
    "q4_3_out = []\n",
    "for i in sub_list:\n",
    "    # 육류별\n",
    "    temp = q4_3[q4_3.SUBJECT == i]\n",
    "    # 회귀분석 학습\n",
    "    lm = LinearRegression().fit(temp[['TIME']], temp['Value'])\n",
    "    # 회귀분석 결과\n",
    "    r2 = lm.score(temp[['TIME']], temp['Value'])\n",
    "    # 예측\n",
    "    pred = lm.predict(temp[['TIME']])\n",
    "    # (MAPE = Σ ( | y - y ̂ | / y ) * 100/n )\n",
    "    mape = (abs(temp['Value'] - pred) / temp['Value']).sum() * 100 / len(temp)\n",
    "    q4_3_out.append([i, r2, mape])\n",
    "    \n",
    "# 4. 가장 높은 결정계수를 가진 모델의 학습오차 중 MAPE를 반올림하여 소수점 둘째 자리까지\n",
    "q4_3_df = pd.DataFrame(q4_3_out, columns=['sub','r2','mape'])\n",
    "\n",
    "q4_3_df.loc[q4_3_df.r2.idxmax(), 'mape']\n",
    "\n",
    "# 답 : 5.78"
   ]
  },
  {
   "cell_type": "markdown",
   "id": "1cbf4830",
   "metadata": {},
   "source": [
    "lm = linearRegression()\n",
    "\n",
    "lm.score() : 결정 계수 $R^2$ "
   ]
  },
  {
   "cell_type": "code",
   "execution_count": null,
   "id": "3ad09ffe",
   "metadata": {},
   "outputs": [],
   "source": []
  }
 ],
 "metadata": {
  "kernelspec": {
   "display_name": "Python 3 (ipykernel)",
   "language": "python",
   "name": "python3"
  },
  "language_info": {
   "codemirror_mode": {
    "name": "ipython",
    "version": 3
   },
   "file_extension": ".py",
   "mimetype": "text/x-python",
   "name": "python",
   "nbconvert_exporter": "python",
   "pygments_lexer": "ipython3",
   "version": "3.9.12"
  }
 },
 "nbformat": 4,
 "nbformat_minor": 5
}
