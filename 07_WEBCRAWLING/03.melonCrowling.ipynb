{
 "cells": [
  {
   "cell_type": "markdown",
   "id": "a0263fd4",
   "metadata": {},
   "source": [
    "# 멜론 일간 - Top100"
   ]
  },
  {
   "cell_type": "markdown",
   "id": "e0dc53e5",
   "metadata": {},
   "source": [
    "Main만 돌리면 됩니당"
   ]
  },
  {
   "cell_type": "code",
   "execution_count": 4,
   "id": "60c48fc8",
   "metadata": {},
   "outputs": [],
   "source": [
    "# # python 버전 확인\n",
    "# !python -- version"
   ]
  },
  {
   "cell_type": "code",
   "execution_count": 16,
   "id": "43737296",
   "metadata": {},
   "outputs": [],
   "source": [
    "from selenium import webdriver # 웹 브라우저 자동화\n",
    "from selenium.webdriver.chrome.service import Service\n",
    "from selenium.webdriver.common.by import By\n",
    "\n",
    "\n",
    "import numpy as np\n",
    "import pandas as pd\n",
    "import time  # 서버 통신할 때 중간중간 시간 지연.\n",
    "from tqdm.notebook import tqdm    # for문을 실행할 때 진행상황을 %게이지로 알려줌"
   ]
  },
  {
   "cell_type": "code",
   "execution_count": 6,
   "id": "33f1f661",
   "metadata": {},
   "outputs": [
    {
     "data": {
      "text/plain": [
       "'1.4.2'"
      ]
     },
     "execution_count": 6,
     "metadata": {},
     "output_type": "execute_result"
    }
   ],
   "source": [
    "# 판다스 버전 확인\n",
    "pd.__version__"
   ]
  },
  {
   "cell_type": "markdown",
   "id": "663f2e14",
   "metadata": {},
   "source": [
    "## Main"
   ]
  },
  {
   "cell_type": "code",
   "execution_count": 113,
   "id": "b8908dd9",
   "metadata": {},
   "outputs": [],
   "source": [
    "# 크롬 드라이버 열기\n",
    "serve = Service('chromedriver.exe')\n",
    "driver = webdriver.Chrome(service=serve)\n",
    "\n",
    "# 사이트 주소\n",
    "url = 'https://www.melon.com/'\n",
    "driver.get(url)  # get >> 에러나도 에러 뜨지 않고 아무 반응 안함\n",
    "time.sleep(2)\n",
    "\n",
    "# 멜론차트 클릭\n",
    "driver.find_elements(by=By.CSS_SELECTOR, value=\".menu_bg.menu01\")[0].click()\n",
    "\n",
    "# 실행 기다려 주기\n",
    "time.sleep(2)\n",
    "\n",
    "# 일간차트 클릭\n",
    "driver.find_elements(by=By.CSS_SELECTOR, value=\".menu_chart.m2\")[0].click()\n",
    "\n",
    "# 크롤링 코드\n",
    "number = 100  # 수집할 곡 개수\n",
    "\n",
    "# songs = driver.find_elements_by_css_selector(\"table > tbody > tr\")\n",
    "song_list = []  # 개별 곡 정보를 담을 리스트\n",
    "rank = 1\n",
    "# 반복문 시작\n",
    "for i in range(number):    \n",
    "    # 곡정보 더보기 버튼 클릭\n",
    "    more_info_list = driver.find_elements(by=By.CSS_SELECTOR, value=\".btn.button_icons.type03.song_info\")\n",
    "    more_info_list[i].click()\n",
    "    time.sleep(1)\n",
    "\n",
    "    # 제목 가져오기\n",
    "    title = driver.find_elements(by=By.CSS_SELECTOR, value=\".song_name\")[0].text\n",
    "\n",
    "    # 가수 가져오기\n",
    "    artist = driver.find_elements(by=By.CSS_SELECTOR, value=\".artist\")[0].text\n",
    "\n",
    "    # 앨범 기본 정보\n",
    "    album_info = driver.find_elements(by=By.CSS_SELECTOR, value=\".list\")[0].text.split('\\n')\n",
    "    # 앨범명\n",
    "    album_name = album_info[1]\n",
    "    # 발매일\n",
    "    album_date = album_info[3]\n",
    "\n",
    "    # 가사 펼치기 버튼 클릭\n",
    "    driver.find_elements(by=By.CSS_SELECTOR, value=\".button_more.arrow_d\")[0].click()\n",
    "\n",
    "    # 가사\n",
    "    lyric = driver.find_elements(by=By.CSS_SELECTOR, value=\".lyric.on\")[0].text\n",
    "\n",
    "#         print(song, artist, album_name, album_date, lyric, sep='|')\n",
    "\n",
    "    song_list.append(['Melon', rank, title, artist, album_name, album_date, lyric])\n",
    "    rank+=1\n",
    "    driver.back()\n",
    "    time.sleep(1)\n",
    "\n",
    "        \n",
    "columns = ['서비스', '순위', '타이틀', '가수', '앨범명', '발매일', '가사']\n",
    "song_data = pd.DataFrame(song_list, columns = columns)\n",
    "song_data.to_excel('./melon_daily_top100.xlsx', index=False)"
   ]
  },
  {
   "cell_type": "markdown",
   "id": "3fc1b0a3",
   "metadata": {},
   "source": [
    "## Parsing"
   ]
  },
  {
   "cell_type": "code",
   "execution_count": 101,
   "id": "44b0f3ec",
   "metadata": {},
   "outputs": [],
   "source": [
    "# 크롬 드라이버 열기\n",
    "serve = Service('chromedriver.exe')\n",
    "driver = webdriver.Chrome(service=serve)"
   ]
  },
  {
   "cell_type": "code",
   "execution_count": 102,
   "id": "900f64ea",
   "metadata": {},
   "outputs": [],
   "source": [
    "# 사이트 주소\n",
    "url = 'https://www.melon.com/'\n",
    "driver.get(url)  # get >> 에러나도 에러 뜨지 않고 아무 반응 안함\n",
    "time.sleep(2)"
   ]
  },
  {
   "cell_type": "code",
   "execution_count": 103,
   "id": "2b65fddd",
   "metadata": {},
   "outputs": [
    {
     "name": "stderr",
     "output_type": "stream",
     "text": [
      "C:\\Users\\yes47\\AppData\\Local\\Temp\\ipykernel_3664\\2678516065.py:2: DeprecationWarning: find_element_by_css_selector is deprecated. Please use find_element(by=By.CSS_SELECTOR, value=css_selector) instead\n",
      "  driver.find_element_by_css_selector(\".menu_bg.menu01\").click()\n",
      "C:\\Users\\yes47\\AppData\\Local\\Temp\\ipykernel_3664\\2678516065.py:8: DeprecationWarning: find_element_by_css_selector is deprecated. Please use find_element(by=By.CSS_SELECTOR, value=css_selector) instead\n",
      "  driver.find_element_by_css_selector(\".menu_chart.m2\").click()\n"
     ]
    }
   ],
   "source": [
    "# 멜론차트 클릭\n",
    "driver.find_element_by_css_selector(\".menu_bg.menu01\").click()\n",
    "\n",
    "# 실행 기다려 주기\n",
    "time.sleep(1)\n",
    "\n",
    "# 일간차트 클릭\n",
    "driver.find_element_by_css_selector(\".menu_chart.m2\").click()"
   ]
  },
  {
   "cell_type": "code",
   "execution_count": 79,
   "id": "f44a36ea",
   "metadata": {},
   "outputs": [
    {
     "name": "stdout",
     "output_type": "stream",
     "text": [
      "100\n",
      "<selenium.webdriver.remote.webelement.WebElement (session=\"ed1b3d2b819ee042cc24ee0366478cc7\", element=\"3c461296-9441-45fd-99c5-ea8c279f1a56\")>\n"
     ]
    },
    {
     "name": "stderr",
     "output_type": "stream",
     "text": [
      "C:\\Users\\yes47\\AppData\\Local\\Temp\\ipykernel_3664\\401449825.py:2: DeprecationWarning: find_elements_by_css_selector is deprecated. Please use find_elements(by=By.CSS_SELECTOR, value=css_selector) instead\n",
      "  songs = driver.find_elements_by_css_selector(\"table > tbody > tr\")\n"
     ]
    }
   ],
   "source": [
    "# 100개 노래 태그 찾기\n",
    "songs = driver.find_elements_by_css_selector(\"table > tbody > tr\")\n",
    "print(len(songs))\n",
    "print(songs[0])"
   ]
  },
  {
   "cell_type": "code",
   "execution_count": 84,
   "id": "a8234e3b",
   "metadata": {},
   "outputs": [
    {
     "name": "stdout",
     "output_type": "stream",
     "text": [
      "100\n",
      "<selenium.webdriver.remote.webelement.WebElement (session=\"ed1b3d2b819ee042cc24ee0366478cc7\", element=\"3c461296-9441-45fd-99c5-ea8c279f1a56\")>\n",
      "<selenium.webdriver.remote.webelement.WebElement (session=\"ed1b3d2b819ee042cc24ee0366478cc7\", element=\"d68c0994-161f-4163-bf4a-2f48919576ad\")>\n"
     ]
    }
   ],
   "source": [
    "# 100개 노래 태그 찾기\n",
    "songs = driver.find_elements(by=By.CSS_SELECTOR, value=\"table > tbody > tr\")\n",
    "print(len(songs))\n",
    "print(songs[0])\n",
    "print(songs[1])"
   ]
  },
  {
   "cell_type": "code",
   "execution_count": 11,
   "id": "c0cef6c9",
   "metadata": {},
   "outputs": [
    {
     "name": "stderr",
     "output_type": "stream",
     "text": [
      "C:\\Users\\yes47\\AppData\\Local\\Temp\\ipykernel_3664\\804876611.py:3: DeprecationWarning: find_elements_by_css_selector is deprecated. Please use find_elements(by=By.CSS_SELECTOR, value=css_selector) instead\n",
      "  more_info_list = driver.find_elements_by_css_selector(\".btn.button_icons.type03.song_info\")\n"
     ]
    }
   ],
   "source": [
    "# 곡정보 더보기 버튼 클릭\n",
    "# 1번 곡만 먼저 해봄\n",
    "more_info_list = driver.find_elements_by_css_selector(\".btn.button_icons.type03.song_info\")\n",
    "more_info_list[0].click() # 1번곡 -> 추후 for문으로 사용\n",
    "time.sleep(1)"
   ]
  },
  {
   "cell_type": "code",
   "execution_count": 89,
   "id": "733e1914",
   "metadata": {},
   "outputs": [
    {
     "data": {
      "text/plain": [
       "'Pink Venom'"
      ]
     },
     "execution_count": 89,
     "metadata": {},
     "output_type": "execute_result"
    }
   ],
   "source": [
    "# 곡정보 더보기 버튼 클릭\n",
    "# 1번 곡만 먼저 해봄\n",
    "more_info_list = driver.find_elements(by=By.CSS_SELECTOR, value=\".btn.button_icons.type03.song_info\")\n",
    "more_info_list[1].click() # 1번곡 -> 추후 for문으로 사용\n",
    "time.sleep(1)\n",
    "# 제목 가져오기\n",
    "title = driver.find_elements(by=By.CSS_SELECTOR, value=\".song_name\")\n",
    "title[0].text"
   ]
  },
  {
   "cell_type": "code",
   "execution_count": 23,
   "id": "b5ae8d54",
   "metadata": {},
   "outputs": [
    {
     "name": "stderr",
     "output_type": "stream",
     "text": [
      "C:\\Users\\yes47\\AppData\\Local\\Temp\\ipykernel_3664\\4160674363.py:2: DeprecationWarning: find_elements_by_css_selector is deprecated. Please use find_elements(by=By.CSS_SELECTOR, value=css_selector) instead\n",
      "  song = driver.find_elements_by_css_selector(\".song_name\")\n"
     ]
    },
    {
     "data": {
      "text/plain": [
       "'Attention'"
      ]
     },
     "execution_count": 23,
     "metadata": {},
     "output_type": "execute_result"
    }
   ],
   "source": [
    "# 제목 가져오기\n",
    "title = driver.find_elements_by_css_selector(\".song_name\")\n",
    "title[0].text"
   ]
  },
  {
   "cell_type": "code",
   "execution_count": 25,
   "id": "a8536987",
   "metadata": {},
   "outputs": [
    {
     "name": "stderr",
     "output_type": "stream",
     "text": [
      "C:\\Users\\yes47\\AppData\\Local\\Temp\\ipykernel_3664\\3741991596.py:2: DeprecationWarning: find_elements_by_css_selector is deprecated. Please use find_elements(by=By.CSS_SELECTOR, value=css_selector) instead\n",
      "  artist = driver.find_elements_by_css_selector(\".artist\")\n"
     ]
    },
    {
     "data": {
      "text/plain": [
       "'NewJeans'"
      ]
     },
     "execution_count": 25,
     "metadata": {},
     "output_type": "execute_result"
    }
   ],
   "source": [
    "# 가수 가져오기\n",
    "artist = driver.find_elements_by_css_selector(\".artist\")\n",
    "artist[0].text"
   ]
  },
  {
   "cell_type": "code",
   "execution_count": 28,
   "id": "e59ca218",
   "metadata": {},
   "outputs": [
    {
     "name": "stderr",
     "output_type": "stream",
     "text": [
      "C:\\Users\\yes47\\AppData\\Local\\Temp\\ipykernel_3664\\503116054.py:2: DeprecationWarning: find_elements_by_css_selector is deprecated. Please use find_elements(by=By.CSS_SELECTOR, value=css_selector) instead\n",
      "  album_info = driver.find_elements_by_css_selector(\".list\")[0].text.split('\\n')\n"
     ]
    },
    {
     "data": {
      "text/plain": [
       "['앨범',\n",
       " \"NewJeans 1st EP 'New Jeans'\",\n",
       " '발매일',\n",
       " '2022.08.01',\n",
       " '장르',\n",
       " '댄스',\n",
       " 'FLAC',\n",
       " 'Flac 16bit']"
      ]
     },
     "execution_count": 28,
     "metadata": {},
     "output_type": "execute_result"
    }
   ],
   "source": [
    "# 앨범 기본 정보\n",
    "album_info = driver.find_elements_by_css_selector(\".list\")[0].text.split('\\n')\n",
    "album_info"
   ]
  },
  {
   "cell_type": "code",
   "execution_count": 30,
   "id": "1b508c13",
   "metadata": {},
   "outputs": [
    {
     "data": {
      "text/plain": [
       "\"NewJeans 1st EP 'New Jeans'\""
      ]
     },
     "execution_count": 30,
     "metadata": {},
     "output_type": "execute_result"
    }
   ],
   "source": [
    "# 앨범명\n",
    "album_info[1]"
   ]
  },
  {
   "cell_type": "code",
   "execution_count": 29,
   "id": "00b7cb72",
   "metadata": {},
   "outputs": [
    {
     "data": {
      "text/plain": [
       "'2022.08.01'"
      ]
     },
     "execution_count": 29,
     "metadata": {},
     "output_type": "execute_result"
    }
   ],
   "source": [
    "# 발매일\n",
    "album_info[3]"
   ]
  },
  {
   "cell_type": "code",
   "execution_count": 32,
   "id": "43be6275",
   "metadata": {},
   "outputs": [
    {
     "name": "stderr",
     "output_type": "stream",
     "text": [
      "C:\\Users\\yes47\\AppData\\Local\\Temp\\ipykernel_3664\\2736272163.py:2: DeprecationWarning: find_element_by_* commands are deprecated. Please use find_element() instead\n",
      "  like_count = driver.find_element_by_id(\"d_like_count\")\n"
     ]
    },
    {
     "data": {
      "text/plain": [
       "'133,910'"
      ]
     },
     "execution_count": 32,
     "metadata": {},
     "output_type": "execute_result"
    }
   ],
   "source": [
    "# 좋아요 수\n",
    "like_count = driver.find_element_by_id(\"d_like_count\")\n",
    "like_count.text"
   ]
  },
  {
   "cell_type": "code",
   "execution_count": 34,
   "id": "47b2d1a4",
   "metadata": {},
   "outputs": [
    {
     "name": "stderr",
     "output_type": "stream",
     "text": [
      "C:\\Users\\yes47\\AppData\\Local\\Temp\\ipykernel_3664\\2377352356.py:2: DeprecationWarning: find_element_by_css_selector is deprecated. Please use find_element(by=By.CSS_SELECTOR, value=css_selector) instead\n",
      "  driver.find_element_by_css_selector(\".button_more.arrow_d\").click()\n"
     ]
    }
   ],
   "source": [
    "# 가사 펼치기 버튼 클릭\n",
    "driver.find_element_by_css_selector(\".button_more.arrow_d\").click()"
   ]
  },
  {
   "cell_type": "code",
   "execution_count": 35,
   "id": "14ab7b19",
   "metadata": {},
   "outputs": [
    {
     "name": "stderr",
     "output_type": "stream",
     "text": [
      "C:\\Users\\yes47\\AppData\\Local\\Temp\\ipykernel_3664\\974035234.py:2: DeprecationWarning: find_element_by_css_selector is deprecated. Please use find_element(by=By.CSS_SELECTOR, value=css_selector) instead\n",
      "  lyric = driver.find_element_by_css_selector(\".lyric.on\")\n"
     ]
    },
    {
     "data": {
      "text/plain": [
       "\"또 모르지 내 마음이\\n저 날씨처럼 바뀔지\\n날 나조차 다 알 수 없으니\\n그게 뭐가 중요하니\\n지금 네게 완전히\\n푹 빠졌단 게 중요한 거지\\n아마 꿈만 같겠지만\\n분명 꿈이 아니야\\n달리 설명할 수 없는\\n이건 사랑일 거야\\n방금 내가 말한 감정\\n감히 의심하지 마\\n그냥 좋다는 게 아냐\\nWhat's after 'LIKE'?\\nYou and I\\nIt's more than 'LIKE'\\nL 다음 또 O 다음 난 yeah\\nYou and I\\nIt's more than 'LIKE'\\nWhat's after 'LIKE'?\\nWhat's after 'LIKE'?\\n조심해 두 심장에 핀\\n새파란 이 불꽃이\\n저 태양보다 뜨거울 테니\\n난 저 위로 또 아래로\\n내 그래프는 폭이 커\\nYeah that's me\\n두 번 세 번 피곤하게\\n자꾸 질문하지 마\\n내 장점이 뭔지 알아?\\n바로 솔직한 거야\\n방금 내가 말한 감정\\n감히 의심하지 마\\n그냥 좋다는 게 아냐\\nWhat's after 'LIKE'?\\nYou and I\\nIt's more than 'LIKE'\\nL 다음 또 O 다음 난 yeah\\nYou and I\\nIt's more than 'LIKE'\\nWhat's after 'LIKE'?\\nWhat's after 'LIKE'?\\nWhat after like 내 맘에 strike\\n지금 느낀 짜릿함은 마치 tike\\nLO 다음에 I 그 다음에 VE\\n여긴 너와 내 space\\n아무도 막지 못해\\n나를 보면 눈 깜빡할\\n시간 조차도 아까울 걸\\n드디어 만나 반가워\\nLOVE 사이 놓일 I\\n(What's after 'LIKE'?)\\nYou and I\\nIt's more than 'LIKE'\\nE 앞 또 V 앞 난 yeah\\nYou and I\\nIt's more than 'LIKE'\\nWhat's after 'LIKE'?\\nYou and I\\nIt's more than 'LIKE'\\nL 다음 또 O 다음 난 yeah\\nYou and I\\nIt's more than 'LIKE'\\nWhat's after 'LIKE'?\\nWhat's after 'LIKE'?\""
      ]
     },
     "execution_count": 35,
     "metadata": {},
     "output_type": "execute_result"
    }
   ],
   "source": [
    "# 가사 출력 되는지 확인\n",
    "lyric = driver.find_element_by_css_selector(\".lyric.on\")\n",
    "lyric.text"
   ]
  },
  {
   "cell_type": "code",
   "execution_count": null,
   "id": "014f8c47",
   "metadata": {},
   "outputs": [],
   "source": []
  }
 ],
 "metadata": {
  "kernelspec": {
   "display_name": "Python 3 (ipykernel)",
   "language": "python",
   "name": "python3"
  },
  "language_info": {
   "codemirror_mode": {
    "name": "ipython",
    "version": 3
   },
   "file_extension": ".py",
   "mimetype": "text/x-python",
   "name": "python",
   "nbconvert_exporter": "python",
   "pygments_lexer": "ipython3",
   "version": "3.9.12"
  }
 },
 "nbformat": 4,
 "nbformat_minor": 5
}
