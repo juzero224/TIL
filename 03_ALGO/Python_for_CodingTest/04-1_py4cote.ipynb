{
 "cells": [
  {
   "cell_type": "markdown",
   "id": "87fcaffe",
   "metadata": {},
   "source": [
    "# Chapter 04 구현"
   ]
  },
  {
   "cell_type": "markdown",
   "id": "6d3fcf08",
   "metadata": {},
   "source": [
    "파이썬에서 리스트 크기\n",
    "- int 자료형 데이터 개수에 따른 메모리 사용량\n",
    "- 데이터 개수 ㅣ 메모리 사용량\n",
    "- 1,000      | 약 4KB\n",
    "- 1,000,000  | 약 4MB\n",
    "- 10,000,000 | 약 40MB"
   ]
  },
  {
   "cell_type": "markdown",
   "id": "8276ad27",
   "metadata": {},
   "source": [
    "## 04-1 상하좌우"
   ]
  },
  {
   "cell_type": "markdown",
   "id": "4cca065f",
   "metadata": {},
   "source": [
    "- L : 왼쪽으로 한 칸 이동\n",
    "- R : 오른쪽으로 한 칸 이동\n",
    "- U : 위로 한 칸 이동\n",
    "- D : 아래로 한 칸 이동\n",
    "\n",
    "N x N 크기의 정사각형 공간을 벗어나는 움직임은 무시된다.\n",
    "\n",
    "계획서가 주어졌을 때 여행가 A가 최종적으로 도착할 지점의 좌표를 출력하는 프로그램을 작성하시오"
   ]
  },
  {
   "cell_type": "markdown",
   "id": "733cf77b",
   "metadata": {},
   "source": [
    "입력 조건\n",
    "- 첫째 줄에 공간의 크기르 ㄹ나타내는 N이 주어진다. (1<=N<=100)\n",
    "- 둘째 줄에 여행가 A가 이동할 계획서 내용이 주어진다. (1<= 이동횟수 <= 100)\n",
    "\n",
    "출력 조건\n",
    "- 첫째 줄에 여행가 A가 최종적으로 도착할 지점의 좌표 (X,Y)를 공백으로 구분하여 출력한다."
   ]
  },
  {
   "cell_type": "markdown",
   "id": "74e67c67",
   "metadata": {},
   "source": [
    "입력 예시\n",
    "```\n",
    "5\n",
    "R R R U D D\n",
    "```\n",
    "출력 예시\n",
    "```\n",
    "3 4\n",
    "```"
   ]
  },
  {
   "cell_type": "code",
   "execution_count": null,
   "id": "019a8c3e",
   "metadata": {},
   "outputs": [],
   "source": [
    "'''\n",
    "예시\n",
    "R - R - R - U - D D\n",
    "(1,2) (1,3) (1,4) (1,4) (2,4) (3,4)\n",
    "\n",
    "NxN\n",
    "y|x 1 2 3 4 5\n",
    "1\n",
    "2\n",
    "3\n",
    "4\n",
    "5\n",
    "\n",
    "L = (x, y-1)\n",
    "R = (x, y+1)\n",
    "U = (x-1, y)\n",
    "D = (x+1, y)\n",
    "\n",
    "x,y = 1,1\n",
    "L -> y-1, y>1\n",
    "R -> y+1, y<N\n",
    "U -> x-1, x>1\n",
    "D -> x+1, x<N\n",
    "\n",
    "'''"
   ]
  },
  {
   "cell_type": "code",
   "execution_count": 29,
   "id": "f192fd0b",
   "metadata": {},
   "outputs": [
    {
     "name": "stdout",
     "output_type": "stream",
     "text": [
      "5\n",
      "R R R U U D D L L D\n",
      "4 2\n"
     ]
    }
   ],
   "source": [
    "N = int(input())  # 공간의 크기 N\n",
    "routes = list(input().split()) # A가 이동할 루트\n",
    "\n",
    "x,y = 1,1   # A의 위치   # 1.\n",
    "\n",
    "for route in routes:  # 2.\n",
    "    if route == 'L':  # 3.\n",
    "        y -= 1\n",
    "        if y <1:  # 7.\n",
    "            y=1\n",
    "    elif route == 'R':  # 4.\n",
    "        y += 1\n",
    "        if y >N:  # 8.\n",
    "            y=N\n",
    "    elif route == 'U':  # 5.\n",
    "        x -= 1\n",
    "        if x<1:  # 7.\n",
    "            x=1\n",
    "    elif route == 'D':  # 6.\n",
    "        x += 1\n",
    "        if x>N:  # 8.\n",
    "            x=N\n",
    "print(x,y)"
   ]
  },
  {
   "cell_type": "markdown",
   "id": "357bcf74",
   "metadata": {},
   "source": [
    "1. A의 위치를 1,1 로 맞추기 위해 x, y를 1로 초기화\n",
    "2. routes로 받은 경로 리스트를 하나씩 for문으로 돔\n",
    "3. route가 L이라면 왼쪽으로 가므로 y값을 1 뺌\n",
    "4. route가 R이라면 오른쪽으로 가므로 y 값을 1 더함\n",
    "5. route가 U이라면 위로 가므로 x값을 1뺌\n",
    "6. route가 D라면 아래로 가므로 x값을 1 더함\n",
    "7. 만약 x 또는 y가 1보다 작아지면 공간을 벗어나므로 x,y를 1로 고정\n",
    "8. 만약 x 또는 y가 N보다 커지면 공간을 벗어나므로 x,y를 N으로 고정"
   ]
  },
  {
   "cell_type": "markdown",
   "id": "19f64be4",
   "metadata": {},
   "source": [
    "```\n",
    "5\n",
    "R R R U U D D L L D\n",
    ">> (1,2) (1,3) (1,4) (1,4) (1,4) (2,4) (3,4) (3,3) (3,2) (4,2)\n",
    ">> 4 2\n",
    "```"
   ]
  }
 ],
 "metadata": {
  "kernelspec": {
   "display_name": "Python 3 (ipykernel)",
   "language": "python",
   "name": "python3"
  },
  "language_info": {
   "codemirror_mode": {
    "name": "ipython",
    "version": 3
   },
   "file_extension": ".py",
   "mimetype": "text/x-python",
   "name": "python",
   "nbconvert_exporter": "python",
   "pygments_lexer": "ipython3",
   "version": "3.9.12"
  }
 },
 "nbformat": 4,
 "nbformat_minor": 5
}
