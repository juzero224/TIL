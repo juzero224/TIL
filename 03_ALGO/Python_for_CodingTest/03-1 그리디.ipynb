{
 "cells": [
  {
   "cell_type": "markdown",
   "id": "fb15c446",
   "metadata": {},
   "source": [
    "## 그리디 (탐욕법)\n",
    "- 현재 상황에서 지금 당장 좋은 것만 고르는 방법\n",
    "- 최단 경로 찾기\n",
    "    - 플로이드 워셜, 다익스트라 알고리즘"
   ]
  },
  {
   "cell_type": "markdown",
   "id": "55651840",
   "metadata": {},
   "source": [
    "### 예제 3-1 거스름돈\n",
    "\n",
    "거스름돈으로 사용할 500원, 100원, 50원, 10원\\\n",
    "손님에게 거슬러 줘야 할 돈이 N원일 때 거슬러 줘야 할 동전의 최소 개수\\\n",
    "단, 거슬러 줘야 할 돈 N은 항상 10의 배수"
   ]
  },
  {
   "cell_type": "markdown",
   "id": "fa3654e4",
   "metadata": {},
   "source": [
    "문제 해설\n",
    "- '가장 큰 화폐 단위부터' 돈을 거슬러 주는 것\n",
    "\n",
    "입력 : N = 1260\n",
    "<br>\n",
    "<br>\n",
    "step0 : 남은 돈 : 1260원\\\n",
    "        500 >> 0, 100 >> 0, 50>> 0, 10>> 0\\\n",
    "<br>\n",
    "step1 : 남은 돈 : 260원\\\n",
    "        500 >> 2, 100>> 0, 50 >> 0, 10 >> 0\\\n",
    "<br>\n",
    "step2 : 남은 돈 : 60원\\\n",
    "        500 >> 2, 100 >> 2, 50 >> 0, 10 >> 0\n",
    "<br>        \n",
    "step3 : 남은 돈 : 10원\\\n",
    "        500 >> 2, 100 >> 2, 50 >> 1, 10 >> 0\n",
    "<br>        \n",
    "step4 : 남은 돈 : 0원\\\n",
    "        500 >> 2, 100 >> 2, 50 >> 1, 10 >> 1\n",
    "<br>        \n",
    "출력 : 6"
   ]
  },
  {
   "cell_type": "code",
   "execution_count": 1,
   "id": "89a7c22d",
   "metadata": {},
   "outputs": [
    {
     "name": "stdout",
     "output_type": "stream",
     "text": [
      "6\n"
     ]
    }
   ],
   "source": [
    "n = 1260\n",
    "count = 0\n",
    "\n",
    "# 큰 단위의 화폐부터 차례대로 확인\n",
    "coin_types = [500, 100, 50, 10]\n",
    "\n",
    "for coin in coin_types:\n",
    "    count += n // coin  # 해당 화폐로 거슬러 줄 수 있는 동전 개수 세기\n",
    "    n %= coin\n",
    "    \n",
    "print(count)"
   ]
  },
  {
   "cell_type": "markdown",
   "id": "3ddd0fa7",
   "metadata": {},
   "source": [
    "화폐 종류가 `K`라고 할 때\n",
    "시간 복잡도 `O(K)`"
   ]
  },
  {
   "cell_type": "code",
   "execution_count": null,
   "id": "af7ea6a1",
   "metadata": {},
   "outputs": [],
   "source": []
  }
 ],
 "metadata": {
  "kernelspec": {
   "display_name": "Python 3 (ipykernel)",
   "language": "python",
   "name": "python3"
  },
  "language_info": {
   "codemirror_mode": {
    "name": "ipython",
    "version": 3
   },
   "file_extension": ".py",
   "mimetype": "text/x-python",
   "name": "python",
   "nbconvert_exporter": "python",
   "pygments_lexer": "ipython3",
   "version": "3.9.12"
  }
 },
 "nbformat": 4,
 "nbformat_minor": 5
}
