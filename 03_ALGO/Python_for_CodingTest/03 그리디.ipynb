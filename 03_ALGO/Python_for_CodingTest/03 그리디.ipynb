{
 "cells": [
  {
   "cell_type": "markdown",
   "id": "fb15c446",
   "metadata": {},
   "source": [
    "## 그리디 (탐욕법)\n",
    "- 현재 상황에서 지금 당장 좋은 것만 고르는 방법\n",
    "- 최단 경로 찾기\n",
    "    - 플로이드 워셜, 다익스트라 알고리즘"
   ]
  },
  {
   "cell_type": "markdown",
   "id": "55651840",
   "metadata": {},
   "source": [
    "### 예제 3-1 거스름돈\n",
    "\n",
    "거스름돈으로 사용할 500원, 100원, 50원, 10원\\\n",
    "손님에게 거슬러 줘야 할 돈이 N원일 때 거슬러 줘야 할 동전의 최소 개수\\\n",
    "단, 거슬러 줘야 할 돈 N은 항상 10의 배수"
   ]
  },
  {
   "cell_type": "markdown",
   "id": "fa3654e4",
   "metadata": {},
   "source": [
    "문제 해설\n",
    "- '가장 큰 화폐 단위부터' 돈을 거슬러 주는 것\n",
    "\n",
    "입력 : N = 1260\n",
    "<br>\n",
    "<br>\n",
    "step0 : 남은 돈 : 1260원\\\n",
    "        500 >> 0, 100 >> 0, 50>> 0, 10>> 0\\\n",
    "<br>\n",
    "step1 : 남은 돈 : 260원\\\n",
    "        500 >> 2, 100>> 0, 50 >> 0, 10 >> 0\\\n",
    "<br>\n",
    "step2 : 남은 돈 : 60원\\\n",
    "        500 >> 2, 100 >> 2, 50 >> 0, 10 >> 0\n",
    "<br>        \n",
    "step3 : 남은 돈 : 10원\\\n",
    "        500 >> 2, 100 >> 2, 50 >> 1, 10 >> 0\n",
    "<br>        \n",
    "step4 : 남은 돈 : 0원\\\n",
    "        500 >> 2, 100 >> 2, 50 >> 1, 10 >> 1\n",
    "<br>        \n",
    "출력 : 6"
   ]
  },
  {
   "cell_type": "code",
   "execution_count": 5,
   "id": "89a7c22d",
   "metadata": {},
   "outputs": [
    {
     "name": "stdout",
     "output_type": "stream",
     "text": [
      "6\n"
     ]
    }
   ],
   "source": [
    "n = 1260\n",
    "count = 0\n",
    "\n",
    "# 큰 단위의 화폐부터 차례대로 확인\n",
    "coin_types = [500, 100, 50, 10]\n",
    "\n",
    "for coin in coin_types:\n",
    "    count += n // coin  # 해당 화폐로 거슬러 줄 수 있는 동전 개수 세기\n",
    "    n %= coin\n",
    "    \n",
    "print(count)"
   ]
  },
  {
   "cell_type": "markdown",
   "id": "3ddd0fa7",
   "metadata": {},
   "source": [
    "화폐 종류가 `K`라고 할 때\n",
    "시간 복잡도 `O(K)`"
   ]
  },
  {
   "cell_type": "markdown",
   "id": "e07d3fe1",
   "metadata": {},
   "source": [
    "### 예제 3-2 큰 수의 법칙"
   ]
  },
  {
   "cell_type": "markdown",
   "id": "d92aafb8",
   "metadata": {},
   "source": [
    "입력\n",
    "- 첫째 줄에 N(2<=N<=1000), M(1<=M<=10000), K(1<=K<=10000)의 자연수가 주어지며, 각 자연수는 공백으로 구분\n",
    "- 둘쨰 줄에 N개의 자연수, 각 자연수는 공백으로 구분, 단, 각각의 자연수 1이상 10,000 이하의 수로 주어진다\n",
    "- 입력으로 주어지는 K는 항상 M보다 작거나 같다\n",
    "\n",
    "출력\n",
    "- 첫째 줄에 동빈이의 큰 수의 법칙에 따라 더해진 답을 출력"
   ]
  },
  {
   "cell_type": "markdown",
   "id": "6ee261a5",
   "metadata": {},
   "source": [
    "입력 예시\n",
    "```\n",
    "5 8 3\n",
    "2 4 5 4 6\n",
    "```\n",
    "출력 예시\n",
    "```\n",
    ">> 46\n",
    "```"
   ]
  },
  {
   "cell_type": "code",
   "execution_count": null,
   "id": "3a4d2ed3",
   "metadata": {},
   "outputs": [],
   "source": [
    "완성률 50%"
   ]
  },
  {
   "cell_type": "code",
   "execution_count": 4,
   "id": "aa5e90a0",
   "metadata": {},
   "outputs": [
    {
     "name": "stdout",
     "output_type": "stream",
     "text": [
      "5 8 3\n",
      "2 4 5 4 6\n",
      "46\n"
     ]
    }
   ],
   "source": [
    "n, m, k = map(int, input().split())\n",
    "num = list(map(int, input().split()))\n",
    "sum = 0\n",
    "\n",
    "num.sort(reverse = True)\n",
    "first = num[0]\n",
    "second = num[1]\n",
    "\n",
    "while True:\n",
    "    for i in range(k):\n",
    "        if m == 0:\n",
    "            break\n",
    "        sum += first\n",
    "        m -= 1\n",
    "    if m ==0:\n",
    "        break\n",
    "    sum += second\n",
    "    m -= 1\n",
    "print(sum)"
   ]
  },
  {
   "cell_type": "raw",
   "id": "50d4cddd",
   "metadata": {},
   "source": [
    "3-2.py 답안 예시\n",
    "\n",
    "int(M / (K+1)) * K + M % (K+1)\n",
    "\n",
    "6 6 6 5 | 6 6 6 5\n",
    "(K + 1) | (K + 1)  >> 2번\n",
    "int(M / (K+1)) >> 2\n",
    "int(M / (K+1)) * K\n",
    "= (M//(K+1)) * K \n",
    "M % (K+1) 나누어 떨어지지 않는 경우 나머지\n",
    "\n",
    "int(M / (K+1)) * K + M % (K+1)\n",
    ">> first 더해지는 개수 = count\n",
    "\n",
    "m - count >> second 더해지는 개수"
   ]
  },
  {
   "cell_type": "code",
   "execution_count": 3,
   "id": "f05ba634",
   "metadata": {},
   "outputs": [
    {
     "name": "stdout",
     "output_type": "stream",
     "text": [
      "5 8 3\n",
      "2 4 5 4 6\n",
      "46\n"
     ]
    }
   ],
   "source": [
    "N, M, K = map(int, input().split())\n",
    "num = list(map(int, input().split()))\n",
    "sum = 0\n",
    "\n",
    "num.sort(reverse = True)\n",
    "first = num[0]\n",
    "second = num[1]\n",
    "\n",
    "count = (M//(K+1)) * K\n",
    "count += (M % (K+1))\n",
    "\n",
    "sum += count * first\n",
    "sum += second * (m-count)\n",
    "\n",
    "print(sum)"
   ]
  },
  {
   "cell_type": "code",
   "execution_count": 2,
   "id": "3bdd1e57",
   "metadata": {},
   "outputs": [
    {
     "name": "stdout",
     "output_type": "stream",
     "text": [
      "5 8 3\n",
      "2 4 5 4 6\n",
      "46\n"
     ]
    }
   ],
   "source": [
    "# 3-2.py 답안\n",
    "# N, M, K를 공백으로 구분하여 입력받기\n",
    "n, m, k = map(int, input().split())\n",
    "# N개의 수를 공백으로 구분하여 입력받기\n",
    "data = list(map(int, input().split()))\n",
    "\n",
    "data.sort()  # 입력받은 수 정렬\n",
    "first = data[n-1]  # 가장 큰 수\n",
    "second = data[n-2]  # 두 번째로 큰 수\n",
    "\n",
    "# 가장 큰 수가 더해지는 횟수 계산\n",
    "count = int(m / (k+1)) * k\n",
    "count += m % (k+1)\n",
    "\n",
    "result = 0\n",
    "result += (count) * first   # 가장 큰 수를 더하기\n",
    "result += (m - count) * second   # 두 번째로 큰 수 더하기\n",
    "\n",
    "print(result)   # 최종 답안 출력"
   ]
  },
  {
   "cell_type": "code",
   "execution_count": null,
   "id": "1e8a57ea",
   "metadata": {},
   "outputs": [],
   "source": []
  }
 ],
 "metadata": {
  "kernelspec": {
   "display_name": "Python 3 (ipykernel)",
   "language": "python",
   "name": "python3"
  },
  "language_info": {
   "codemirror_mode": {
    "name": "ipython",
    "version": 3
   },
   "file_extension": ".py",
   "mimetype": "text/x-python",
   "name": "python",
   "nbconvert_exporter": "python",
   "pygments_lexer": "ipython3",
   "version": "3.9.12"
  }
 },
 "nbformat": 4,
 "nbformat_minor": 5
}
