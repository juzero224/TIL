{
 "cells": [
  {
   "cell_type": "markdown",
   "id": "080aabd5",
   "metadata": {},
   "source": [
    "## 그리디 (탐욕법)\n",
    "- 현재 상황에서 지금 당장 좋은 것만 고르는 방법\n",
    "- 최단 경로 찾기\n",
    "    - 플로이드 워셜, 다익스트라 알고리즘"
   ]
  },
  {
   "cell_type": "markdown",
   "id": "64b7cd0f",
   "metadata": {},
   "source": [
    "### 예제 3-1 거스름돈\n",
    "\n",
    "거스름돈으로 사용할 500원, 100원, 50원, 10원\\\n",
    "손님에게 거슬러 줘야 할 돈이 N원일 때 거슬러 줘야 할 동전의 최소 개수\\\n",
    "단, 거슬러 줘야 할 돈 N은 항상 10의 배수"
   ]
  },
  {
   "cell_type": "code",
   "execution_count": 3,
   "id": "6afdaeee",
   "metadata": {},
   "outputs": [
    {
     "name": "stdout",
     "output_type": "stream",
     "text": [
      "5870\n",
      "17\n"
     ]
    }
   ],
   "source": [
    "N = int(input())\n",
    "cnt = 0\n",
    "coins = [500, 100, 50, 10]\n",
    "'''\n",
    "3580\n",
    "3580 // 500 = 7\n",
    "3580 % 500 = 80\n",
    "\n",
    "80 // 50 = 1\n",
    "80 % 50 = 30\n",
    "\n",
    "30 // 10 = 3\n",
    "30 % 10 = 0\n",
    "'''\n",
    "\n",
    "for coin in coins:\n",
    "    cnt += (N // coin)\n",
    "    N %= coin\n",
    "    \n",
    "print(cnt)"
   ]
  },
  {
   "cell_type": "code",
   "execution_count": null,
   "id": "ab64a90b",
   "metadata": {},
   "outputs": [],
   "source": []
  }
 ],
 "metadata": {
  "kernelspec": {
   "display_name": "Python 3 (ipykernel)",
   "language": "python",
   "name": "python3"
  },
  "language_info": {
   "codemirror_mode": {
    "name": "ipython",
    "version": 3
   },
   "file_extension": ".py",
   "mimetype": "text/x-python",
   "name": "python",
   "nbconvert_exporter": "python",
   "pygments_lexer": "ipython3",
   "version": "3.9.12"
  }
 },
 "nbformat": 4,
 "nbformat_minor": 5
}
