{
 "cells": [
  {
   "cell_type": "markdown",
   "id": "7d37bba1",
   "metadata": {},
   "source": [
    "## 04-2 왕실의 나이트"
   ]
  },
  {
   "cell_type": "markdown",
   "id": "52700a01",
   "metadata": {},
   "source": [
    "행복 왕국의 왕실 정원은 체스판과 같은 8 x 8 좌표 평면. 왕실 정원의 특정한 한 칸에 나이트가 서 있다.\n",
    "\n",
    "나이트는 말을 타고 있기 때문에 이동을 할 때는 L자 형태로만 이동할 수 있고, 정원 밖으로는 나갈 수 없다.\n",
    "\n",
    "나이트는 특정한 위치에서 다음과 같은 2가지 경우로 이동할 수 있다.\n",
    "\n",
    "1. 수평으로 두 칸 이동한 뒤에 수직으로 한 칸 이동하기\n",
    "2. 수직으로 두 칸 이동한 뒤에 수평으로 한 칸 이동하기\n",
    "\n",
    "이처럼 8 x 8 좌표 평면상에서 나이트의 위치가 주어졌을 떄 나이트가 이동할 수 있는 경우의 수를 출력하는 프로그램을 작성하시오.\n",
    "\n",
    "이때 왕실의 정원에서 행 위치를 표현할 때는 1부터 8로 표현하며, 열 위치를 표현할 때는 a부터 h로 표현함\n"
   ]
  },
  {
   "cell_type": "markdown",
   "id": "3d803ce1",
   "metadata": {},
   "source": [
    "예1) 나이트가 a1  ->  경우의 수는 2가지\n",
    "\n",
    "a1 위치는 좌표 평면에서 구석의 위치에 해당하며 나이트는 정원의 밖으로 나갈 수 없음\n",
    "1. 오른쪽으로 두 칸 이동 후 아래로 한 칸 이동하기 (c2)\n",
    "2. 아래로 두 칸 이동 후 오른쪽으로 한 칸 이동하기 (b3)\n",
    "\n",
    "예2) 나이트 c2 ->  경우의 수 6가지"
   ]
  },
  {
   "cell_type": "markdown",
   "id": "f4068e54",
   "metadata": {},
   "source": [
    "입력 조건\n",
    "- 첫째 줄에 8 x 8 좌표 평면상에서 현재 나이트가 위치한 곳의 좌표를 나타내는 두 문자로 구성된 문자열이 입력된다. \n",
    "  입력 문자는 a1처럼 열과 행으로 이뤄진다.\n",
    "\n",
    "출력 조건\n",
    "- 첫째 줄에 나이트가 이동할 수 있는 경우의 수를 출력"
   ]
  },
  {
   "cell_type": "markdown",
   "id": "048d252a",
   "metadata": {},
   "source": [
    "입력 예시\n",
    "```\n",
    "a1\n",
    "```\n",
    "출력 예시\n",
    "```\n",
    ">> 2\n",
    "```"
   ]
  },
  {
   "cell_type": "code",
   "execution_count": null,
   "id": "c3b34f4e",
   "metadata": {},
   "outputs": [],
   "source": [
    "'''\n",
    "나이트 \n",
    "a1 -> b1 -> c1 -> c2 (1,2)\n",
    "a1 -> a2 -> a3 -> b3 (3,1)\n",
    "\n",
    "나이트 \n",
    "c2 -> d2 -> e2 -> e1 / e3  (1,5)/(3,5)\n",
    "c2 -> c3 -> c4 -> b4 / d4  (4,2)/(4,4)\n",
    "c2 -> b2 -> a2 -> a1 / a3  (1,1)/(3,1)\n",
    "\n",
    "수평 row 2 / 수직 col 1\n",
    "수직 col 2 / 수평 row 1\n",
    "'''"
   ]
  },
  {
   "cell_type": "code",
   "execution_count": 17,
   "id": "a5dc0732",
   "metadata": {},
   "outputs": [
    {
     "name": "stdout",
     "output_type": "stream",
     "text": [
      "c2\n",
      "6\n"
     ]
    }
   ],
   "source": [
    "knight = input()\n",
    "cnt = 0\n",
    "\n",
    "abc = {'a':1, 'b':2, 'c':3, 'd':4, 'e':5, 'f':6, 'g':7, 'h':8}  # 1.\n",
    "\n",
    "col = abc[knight[0]]  # 2.\n",
    "row = int(knight[1])  # 3.\n",
    "\n",
    "move = [[row-2, col+1],  # 4.\n",
    "        [row-2, col-1],\n",
    "        [row+2, col+1],\n",
    "        [row+2, col-1],\n",
    "        [row+1, col+2],\n",
    "        [row+1, col-2],\n",
    "        [row-1, col+2],\n",
    "        [row-1, col-2]]\n",
    "\n",
    "for m in move:   # 5.\n",
    "    if 1 <= m[0] and m[0] <= 8:  # m[0] : row\n",
    "        if 1 <= m[1] and m[1] <= 8:  # m[1] : col\n",
    "            cnt += 1\n",
    "#             print(m[0],m[1])\n",
    "print(cnt)"
   ]
  },
  {
   "cell_type": "markdown",
   "id": "3e13987f",
   "metadata": {},
   "source": [
    "풀이\n",
    "1. abc : 열 (a~h) 의 정수 컬럼 값을 딕셔너리 형태로 지정\n",
    "2. col(열) : input으로 받은 knight의 첫번째 값을 abc 딕셔너리에서 찾음\n",
    "3. row(행) : input으로 받은 knight의 두번째 값\n",
    "4. move : 나이트가 갈 수 있는 위치의 경우의 수\n",
    "5. move에서 리스트를 돌면서 8x8 좌표를 벗어나지 않는 경우의 횟수를 cnt로 셈"
   ]
  },
  {
   "cell_type": "markdown",
   "id": "2a668a78",
   "metadata": {},
   "source": [
    "### 4-3.py 답안 예시"
   ]
  },
  {
   "cell_type": "code",
   "execution_count": 22,
   "id": "53ca6a95",
   "metadata": {},
   "outputs": [
    {
     "name": "stdout",
     "output_type": "stream",
     "text": [
      "a1\n",
      "2\n"
     ]
    }
   ],
   "source": [
    "# 현재 나이트의 위치 입력받기\n",
    "input_data = input()\n",
    "row = int(input_data[1])\n",
    "column = int(ord(input_data[0])) - int(ord('a')) +1  # ord('a') = 97\n",
    "\n",
    "# 나이트가 이동할 수 있는 8가지 방향 정의\n",
    "steps = [(-2,-1), (-1,-2), (1,-2), (2,-1), (2,1), (1,2), (-1,2), (-2,1)]\n",
    "\n",
    "# 8가지 방향에 대하여 각 위치로 이동이 가능한지 확인\n",
    "result = 0\n",
    "for step in steps:\n",
    "    # 이동하고자 하는 위치 확인\n",
    "    next_row = row + step[0]\n",
    "    next_column = column + step[1]\n",
    "    # 해당 위치로 이동이 가능하다면 카운트 증가\n",
    "    if next_row >= 1 and next_row <= 8 and next_column >= 1 and next_column <= 8:\n",
    "        result += 1\n",
    "        \n",
    "print(result)"
   ]
  },
  {
   "cell_type": "markdown",
   "id": "a41922cf",
   "metadata": {},
   "source": [
    "steps 대신 이것도 가능\n",
    "```\n",
    "dx = [-2, -2, 2, 2, -1, -1, 1, 1]\n",
    "dy = [-1, 1, -1 ,1 -2, 2, -2, 2]\n",
    "```"
   ]
  },
  {
   "cell_type": "markdown",
   "id": "08661c89",
   "metadata": {},
   "source": [
    "### review"
   ]
  },
  {
   "cell_type": "markdown",
   "id": "1f7faa60",
   "metadata": {},
   "source": [
    "```\n",
    "ord() : 문자열을 아스키코드로 반환할 수 있는 함수\n",
    "chr() : 아스키코드를 문자열로 변환하는 함수\n",
    "```"
   ]
  },
  {
   "cell_type": "code",
   "execution_count": 20,
   "id": "4d239e7b",
   "metadata": {},
   "outputs": [
    {
     "data": {
      "text/plain": [
       "97"
      ]
     },
     "execution_count": 20,
     "metadata": {},
     "output_type": "execute_result"
    }
   ],
   "source": [
    "ord('a')"
   ]
  },
  {
   "cell_type": "code",
   "execution_count": 21,
   "id": "7c14be46",
   "metadata": {},
   "outputs": [
    {
     "data": {
      "text/plain": [
       "122"
      ]
     },
     "execution_count": 21,
     "metadata": {},
     "output_type": "execute_result"
    }
   ],
   "source": [
    "ord('z')"
   ]
  }
 ],
 "metadata": {
  "kernelspec": {
   "display_name": "Python 3 (ipykernel)",
   "language": "python",
   "name": "python3"
  },
  "language_info": {
   "codemirror_mode": {
    "name": "ipython",
    "version": 3
   },
   "file_extension": ".py",
   "mimetype": "text/x-python",
   "name": "python",
   "nbconvert_exporter": "python",
   "pygments_lexer": "ipython3",
   "version": "3.9.12"
  }
 },
 "nbformat": 4,
 "nbformat_minor": 5
}
