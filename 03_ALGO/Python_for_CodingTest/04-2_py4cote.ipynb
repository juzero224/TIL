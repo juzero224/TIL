{
 "cells": [
  {
   "cell_type": "markdown",
   "id": "e19bfa6e",
   "metadata": {},
   "source": [
    "## 04-2 시각"
   ]
  },
  {
   "cell_type": "markdown",
   "id": "f1275c06",
   "metadata": {},
   "source": [
    "정수 N이 입력되면 00시 00분 00초부터 N시 59분 59초까지의 모든 시각 중에서 3이 하나라도 포함되는 모든 경우의 수를 구하는 프로그램\n",
    "\n",
    "예를 들어, 1을 입력했을 때 다음은 3이 하나라도 포함되어 있으므로 세어야 하는 시각\n",
    "\n",
    "- 00시 00분 03초\n",
    "- 00시 13분 30초\n",
    "\n",
    "반면은 다음은 3이 하나도 포함되어 있지 않으므로 세면 안 되는 시각\n",
    "- 00시 02분 55초\n",
    "- 01시 27분 45초"
   ]
  },
  {
   "cell_type": "markdown",
   "id": "11bb831e",
   "metadata": {},
   "source": [
    "입력 조건\n",
    "- 첫째 줄에 정수 N이 입력됨 (0<=N<=23)\n",
    "\n",
    "출력 조건\n",
    "- 00시 00분 00초부터 N시 59분 59초까지의 모든 시각 중에서 3이 하나라도 포함되는 모든 경우의 수 출력"
   ]
  },
  {
   "cell_type": "markdown",
   "id": "dad25160",
   "metadata": {},
   "source": [
    "입력 예시\n",
    "```\n",
    "5\n",
    "```\n",
    "출력 예시\n",
    "```\n",
    ">> 11475\n",
    "```"
   ]
  },
  {
   "cell_type": "markdown",
   "id": "2c1a9dfb",
   "metadata": {},
   "source": [
    "### 풀이1"
   ]
  },
  {
   "cell_type": "code",
   "execution_count": null,
   "id": "269b9a18",
   "metadata": {},
   "outputs": [],
   "source": [
    "'''\n",
    "n = 5\n",
    "hour 0~4\n",
    "minute 60\n",
    "second 60\n",
    "\n",
    "00 13 30\n",
    "\n",
    "'''"
   ]
  },
  {
   "cell_type": "code",
   "execution_count": 37,
   "id": "86b9f211",
   "metadata": {},
   "outputs": [
    {
     "name": "stdout",
     "output_type": "stream",
     "text": [
      "23\n",
      "43875\n"
     ]
    }
   ],
   "source": [
    "N = int(input())  # = hour\n",
    "cnt = 0\n",
    "\n",
    "for h in range(N+1):  # 시  # 1.\n",
    "    for m in range(60):  # 분  # 2.\n",
    "        for s in range(60):  # 초 \n",
    "#             print(str(h)+str(m)+str(s))  # 3.\n",
    "            if '3' in str(h)+str(m)+str(s):  # 4.\n",
    "                cnt += 1  # 5.\n",
    "print(cnt)"
   ]
  },
  {
   "cell_type": "markdown",
   "id": "280f1354",
   "metadata": {},
   "source": [
    "풀이\n",
    "1. N (=hour)시 59분 59초 까지이므로 for문으로 N+1번 돌고 (n=5 -> 0 1 2 3 4 5)\n",
    "2. minute은 60분, second도 60초 이므로 for문을 60번 돈다\n",
    "3. str(h)+str(m)+str(s) 으로 하면 03013 이런식으로 붙여서 나오고 각 위치를 판단할 수 있음\n",
    "4. in을 사용해서 str(h)+str(m)+str(s) 각 위치에 '3'이 포함 된다면 \n",
    "- (string이므로 3이 아닌 '3')\n",
    "5. cnt 개수 1 추가"
   ]
  },
  {
   "cell_type": "markdown",
   "id": "8b717766",
   "metadata": {},
   "source": [
    "### 풀이 2"
   ]
  },
  {
   "cell_type": "code",
   "execution_count": null,
   "id": "4561d1e9",
   "metadata": {},
   "outputs": [],
   "source": [
    "'''\n",
    "hour\n",
    "minute\n",
    "second\n",
    "3이 포함되어 있으면 cnt\n",
    "\n",
    "second\n",
    "03 13 23 33 43 53\n",
    "30 31 32 33(x) 34 35 36 37 38 39\n",
    ">> 15개\n",
    "\n",
    "minute\n",
    ">> 15개\n",
    "\n",
    "hour\n",
    "0 1 2 4 5 6 7 8 9 10 11 12 14 15 16 17 18 19 20 21 22 >> (15x60 + 60x15 - 15x15) (AuB = A + B - AnB)\n",
    "3 13 23 >> 60 x 60\n",
    "\n",
    "N = 5\n",
    "(15x60 + 60x15 - 15x15)x5 + (60x60)x1 == 11475\n",
    "'''"
   ]
  },
  {
   "cell_type": "code",
   "execution_count": 25,
   "id": "894a0fd1",
   "metadata": {},
   "outputs": [
    {
     "data": {
      "text/plain": [
       "11475"
      ]
     },
     "execution_count": 25,
     "metadata": {},
     "output_type": "execute_result"
    }
   ],
   "source": [
    "# n = 5\n",
    "(15*60+60*15-15*15)*5 + (60*60)*1"
   ]
  },
  {
   "cell_type": "code",
   "execution_count": 36,
   "id": "2b4f0164",
   "metadata": {},
   "outputs": [
    {
     "data": {
      "text/plain": [
       "43875"
      ]
     },
     "execution_count": 36,
     "metadata": {},
     "output_type": "execute_result"
    }
   ],
   "source": [
    "# n = 23\n",
    "(15*60+60*15-15*15)*21 + (60*60)*3"
   ]
  },
  {
   "cell_type": "code",
   "execution_count": 49,
   "id": "2add6cb8",
   "metadata": {},
   "outputs": [
    {
     "name": "stdout",
     "output_type": "stream",
     "text": [
      "23\n",
      "43875\n"
     ]
    }
   ],
   "source": [
    "N = int(input())\n",
    "cnt_3 = 0\n",
    "cnt_not3 = 0\n",
    "\n",
    "for h in range(N+1):  # 1.\n",
    "    if h == 3 or h == 13 or h == 23:   # 2.\n",
    "#         print(i)\n",
    "        cnt_3 += 1\n",
    "    else:\n",
    "        cnt_not3 += 1  # 3.\n",
    "        \n",
    "# print(cnt_3, cnt_not3)\n",
    "# 15*60+60*15-15*15 = 1575   # 4.\n",
    "# 60*60 = 3600    # 5.\n",
    "\n",
    "result = 1575*cnt_not3 + 3600*cnt_3   # 6.\n",
    "print(result)"
   ]
  },
  {
   "cell_type": "markdown",
   "id": "38c0cb97",
   "metadata": {},
   "source": [
    "풀이\n",
    "1. N (=hour)시 59분 59초 까지이므로 for문으로 N+1번 돌고 (n=5 -> 0 1 2 3 4 5)\n",
    "2. 만약 h가 3 또는 13 또는 23 이면 cnt_3 개수 1 추가\n",
    "3. 만약 h에 3이 들어가지 않는다면 cnt_not3 개수 1 추가\n",
    "4. hour가 3이 들어가지 않을 때 minute과 second 가 3이 나올 경우의 수\n",
    "5. hour가 3이 들어갈 때 minute과 second 모든 경우의 수\n",
    "6. 각 경우의 수에 for문을 돌며 구한 각 cnt개수를 곱함"
   ]
  },
  {
   "cell_type": "code",
   "execution_count": null,
   "id": "a968bd4d",
   "metadata": {},
   "outputs": [],
   "source": []
  }
 ],
 "metadata": {
  "kernelspec": {
   "display_name": "Python 3 (ipykernel)",
   "language": "python",
   "name": "python3"
  },
  "language_info": {
   "codemirror_mode": {
    "name": "ipython",
    "version": 3
   },
   "file_extension": ".py",
   "mimetype": "text/x-python",
   "name": "python",
   "nbconvert_exporter": "python",
   "pygments_lexer": "ipython3",
   "version": "3.9.12"
  }
 },
 "nbformat": 4,
 "nbformat_minor": 5
}
