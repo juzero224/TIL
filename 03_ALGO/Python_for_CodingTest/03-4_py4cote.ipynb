{
 "cells": [
  {
   "cell_type": "markdown",
   "id": "a577e846",
   "metadata": {},
   "source": [
    "## 3-4. 1이 될 때까지"
   ]
  },
  {
   "cell_type": "markdown",
   "id": "a94ac8b3",
   "metadata": {},
   "source": [
    "어떠한 수 N이 1이 될 때까지 다음의 두 과정 중 하나를 반복적으로 선택하여 수행\n",
    "\n",
    "단, 두번째 연산은 N이 K로 나누어떨어질 떄만 선택할 수 있다.\n",
    "\n",
    "1. N에서 1을 뺀다\n",
    "2. N을 K로 나눈다.\n",
    "\n",
    "N과 K가 주어질 때 N이 1이 될 떄까지 1번 혹은 2번 과정을 수행해야 하는 최소 횟수를 구하는 프로그램\n",
    "\n",
    "```\n",
    "ex. N = 17, K = 4\n",
    "\n",
    "1 1. -> 16\n",
    "2 2. -> 4\n",
    "3 2. -> 1\n",
    ">> 3\n",
    "```"
   ]
  },
  {
   "cell_type": "markdown",
   "id": "bbcab20c",
   "metadata": {},
   "source": [
    "입력\n",
    "- 첫째 줄에 N과 K가 공백으로 구분되며 각각 자연수로 주어진다. 이때 입력으로 주어지는 N은 항상 K보다 크거나 같다.\n",
    "\n",
    "출력\n",
    "- 첫째 줄에 N이 1이 될 떄까지 1번 혹은 2번의 과정을 수행해야 하는 횟수의 최솟값을 출력한다."
   ]
  },
  {
   "cell_type": "markdown",
   "id": "242d1695",
   "metadata": {},
   "source": [
    "입력 에시\n",
    "```\n",
    "25 5\n",
    "```\n",
    "출력 예시\n",
    "```\n",
    ">> 2\n",
    "```"
   ]
  },
  {
   "cell_type": "markdown",
   "id": "0ee3f1b0",
   "metadata": {},
   "source": [
    "입력 예시\n",
    "```\n",
    "20 3\n",
    "```\n",
    "```\n",
    "1 1. -> 19\n",
    "2 1. -> 18\n",
    "3 2. -> 6\n",
    "4 2. -> 2\n",
    "5 2. -> 1\n",
    "```\n",
    "출력 예시\n",
    "```\n",
    ">> 5\n",
    "```"
   ]
  },
  {
   "cell_type": "code",
   "execution_count": 14,
   "id": "db0cef87",
   "metadata": {},
   "outputs": [
    {
     "name": "stdout",
     "output_type": "stream",
     "text": [
      "20 3\n",
      "5\n"
     ]
    }
   ],
   "source": [
    "N, K = map(int, input().split())  # 1.\n",
    "cnt=0\n",
    "while (N==1) != True:  # 2.\n",
    "    if N%K==0:\n",
    "        N = N//K  # 2번 수행  # 3.\n",
    "    else:\n",
    "        N -= 1  # 1번 수행  # 4.\n",
    "    cnt+=1  # 5.\n",
    "print(cnt)"
   ]
  },
  {
   "cell_type": "markdown",
   "id": "de858591",
   "metadata": {},
   "source": [
    "풀이\n",
    "1. N,K 를 띄어쓰기 기준으로 입력을 받음\n",
    "2. N==1이 아니라면 while문을 돈다\n",
    "3. 만약 N을 K로 나눈 나머지가 0이라면 N이 K로 나누어 떨어지므로 2번을 수행할 수 있다.\n",
    "4. N%K==0 이 아니라면 N을 하나씩 뺀다. (1번)\n",
    "5. N이 1이 될때까지 횟수를 센다"
   ]
  },
  {
   "cell_type": "code",
   "execution_count": null,
   "id": "75599a78",
   "metadata": {},
   "outputs": [],
   "source": []
  }
 ],
 "metadata": {
  "kernelspec": {
   "display_name": "Python 3 (ipykernel)",
   "language": "python",
   "name": "python3"
  },
  "language_info": {
   "codemirror_mode": {
    "name": "ipython",
    "version": 3
   },
   "file_extension": ".py",
   "mimetype": "text/x-python",
   "name": "python",
   "nbconvert_exporter": "python",
   "pygments_lexer": "ipython3",
   "version": "3.9.12"
  }
 },
 "nbformat": 4,
 "nbformat_minor": 5
}
