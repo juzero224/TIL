{
 "cells": [
  {
   "cell_type": "markdown",
   "id": "5af4a98a",
   "metadata": {},
   "source": [
    "### 예제 3-2 큰 수의 법칙"
   ]
  },
  {
   "cell_type": "markdown",
   "id": "68c8e664",
   "metadata": {},
   "source": [
    "동빈이의 큰 수의 법칙은 다양한 수로 이루어진 배열이 있을 때 주어진 수들을 M번 더하여 가장 큰 수를 만드는 법칙\n",
    "단, 배열의 특정한 인덱스(번호)에 해당하는 수가 연속해서 K번 초과하여 더해질 수 없는 것이 특징\n",
    "\n",
    "예) 2,4,5,4,6으로 이루어진 배열이 있을 때, M=8, K=3\n",
    "\n",
    "6+6+6 + 5 + 6+6+6 + 5 = 46\n",
    "\n",
    "3,4,3,4,3 배열, M=7, K=2\n",
    "\n",
    "4+4+4+4+4+4+4 = 28"
   ]
  },
  {
   "cell_type": "markdown",
   "id": "11acc3a6",
   "metadata": {},
   "source": [
    "입력\n",
    "- 첫째 줄에 N(2<=N<=1000), M(1<=M<=10000), K(1<=K<=10000)의 자연수가 주어지며, 각 자연수는 공백으로 구분\n",
    "- 둘쨰 줄에 N개의 자연수, 각 자연수는 공백으로 구분, 단, 각각의 자연수 1이상 10,000 이하의 수로 주어진다\n",
    "- 입력으로 주어지는 K는 항상 M보다 작거나 같다\n",
    "\n",
    "출력\n",
    "- 첫째 줄에 동빈이의 큰 수의 법칙에 따라 더해진 답을 출력"
   ]
  },
  {
   "cell_type": "markdown",
   "id": "a5d393f0",
   "metadata": {},
   "source": [
    "입력 예시\n",
    "```\n",
    "5 8 3\n",
    "2 4 5 4 6\n",
    "```\n",
    "출력 예시\n",
    "```\n",
    ">> 46\n",
    "```"
   ]
  },
  {
   "cell_type": "code",
   "execution_count": null,
   "id": "32052157",
   "metadata": {},
   "outputs": [],
   "source": [
    "'''\n",
    "6,5,4,4,2 -> 6*3 + 5 + 6*3\n",
    "\n",
    "i[0]*K + i[1] + i[0]*K + i[1]\n",
    "\n",
    "i[0]*K*M//k\n",
    "i[1]*M%K\n",
    "(x)\n",
    "이거실패...\n",
    "-------------\n",
    "44 4 44 4 4\n",
    "\n",
    "i[0]*K+i[1])*2 i[0]*1\n",
    "i[0]*(M//(k+1)*K + M%(K+1))\n",
    "i[1]*(M//(K+1))\n",
    "'''"
   ]
  },
  {
   "cell_type": "code",
   "execution_count": 29,
   "id": "c81f8d80",
   "metadata": {},
   "outputs": [
    {
     "name": "stdout",
     "output_type": "stream",
     "text": [
      "5 8 3\n",
      "2 4 5 4 6\n",
      "46\n"
     ]
    }
   ],
   "source": [
    "import time\n",
    "N, M, K = map(int, input().split())\n",
    "\n",
    "num = list(map(int, input().split()))\n",
    "\n",
    "num.sort(reverse=True)\n",
    "\n",
    "# result = num[0]*K*(M//K) + num[1]*(M%K) ==> (X)\n",
    "result = num[0]*(M//(K+1)*K + M%(K+1)) + num[1]*(M//(K+1))\n",
    "\n",
    "print(result)"
   ]
  },
  {
   "cell_type": "markdown",
   "id": "231e0ae9",
   "metadata": {},
   "source": [
    "풀이\n",
    "\n",
    "가장 큰 수를 M번 더해야 하므로 먼저, num을 list로 받아 내림차순으로 해줌\n",
    "\n",
    "내림차순에서 첫번째 위치의 값이 가장 큰 수 이기 때문에 num[0]\n",
    "\n",
    "그리고 두번째로 큰 수는 num[1]\n",
    "\n",
    "예시를 통해 일반화를 해보면\n",
    "\n",
    "N=5, M=8, K=3 일 때, num[0]=6, num[1]=5 라면\n",
    "\n",
    "6+6+6 + 5 + 6+6+6 + 5\n",
    "\n",
    "= (6+6+6+5)*2\n",
    "\n",
    "= (6*3 + 5)*2\n",
    "\n",
    "= (num[0]*K + num[1])*2\n",
    "이다.\n",
    "\n",
    "이때, 마지막에 곱해지는 횟수는 M//(K+1)이라고 볼 수 있다.\n",
    "\n",
    "그리고 M/(K+1)로 나누어 떨어지지 않는 경우를 생각해보면\n",
    "\n",
    "N=5, M=8, K=4\n",
    "\n",
    "6+6+6+6+5 + 6+6+6\n",
    "\n",
    "= (6*K + 5) + 6*3\n",
    "\n",
    "= (num[0]*K + num[1])*1 + num[0]*3\n",
    "\n",
    "이므로 num[0]에 M%(K+1)를 곱해야 함을 알 수 있다.\n",
    "\n",
    "따라서 num[0]*(K*M//(K+1) + M%(K+1)) + num[1]*(M//(K+1))"
   ]
  },
  {
   "cell_type": "code",
   "execution_count": null,
   "id": "e46dab5b",
   "metadata": {},
   "outputs": [],
   "source": []
  }
 ],
 "metadata": {
  "kernelspec": {
   "display_name": "Python 3 (ipykernel)",
   "language": "python",
   "name": "python3"
  },
  "language_info": {
   "codemirror_mode": {
    "name": "ipython",
    "version": 3
   },
   "file_extension": ".py",
   "mimetype": "text/x-python",
   "name": "python",
   "nbconvert_exporter": "python",
   "pygments_lexer": "ipython3",
   "version": "3.9.12"
  }
 },
 "nbformat": 4,
 "nbformat_minor": 5
}
