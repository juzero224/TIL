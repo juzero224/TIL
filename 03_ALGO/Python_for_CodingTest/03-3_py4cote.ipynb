{
 "cells": [
  {
   "cell_type": "markdown",
   "id": "de9a6e12",
   "metadata": {},
   "source": [
    "## 3-3 숫자 카드 게임"
   ]
  },
  {
   "cell_type": "markdown",
   "id": "37ecef40",
   "metadata": {},
   "source": [
    "여러 개의 숫자 중에서 가장 높은 숫자가 쓰인 카드 한 장을 뽑는 게임\n",
    "1. 숫자 카드 N x M \n",
    "2. 먼저 뽑고자 하는 카드가 포함되어 있는 행 선택\n",
    "3. 그다음 선택된 행에 포함된 카드들 중 가장 숫자가 낮은 카드\n",
    "4. 행 선택할 때 해당 행에서 가장 숫자가 낮은 카드 뽑을 것을 고려하여\n",
    "최종적으로 가장 높은 숫자의 카드를 뽑을 수 있도록 전략을 세워야 함"
   ]
  },
  {
   "cell_type": "markdown",
   "id": "984f4549",
   "metadata": {},
   "source": [
    "입력\n",
    "- 첫째 줄에 숫자 카드들이 놓인 행의 개수 N과 열의 개수 M이 공백을 기준으로 각각 자연수로 주어짐\n",
    "- 둘째 줄부터 N개 줄에 걸쳐 각 카드에 적힌 숫자가 주어짐\n",
    "    \n",
    "출력 \n",
    "- 첫째 줄에 게임의 룰에 맞게 선택한 카드에 적힌 숫자를 출력"
   ]
  },
  {
   "cell_type": "markdown",
   "id": "67e0755c",
   "metadata": {},
   "source": [
    "입력 예시1\n",
    "```\n",
    "3 3\n",
    "3 1 2\n",
    "4 1 4\n",
    "2 2 2\n",
    "```\n",
    "출력 예시1\n",
    "```\n",
    ">> 2\n",
    "```\n",
    "입력 예시2\n",
    "```\n",
    "2 4\n",
    "7 3 1 8\n",
    "3 3 3 4\n",
    "```\n",
    "출력 예시2\n",
    "```\n",
    ">> 3\n",
    "```"
   ]
  },
  {
   "cell_type": "code",
   "execution_count": 28,
   "id": "862ff9e8",
   "metadata": {},
   "outputs": [
    {
     "name": "stdout",
     "output_type": "stream",
     "text": [
      "5 6\n",
      "1 2 3 4 5 6\n",
      "4 5 6 7 8 9\n",
      "8 9 10 11 12 13\n",
      "2 4 6 8 10\n",
      "5 8 9 8 3 2\n",
      "8\n"
     ]
    }
   ],
   "source": [
    "N, M = map(int, input().split())  # 1.\n",
    "answer = 0\n",
    "for i in range(N):  # 2.\n",
    "    card = list(map(int, input().split()))  # 3.\n",
    "    min_num = min(card)  # 4.\n",
    "    if answer < min_num:\n",
    "        answer = min_num   # 5.\n",
    "print(answer)  # 6."
   ]
  },
  {
   "cell_type": "markdown",
   "id": "11e70586",
   "metadata": {},
   "source": [
    "풀이\n",
    "1. N과 M을 띄어쓰기를 기준으로 입력받음\n",
    "2. N개 만큼 for문을 돌면서\n",
    "3. M개를 정수 입력받아서 리스트로 만들어 card에 저장\n",
    "4. 리스트 card 중 가장 작은 정수를 min_num이라고 저장\n",
    "5. 0으로 초기화된 answer보다 min_num이 크다면 min_num을 answer로 업데이트\n",
    "6. for문을 다 돌고 나서 각 N개의 list의 가장 작은 값 중 가장 큰 값을 answer로 함"
   ]
  },
  {
   "cell_type": "code",
   "execution_count": 29,
   "id": "945e0bd2",
   "metadata": {},
   "outputs": [
    {
     "name": "stdout",
     "output_type": "stream",
     "text": [
      "5 6\n",
      "1 2 3 4 5 6\n",
      "4 5 6 7 8 9\n",
      "8 9 10 11 12 13\n",
      "2 4 6 8 10 12\n",
      "5 8 9 8 3 2\n",
      "8\n"
     ]
    }
   ],
   "source": [
    "# 3-3.py\n",
    "n, m = map(int, input().split())\n",
    "result = 0\n",
    "for i in range(n):\n",
    "    data = list(map(int, input().split()))\n",
    "    min_value = min(data)\n",
    "    result = max(result,min_value)\n",
    "print(result)"
   ]
  }
 ],
 "metadata": {
  "kernelspec": {
   "display_name": "Python 3 (ipykernel)",
   "language": "python",
   "name": "python3"
  },
  "language_info": {
   "codemirror_mode": {
    "name": "ipython",
    "version": 3
   },
   "file_extension": ".py",
   "mimetype": "text/x-python",
   "name": "python",
   "nbconvert_exporter": "python",
   "pygments_lexer": "ipython3",
   "version": "3.9.12"
  }
 },
 "nbformat": 4,
 "nbformat_minor": 5
}
