{
 "cells": [
  {
   "cell_type": "markdown",
   "id": "2ec102b7",
   "metadata": {},
   "source": [
    "## 자릿수 더하기"
   ]
  },
  {
   "cell_type": "code",
   "execution_count": 5,
   "id": "4cd506d8",
   "metadata": {},
   "outputs": [
    {
     "name": "stdout",
     "output_type": "stream",
     "text": [
      "15\n"
     ]
    }
   ],
   "source": [
    "n = str(12345)\n",
    "answer = 0\n",
    "\n",
    "for i in range(len(n)):\n",
    "    answer += int(n[i])\n",
    "print(answer)"
   ]
  },
  {
   "cell_type": "code",
   "execution_count": 6,
   "id": "f6dc165b",
   "metadata": {},
   "outputs": [],
   "source": [
    "def solution(n):\n",
    "    num = str(n) # n을 string으로 만들고 num에 지정\n",
    "    answer=0\n",
    "    for i in range(len(num)):  # num을 길이만큼 for문을 돌면서\n",
    "        answer += int(num[i]) # num의 i번째 위치를 int로 바꾼뒤 answer에 차례로 더함\n",
    "    return answer"
   ]
  },
  {
   "cell_type": "code",
   "execution_count": 10,
   "id": "23e0abfc",
   "metadata": {},
   "outputs": [
    {
     "data": {
      "text/plain": [
       "6"
      ]
     },
     "execution_count": 10,
     "metadata": {},
     "output_type": "execute_result"
    }
   ],
   "source": [
    "solution(123)"
   ]
  },
  {
   "cell_type": "code",
   "execution_count": 9,
   "id": "45307098",
   "metadata": {},
   "outputs": [
    {
     "data": {
      "text/plain": [
       "24"
      ]
     },
     "execution_count": 9,
     "metadata": {},
     "output_type": "execute_result"
    }
   ],
   "source": [
    "solution(987)"
   ]
  },
  {
   "cell_type": "markdown",
   "id": "e96bcc09",
   "metadata": {},
   "source": [
    "## 다른 풀이"
   ]
  },
  {
   "cell_type": "code",
   "execution_count": 11,
   "id": "661644e4",
   "metadata": {},
   "outputs": [
    {
     "data": {
      "text/plain": [
       "6"
      ]
     },
     "execution_count": 11,
     "metadata": {},
     "output_type": "execute_result"
    }
   ],
   "source": [
    "def solution(n):\n",
    "    return sum([int(i) for i in str(n)])\n",
    "solution(123)"
   ]
  },
  {
   "cell_type": "markdown",
   "id": "6976645c",
   "metadata": {},
   "source": [
    "정수 리스트에 sum을 하면 원소의 합 구할 수 있음"
   ]
  },
  {
   "cell_type": "code",
   "execution_count": 12,
   "id": "b565a733",
   "metadata": {},
   "outputs": [
    {
     "data": {
      "text/plain": [
       "6"
      ]
     },
     "execution_count": 12,
     "metadata": {},
     "output_type": "execute_result"
    }
   ],
   "source": [
    "def solution(n):\n",
    "    return sum(map(int,str(n)))\n",
    "solution(123)"
   ]
  },
  {
   "cell_type": "markdown",
   "id": "44d9c43d",
   "metadata": {},
   "source": [
    "str(n) 각 인덱스를 int로 변환한 뒤 sum()"
   ]
  },
  {
   "cell_type": "code",
   "execution_count": null,
   "id": "6a4f3b7b",
   "metadata": {},
   "outputs": [],
   "source": []
  }
 ],
 "metadata": {
  "kernelspec": {
   "display_name": "Python 3 (ipykernel)",
   "language": "python",
   "name": "python3"
  },
  "language_info": {
   "codemirror_mode": {
    "name": "ipython",
    "version": 3
   },
   "file_extension": ".py",
   "mimetype": "text/x-python",
   "name": "python",
   "nbconvert_exporter": "python",
   "pygments_lexer": "ipython3",
   "version": "3.9.12"
  }
 },
 "nbformat": 4,
 "nbformat_minor": 5
}
