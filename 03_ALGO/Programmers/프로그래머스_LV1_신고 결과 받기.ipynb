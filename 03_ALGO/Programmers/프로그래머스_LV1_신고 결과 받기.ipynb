{
 "cells": [
  {
   "cell_type": "markdown",
   "id": "5e935137",
   "metadata": {},
   "source": [
    "## 신고 결과 받기\n",
    "https://school.programmers.co.kr/learn/courses/30/lessons/92334"
   ]
  },
  {
   "cell_type": "code",
   "execution_count": 1,
   "id": "6a3e4510",
   "metadata": {},
   "outputs": [],
   "source": [
    "def solution(id_list, report, k):\n",
    "    \n",
    "    report_set = list(set(report))  # 중복 제거  # 1.\n",
    "    \n",
    "    user_list = [report_set[i].split()[1] for i in range(len(report_set))] # 신고 당한 사람  # 2.\n",
    "    stop = [name for name in id_list if user_list.count(name) >= k] # 정지된 사람  # 3.\n",
    "    \n",
    "    result = [name.split()[0] for name in report_set if name.split()[1] in stop] # 메일 받는 사람  # 4.\n",
    "    \n",
    "    answer = [result.count(user) for user in id_list] # 메일 받는 횟수  # 5.\n",
    "    \n",
    "    return answer"
   ]
  },
  {
   "cell_type": "markdown",
   "id": "a1447591",
   "metadata": {},
   "source": [
    "풀이\n",
    "1. report_set : 각 유저가 동일한 유저에 대한 신고 횟수는 1회로 처리 => report 중복을 제거\n",
    "2. user_list : report_set 리스트를 차례로 돌면서 2번째에 나오는 모든 user가 나오는 리스트\n",
    "3. stop : user_list에서 k번 이상 나온 사람을 담는 리스트 = 정지된 사람\n",
    "4. result : report_set에서 신고당한 사람이 stop 리스트\n",
    "    (=k번 이상 나온 사람 = 정지되는 사람)에 있다면 신고한 사람을 담는 리스트\n",
    "5. 메일 받는 신고한 사람 횟수 세기"
   ]
  },
  {
   "cell_type": "code",
   "execution_count": 3,
   "id": "7dc94b18",
   "metadata": {},
   "outputs": [
    {
     "data": {
      "text/plain": [
       "[2, 1, 1, 0]"
      ]
     },
     "execution_count": 3,
     "metadata": {},
     "output_type": "execute_result"
    }
   ],
   "source": [
    "id_list = [\"muzi\", \"frodo\", \"apeach\", \"neo\"]\n",
    "report = [\"muzi frodo\",\"apeach frodo\",\"frodo neo\",\"muzi neo\",\"apeach muzi\"]\n",
    "k = 2\n",
    "solution(id_list, report, k)"
   ]
  },
  {
   "cell_type": "code",
   "execution_count": 4,
   "id": "c030b51f",
   "metadata": {},
   "outputs": [
    {
     "data": {
      "text/plain": [
       "[0, 0]"
      ]
     },
     "execution_count": 4,
     "metadata": {},
     "output_type": "execute_result"
    }
   ],
   "source": [
    "id_list = [\"con\", \"ryan\"]\n",
    "report = [\"ryan con\", \"ryan con\", \"ryan con\", \"ryan con\"]\n",
    "k = 3\n",
    "solution(id_list, report, k)"
   ]
  },
  {
   "cell_type": "code",
   "execution_count": 8,
   "id": "16faddca",
   "metadata": {},
   "outputs": [
    {
     "data": {
      "text/plain": [
       "[2, 1, 1, 1]"
      ]
     },
     "execution_count": 8,
     "metadata": {},
     "output_type": "execute_result"
    }
   ],
   "source": [
    "id_list = [\"muzi\", \"frodo\", \"apeach\", \"neo\"]\n",
    "report = [\"muzi frodo\",\"apeach frodo\",\"frodo neo\",\"muzi neo\",\"apeach muzi\",\"muzi frodo\",\"frodo apeach\",\"neo frodo\"]\n",
    "k = 2\n",
    "solution(id_list, report, k)"
   ]
  }
 ],
 "metadata": {
  "kernelspec": {
   "display_name": "Python 3.9.12 ('base')",
   "language": "python",
   "name": "python3"
  },
  "language_info": {
   "codemirror_mode": {
    "name": "ipython",
    "version": 3
   },
   "file_extension": ".py",
   "mimetype": "text/x-python",
   "name": "python",
   "nbconvert_exporter": "python",
   "pygments_lexer": "ipython3",
   "version": "3.9.12"
  },
  "vscode": {
   "interpreter": {
    "hash": "408008e5ef94774309615aa25401581e8dcb195f3e7f8d5b866d0f3c52da6336"
   }
  }
 },
 "nbformat": 4,
 "nbformat_minor": 5
}
