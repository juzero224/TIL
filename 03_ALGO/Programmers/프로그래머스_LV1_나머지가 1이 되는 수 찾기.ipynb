{
 "cells": [
  {
   "cell_type": "code",
   "execution_count": 10,
   "id": "e63ca863",
   "metadata": {},
   "outputs": [
    {
     "name": "stdout",
     "output_type": "stream",
     "text": [
      "25\n"
     ]
    },
    {
     "data": {
      "text/plain": [
       "2"
      ]
     },
     "execution_count": 10,
     "metadata": {},
     "output_type": "execute_result"
    }
   ],
   "source": [
    "n = int(input())\n",
    "answer = 1000001\n",
    "x = n\n",
    "while (x==1) != True:\n",
    "    x -= 1\n",
    "    if n%x==1:\n",
    "        if answer > x:\n",
    "            answer = x\n",
    "answer"
   ]
  },
  {
   "cell_type": "code",
   "execution_count": 11,
   "id": "88c2830a",
   "metadata": {},
   "outputs": [],
   "source": [
    "def solution(n):\n",
    "    answer = 1000001\n",
    "    x = n\n",
    "    while (x==1) != True:\n",
    "        x -= 1\n",
    "        if n%x==1:\n",
    "            if answer > x:\n",
    "                answer = x\n",
    "    return answer"
   ]
  },
  {
   "cell_type": "code",
   "execution_count": 12,
   "id": "1804b432",
   "metadata": {},
   "outputs": [
    {
     "data": {
      "text/plain": [
       "3"
      ]
     },
     "execution_count": 12,
     "metadata": {},
     "output_type": "execute_result"
    }
   ],
   "source": [
    "solution(10)"
   ]
  },
  {
   "cell_type": "markdown",
   "id": "09420e6c",
   "metadata": {},
   "source": [
    "풀이\n",
    "1. answer를 절대 나올 수 없는 1000001로 둔다 (3<=n<=1000000 이므로)\n",
    "2. x = n부터 시작\n",
    "3. x==1 이 아니라면 while문을 돌면서\n",
    "4. x를 하나씩 빼면서 if문을 검증\n",
    "5. n%x가 1이라면 다음 if문 실행\n",
    "6. answer보다 작은 x를 answer로 업데이트"
   ]
  },
  {
   "cell_type": "markdown",
   "id": "2983e470",
   "metadata": {},
   "source": [
    "## 다른 풀이"
   ]
  },
  {
   "cell_type": "code",
   "execution_count": null,
   "id": "4742fb5a",
   "metadata": {},
   "outputs": [],
   "source": [
    "def solution(n):\n",
    "    return [x for x in range(1,n+1) if n%x==1][0]"
   ]
  }
 ],
 "metadata": {
  "kernelspec": {
   "display_name": "Python 3 (ipykernel)",
   "language": "python",
   "name": "python3"
  },
  "language_info": {
   "codemirror_mode": {
    "name": "ipython",
    "version": 3
   },
   "file_extension": ".py",
   "mimetype": "text/x-python",
   "name": "python",
   "nbconvert_exporter": "python",
   "pygments_lexer": "ipython3",
   "version": "3.9.12"
  }
 },
 "nbformat": 4,
 "nbformat_minor": 5
}
