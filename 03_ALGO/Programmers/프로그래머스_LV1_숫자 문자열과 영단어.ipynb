{
 "cells": [
  {
   "cell_type": "code",
   "execution_count": 14,
   "id": "dbae4713",
   "metadata": {},
   "outputs": [
    {
     "name": "stdout",
     "output_type": "stream",
     "text": [
      "onetwo\n"
     ]
    }
   ],
   "source": [
    "def solution(s):\n",
    "    a= ['zero','one','two','three','four','five','six','seven','eight','nine']\n",
    "    \n",
    "    eng = [x for x in s if x.isalpha()]\n",
    "    eng = ''.join(eng)\n",
    "    return eng\n",
    "print(solution('onetwo'))  \n",
    "#     for i in eng:\n",
    "#         for j in a:\n",
    "#             if a[j] == eng[0:i]:\n",
    "#                 return j\n",
    "\n",
    "# print(solution('one'))"
   ]
  },
  {
   "cell_type": "code",
   "execution_count": 18,
   "id": "213c5343",
   "metadata": {},
   "outputs": [
    {
     "name": "stdout",
     "output_type": "stream",
     "text": [
      "1478\n"
     ]
    }
   ],
   "source": [
    "# 숫자 문자열과 영단어\n",
    "def solution(s):\n",
    "    answer = s\n",
    "    a = {'zero':0,'one':1,'two':2,'three':3,'four':4,'five':5,'six':6,'seven':7,'eight':8,'nine':9}\n",
    "    \n",
    "    for i in a.items():\n",
    "        answer = answer.replace(i[0],str(i[1]))\n",
    "    return int(answer)\n",
    "\n",
    "print(solution('one4seveneight'))"
   ]
  },
  {
   "cell_type": "code",
   "execution_count": 19,
   "id": "88fefee4",
   "metadata": {},
   "outputs": [
    {
     "name": "stdout",
     "output_type": "stream",
     "text": [
      "1478\n"
     ]
    }
   ],
   "source": [
    "def solution(s):\n",
    "    a= ['zero','one','two','three','four','five','six','seven','eight','nine']\n",
    "    \n",
    "    for i,n in enumerate(a):\n",
    "        s = s.replace(n,str(i))\n",
    "    return int(s)\n",
    "\n",
    "print(solution('one4seveneight'))"
   ]
  },
  {
   "cell_type": "code",
   "execution_count": null,
   "id": "6c269a42",
   "metadata": {},
   "outputs": [],
   "source": []
  }
 ],
 "metadata": {
  "kernelspec": {
   "display_name": "Python 3 (ipykernel)",
   "language": "python",
   "name": "python3"
  },
  "language_info": {
   "codemirror_mode": {
    "name": "ipython",
    "version": 3
   },
   "file_extension": ".py",
   "mimetype": "text/x-python",
   "name": "python",
   "nbconvert_exporter": "python",
   "pygments_lexer": "ipython3",
   "version": "3.9.12"
  }
 },
 "nbformat": 4,
 "nbformat_minor": 5
}
