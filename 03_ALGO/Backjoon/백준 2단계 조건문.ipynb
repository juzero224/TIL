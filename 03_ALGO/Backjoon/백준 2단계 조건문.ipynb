{
 "cells": [
  {
   "cell_type": "code",
   "execution_count": 2,
   "id": "97979fdc",
   "metadata": {},
   "outputs": [
    {
     "name": "stdout",
     "output_type": "stream",
     "text": [
      "10 2\n",
      ">\n"
     ]
    }
   ],
   "source": [
    "# 1330번 : 두 수 비교하기\n",
    "\n",
    "A, B = map(int,input().split())\n",
    "\n",
    "if A > B:\n",
    "    print('>')\n",
    "elif A < B:\n",
    "    print('<')\n",
    "else:\n",
    "    print('==')"
   ]
  },
  {
   "cell_type": "code",
   "execution_count": 3,
   "id": "40a856f4",
   "metadata": {},
   "outputs": [
    {
     "name": "stdout",
     "output_type": "stream",
     "text": [
      "80\n",
      "B\n"
     ]
    }
   ],
   "source": [
    "# 9498번 : 시험 성적\n",
    "\n",
    "score = int(input())\n",
    "\n",
    "if score>= 90:\n",
    "    print('A')\n",
    "elif score>=80:\n",
    "    print('B')\n",
    "elif score>=70:\n",
    "    print('C')\n",
    "elif score>=60:\n",
    "    print('D')\n",
    "else:\n",
    "    print('F')"
   ]
  },
  {
   "cell_type": "code",
   "execution_count": 9,
   "id": "0bc30626",
   "metadata": {},
   "outputs": [
    {
     "name": "stdout",
     "output_type": "stream",
     "text": [
      "1900\n",
      "0\n"
     ]
    }
   ],
   "source": [
    "# 2753번 : 윤년\n",
    "\n",
    "year = int(input())\n",
    "\n",
    "if year % 4 == 0:\n",
    "    if year % 100 != 0 or year % 400 == 0:\n",
    "        result = 1\n",
    "    else:\n",
    "        result = 0\n",
    "else:\n",
    "    result = 0\n",
    "\n",
    "print(result)"
   ]
  },
  {
   "cell_type": "code",
   "execution_count": 16,
   "id": "92a9ce1e",
   "metadata": {},
   "outputs": [
    {
     "name": "stdout",
     "output_type": "stream",
     "text": [
      "15\n",
      "-2\n",
      "4\n"
     ]
    }
   ],
   "source": [
    "# 14681번 : 사분면 고르기\n",
    "\n",
    "x = int(input())\n",
    "y = int(input())\n",
    "\n",
    "if x>0 and y>0:\n",
    "    n = 1\n",
    "elif x<0 and y>0:\n",
    "    n = 2\n",
    "elif x<0 and y<0:\n",
    "    n = 3\n",
    "else:\n",
    "    n = 4\n",
    "\n",
    "print(n)"
   ]
  },
  {
   "cell_type": "code",
   "execution_count": 20,
   "id": "9a230ab5",
   "metadata": {},
   "outputs": [
    {
     "name": "stdout",
     "output_type": "stream",
     "text": [
      "0 30\n",
      "23 45\n"
     ]
    }
   ],
   "source": [
    "# 2884번 : 알람 시계\n",
    "H, M = map(int, input().split())\n",
    "\n",
    "time = H*60 +M -45\n",
    "\n",
    "if time>=0:\n",
    "    H1 = time//60\n",
    "    M1 = time%60\n",
    "else:\n",
    "    H1 = 23\n",
    "    M1 = 60 + time\n",
    "    \n",
    "print(H1, M1)"
   ]
  },
  {
   "cell_type": "code",
   "execution_count": 2,
   "id": "a631753a",
   "metadata": {},
   "outputs": [
    {
     "name": "stdout",
     "output_type": "stream",
     "text": [
      "23 48\n",
      "25\n",
      "0 13\n"
     ]
    }
   ],
   "source": [
    "# # 2525번 : 오븐 시계\n",
    "# A, B = map(int, input().split())\n",
    "# C = int(input())\n",
    "\n",
    "# time = A*60 +B +C\n",
    "\n",
    "# # 0:0 >> 24:60 >> 23*60+60 =1440\n",
    "# if time <1440:\n",
    "#     A1 = time//60\n",
    "#     B1 = time%60\n",
    "# else:\n",
    "#     A1 = 0\n",
    "#     B1 = time-1440\n",
    "# print(A1,B1)"
   ]
  },
  {
   "cell_type": "code",
   "execution_count": 11,
   "id": "a3b4cc76",
   "metadata": {},
   "outputs": [
    {
     "name": "stdout",
     "output_type": "stream",
     "text": [
      "14 30\n",
      "20\n",
      "14 50\n"
     ]
    }
   ],
   "source": [
    "# 2525번 : 오븐 시계\n",
    "A,B = map(int, input().split())\n",
    "timer = int(input())\n",
    "\n",
    "A += timer // 60\n",
    "B += timer % 60\n",
    "\n",
    "if B >= 60:\n",
    "    A += 1\n",
    "    B -= 60\n",
    "if A >= 24:\n",
    "    A -= 24\n",
    "\n",
    "print(A,B)"
   ]
  },
  {
   "cell_type": "code",
   "execution_count": 6,
   "id": "5f90371a",
   "metadata": {},
   "outputs": [
    {
     "name": "stdout",
     "output_type": "stream",
     "text": [
      "6 2 5\n",
      "600\n"
     ]
    }
   ],
   "source": [
    "# 2480번 : 주사위 세개\n",
    "dice1, dice2, dice3 = map(int,input().split())\n",
    "\n",
    "A = (dice1==dice2)\n",
    "B = (dice2==dice3)\n",
    "C = (dice1==dice3)\n",
    "\n",
    "if A and B and C:\n",
    "    money = 10000+dice1*1000\n",
    "elif A or B or C:\n",
    "    if A:\n",
    "        money = 1000 +dice1*100\n",
    "    if B:\n",
    "        money = 1000 +dice2*100\n",
    "    if C:\n",
    "        money = 1000 +dice3*100\n",
    "else:\n",
    "    money = max(dice1,dice2,dice3)*100\n",
    "print(money)"
   ]
  },
  {
   "cell_type": "code",
   "execution_count": null,
   "id": "c2920369",
   "metadata": {},
   "outputs": [],
   "source": []
  }
 ],
 "metadata": {
  "kernelspec": {
   "display_name": "Python 3 (ipykernel)",
   "language": "python",
   "name": "python3"
  },
  "language_info": {
   "codemirror_mode": {
    "name": "ipython",
    "version": 3
   },
   "file_extension": ".py",
   "mimetype": "text/x-python",
   "name": "python",
   "nbconvert_exporter": "python",
   "pygments_lexer": "ipython3",
   "version": "3.9.12"
  }
 },
 "nbformat": 4,
 "nbformat_minor": 5
}
