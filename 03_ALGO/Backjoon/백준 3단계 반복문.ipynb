{
 "cells": [
  {
   "cell_type": "code",
   "execution_count": 1,
   "id": "42976402",
   "metadata": {},
   "outputs": [
    {
     "name": "stdout",
     "output_type": "stream",
     "text": [
      "2\n",
      "2 * 1 = 2\n",
      "2 * 2 = 4\n",
      "2 * 3 = 6\n",
      "2 * 4 = 8\n",
      "2 * 5 = 10\n",
      "2 * 6 = 12\n",
      "2 * 7 = 14\n",
      "2 * 8 = 16\n",
      "2 * 9 = 18\n"
     ]
    }
   ],
   "source": [
    "# 2739번 : 구구단\n",
    "\n",
    "N = int(input())\n",
    "\n",
    "for i in range(1,10):\n",
    "    print('%d * %d = %d' % (N, i, N*i))"
   ]
  },
  {
   "cell_type": "code",
   "execution_count": 2,
   "id": "a2f06e0c",
   "metadata": {},
   "outputs": [
    {
     "name": "stdout",
     "output_type": "stream",
     "text": [
      "5\n",
      "1 1\n",
      "2\n",
      "2 3\n",
      "5\n",
      "4 5\n",
      "9\n",
      "6 7\n",
      "13\n",
      "8 9\n",
      "17\n"
     ]
    }
   ],
   "source": [
    "# 10950번 : A+B-3\n",
    "\n",
    "T = int(input())\n",
    "\n",
    "for i in range(T):\n",
    "    A, B = map(int, input().split())\n",
    "    print(A+B)"
   ]
  },
  {
   "cell_type": "code",
   "execution_count": 21,
   "id": "e8ddce92",
   "metadata": {},
   "outputs": [
    {
     "name": "stdout",
     "output_type": "stream",
     "text": [
      "4\n",
      "10\n"
     ]
    }
   ],
   "source": [
    "# 8393번 : 합\n",
    "n = int(input())\n",
    "result=0\n",
    "\n",
    "for i in range(n+1):\n",
    "    result += i\n",
    "\n",
    "print(result)"
   ]
  },
  {
   "cell_type": "code",
   "execution_count": 18,
   "id": "d6e638ec",
   "metadata": {},
   "outputs": [],
   "source": [
    "# 15552번 : 빠른 A+B\n",
    "\n",
    "# import sys\n",
    "\n",
    "# n = int(input())\n",
    "\n",
    "# for i in range(n):\n",
    "#     a,b = map(int, sys.stdin.readline().split())\n",
    "#     print(a+b)\n",
    "#ValueError: not enough values to unpack (expected 2, got 0)\n",
    "# 오류가 왜 날까\n",
    "# 일반 IDE에서는 실행이 안됨. jupyter, spyter에서 실행안됨\n"
   ]
  },
  {
   "cell_type": "code",
   "execution_count": 22,
   "id": "41be417b",
   "metadata": {},
   "outputs": [
    {
     "name": "stdout",
     "output_type": "stream",
     "text": [
      "5\n",
      "1\n",
      "2\n",
      "3\n",
      "4\n",
      "5\n"
     ]
    }
   ],
   "source": [
    "# 2741번 : N 찍기\n",
    "\n",
    "n = int(input())\n",
    "\n",
    "for i in range(n):\n",
    "    print(i+1)"
   ]
  },
  {
   "cell_type": "code",
   "execution_count": 25,
   "id": "0537d161",
   "metadata": {},
   "outputs": [
    {
     "name": "stdout",
     "output_type": "stream",
     "text": [
      "5\n",
      "5\n",
      "4\n",
      "3\n",
      "2\n",
      "1\n"
     ]
    }
   ],
   "source": [
    "# 2742번 : 기찍 N\n",
    "\n",
    "n = int(input())\n",
    "\n",
    "for i in range(n,0,-1):\n",
    "    print(i)"
   ]
  },
  {
   "cell_type": "code",
   "execution_count": 27,
   "id": "ff4f4384",
   "metadata": {},
   "outputs": [
    {
     "name": "stdout",
     "output_type": "stream",
     "text": [
      "5\n",
      "1 1\n",
      "Case #1: 2\n",
      "2 3\n",
      "Case #2: 5\n",
      "3 4\n",
      "Case #3: 7\n",
      "9 8\n",
      "Case #4: 17\n",
      "5 2\n",
      "Case #5: 7\n"
     ]
    }
   ],
   "source": [
    "# 11021번 : A+B -7\n",
    "\n",
    "n = int(input())\n",
    "\n",
    "for i in range(n):\n",
    "    A,B = map(int, input().split())\n",
    "    print(f'Case #{i+1}:',A+B)"
   ]
  },
  {
   "cell_type": "code",
   "execution_count": 28,
   "id": "95ffcbd9",
   "metadata": {},
   "outputs": [
    {
     "name": "stdout",
     "output_type": "stream",
     "text": [
      "5\n",
      "1 1\n",
      "Case #1: 1 + 1 = 2\n",
      "2 3\n",
      "Case #2: 2 + 3 = 5\n",
      "3 4\n",
      "Case #3: 3 + 4 = 7\n",
      "9 8\n",
      "Case #4: 9 + 8 = 17\n",
      "5 2\n",
      "Case #5: 5 + 2 = 7\n"
     ]
    }
   ],
   "source": [
    "# 11021번 : A+B -8\n",
    "\n",
    "t = int(input())\n",
    "\n",
    "for i in range(t):\n",
    "    A,B = map(int, input().split())\n",
    "    print(f'Case #{i+1}: {A} + {B} = {A+B}')"
   ]
  },
  {
   "cell_type": "code",
   "execution_count": 31,
   "id": "d23586c6",
   "metadata": {},
   "outputs": [
    {
     "name": "stdout",
     "output_type": "stream",
     "text": [
      "5\n",
      "*\n",
      "**\n",
      "***\n",
      "****\n",
      "*****\n"
     ]
    }
   ],
   "source": [
    "# 2438번 : 별 찍기 -1\n",
    "\n",
    "n = int(input())\n",
    "\n",
    "for i in range(n):\n",
    "    print('*'*(i+1))"
   ]
  },
  {
   "cell_type": "code",
   "execution_count": 32,
   "id": "a2e0c343",
   "metadata": {},
   "outputs": [
    {
     "name": "stdout",
     "output_type": "stream",
     "text": [
      "5\n",
      "    *\n",
      "   **\n",
      "  ***\n",
      " ****\n",
      "*****\n"
     ]
    }
   ],
   "source": [
    "# 2439번 : 별 찍기 - 2\n",
    "\n",
    "n = int(input())\n",
    "\n",
    "space = ' '\n",
    "star = '*'\n",
    "\n",
    "for i in range(1,n+1):\n",
    "    print(space*(n-i)+star*i)"
   ]
  },
  {
   "cell_type": "code",
   "execution_count": 37,
   "id": "c157b2fb",
   "metadata": {},
   "outputs": [
    {
     "name": "stdout",
     "output_type": "stream",
     "text": [
      "10 5\n",
      "1 10 4 9 2 3 8 5 7 6\n",
      "1 4 2 3 "
     ]
    }
   ],
   "source": [
    "# 10871번 : x보다 작은 수   # \n",
    "\n",
    "n, x = map(int, input().split())\n",
    "\n",
    "a = list(map(int, input().split()))\n",
    "\n",
    "for i in range(n):\n",
    "    if a[i] < x:\n",
    "        print(a[i], end=' ')"
   ]
  },
  {
   "cell_type": "code",
   "execution_count": 1,
   "id": "540c52fb",
   "metadata": {},
   "outputs": [
    {
     "name": "stdout",
     "output_type": "stream",
     "text": [
      "1 1\n",
      "2\n",
      "2 3\n",
      "5\n",
      "3 4\n",
      "7\n",
      "9 8\n",
      "17\n",
      "5 2\n",
      "7\n",
      "0 0\n"
     ]
    }
   ],
   "source": [
    "# 10952번\n",
    "while True:\n",
    "    a, b = map(int, input().split())\n",
    "    if a==0 and b==0:\n",
    "        break\n",
    "    print(a+b)"
   ]
  },
  {
   "cell_type": "code",
   "execution_count": 2,
   "id": "71d122e5",
   "metadata": {},
   "outputs": [
    {
     "name": "stdout",
     "output_type": "stream",
     "text": [
      "10 11\n"
     ]
    }
   ],
   "source": [
    "# # 10951번\n",
    "# while True:\n",
    "#     a, b = map(int, input().split())\n",
    "#     try:\n",
    "#         if 0<a and b<10:\n",
    "#             print(a+b)\n",
    "#         else:\n",
    "#             break\n",
    "#     except:\n",
    "#         EOFError\n",
    "#         break"
   ]
  },
  {
   "cell_type": "code",
   "execution_count": 3,
   "id": "2fefff20",
   "metadata": {},
   "outputs": [
    {
     "name": "stdout",
     "output_type": "stream",
     "text": [
      "5 4\n",
      "9\n",
      "9 8\n",
      "17\n",
      "\n"
     ]
    }
   ],
   "source": [
    "# 10951번\n",
    "while True:\n",
    "    try:\n",
    "        a,b = map(int, input().split())\n",
    "        print(a+b)\n",
    "    except:\n",
    "        break"
   ]
  },
  {
   "cell_type": "code",
   "execution_count": 9,
   "id": "f2196d57",
   "metadata": {},
   "outputs": [
    {
     "name": "stdout",
     "output_type": "stream",
     "text": [
      "71\n",
      "12\n"
     ]
    }
   ],
   "source": [
    "# 1110번 : 더하기 사이클  # O\n",
    "\n",
    "n = int(input())\n",
    "cnt = 0\n",
    "\n",
    "result = n\n",
    "\n",
    "while True:\n",
    "    cnt+=1\n",
    "    \n",
    "    if result<10:\n",
    "        sum = 0 + result\n",
    "    else:\n",
    "        sum=result//10+result%10\n",
    "    result = (result%10)*10 + sum%10\n",
    "    \n",
    "    if result == n:\n",
    "        print(cnt)\n",
    "        break\n"
   ]
  },
  {
   "cell_type": "code",
   "execution_count": null,
   "id": "a1fed4f0",
   "metadata": {},
   "outputs": [],
   "source": []
  }
 ],
 "metadata": {
  "kernelspec": {
   "display_name": "Python 3 (ipykernel)",
   "language": "python",
   "name": "python3"
  },
  "language_info": {
   "codemirror_mode": {
    "name": "ipython",
    "version": 3
   },
   "file_extension": ".py",
   "mimetype": "text/x-python",
   "name": "python",
   "nbconvert_exporter": "python",
   "pygments_lexer": "ipython3",
   "version": "3.9.12"
  }
 },
 "nbformat": 4,
 "nbformat_minor": 5
}
