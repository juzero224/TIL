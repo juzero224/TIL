{
 "cells": [
  {
   "cell_type": "markdown",
   "id": "cf12acd3",
   "metadata": {},
   "source": [
    "# Data Preprocessing"
   ]
  },
  {
   "cell_type": "markdown",
   "id": "054ac324",
   "metadata": {},
   "source": [
    "## simple imput"
   ]
  },
  {
   "cell_type": "markdown",
   "id": "91e05980",
   "metadata": {},
   "source": [
    "### 예제1"
   ]
  },
  {
   "cell_type": "code",
   "execution_count": 1,
   "id": "c4fb0f2f",
   "metadata": {},
   "outputs": [
    {
     "data": {
      "text/plain": [
       "[[7, 2, 3], [4, nan, 6], [10, 5, 9]]"
      ]
     },
     "execution_count": 1,
     "metadata": {},
     "output_type": "execute_result"
    }
   ],
   "source": [
    "import numpy as np\n",
    "from sklearn.impute import SimpleImputer\n",
    "\n",
    "x = [[7,2,3],[4, np.nan, 6],[10,5,9]]\n",
    "x"
   ]
  },
  {
   "cell_type": "code",
   "execution_count": 2,
   "id": "f96c2be6",
   "metadata": {},
   "outputs": [
    {
     "data": {
      "text/plain": [
       "array([[ 7. ,  2. ,  3. ],\n",
       "       [ 4. ,  3.5,  6. ],\n",
       "       [10. ,  5. ,  9. ]])"
      ]
     },
     "execution_count": 2,
     "metadata": {},
     "output_type": "execute_result"
    }
   ],
   "source": [
    "# 예제 1\n",
    "imp_mean = SimpleImputer(missing_values = np.nan, strategy='mean')\n",
    "imp_mean.fit(x)\n",
    "imp_mean.transform(x)"
   ]
  },
  {
   "cell_type": "markdown",
   "id": "45ae629a",
   "metadata": {},
   "source": [
    "-------------------\n",
    "연습"
   ]
  },
  {
   "cell_type": "code",
   "execution_count": 3,
   "id": "093397ab",
   "metadata": {},
   "outputs": [
    {
     "data": {
      "text/plain": [
       "SimpleImputer()"
      ]
     },
     "execution_count": 3,
     "metadata": {},
     "output_type": "execute_result"
    }
   ],
   "source": [
    "imp_mean = SimpleImputer(missing_values = np.nan, strategy='mean')\n",
    "imp_mean.fit(x)\n",
    "\n",
    "'''\n",
    "simpleImputer() 로 fitting됨\n",
    "'''"
   ]
  },
  {
   "cell_type": "code",
   "execution_count": 4,
   "id": "021b58e3",
   "metadata": {},
   "outputs": [
    {
     "data": {
      "text/plain": [
       "array([[ 7. ,  2. ,  3. ],\n",
       "       [ 4. ,  3.5,  6. ],\n",
       "       [10. ,  5. ,  9. ]])"
      ]
     },
     "execution_count": 4,
     "metadata": {},
     "output_type": "execute_result"
    }
   ],
   "source": [
    "imp_mean.transform(x)\n",
    "\n",
    "'''\n",
    "nan값이 mean으로 채워짐 (strategy = 'mean')\n",
    "mean 계산은 열기준!\n",
    "'''"
   ]
  },
  {
   "cell_type": "markdown",
   "id": "9ee350bd",
   "metadata": {},
   "source": [
    "----------------------"
   ]
  },
  {
   "cell_type": "markdown",
   "id": "a060195d",
   "metadata": {},
   "source": [
    "### 예제 2"
   ]
  },
  {
   "cell_type": "code",
   "execution_count": 16,
   "id": "3b249743",
   "metadata": {},
   "outputs": [
    {
     "data": {
      "text/plain": [
       "[[nan, 2, 3], [4, nan, 6], [10, nan, 9]]"
      ]
     },
     "execution_count": 16,
     "metadata": {},
     "output_type": "execute_result"
    }
   ],
   "source": [
    "# 예제 2\n",
    "new_data = [[np.nan, 2, 3],[4, np.nan, 6], [10, np.nan, 9]]\n",
    "new_data"
   ]
  },
  {
   "cell_type": "code",
   "execution_count": 10,
   "id": "19a74f3e",
   "metadata": {},
   "outputs": [
    {
     "data": {
      "text/plain": [
       "array([[ 7.,  2.,  3.],\n",
       "       [ 4.,  2.,  6.],\n",
       "       [10.,  2.,  9.]])"
      ]
     },
     "execution_count": 10,
     "metadata": {},
     "output_type": "execute_result"
    }
   ],
   "source": [
    "imp_mean = SimpleImputer(missing_values = np.nan, strategy = 'mean')\n",
    "imp_mean.fit(new_data)\n",
    "imp_mean.transform(new_data)"
   ]
  },
  {
   "cell_type": "markdown",
   "id": "7e23d125",
   "metadata": {},
   "source": [
    "------------------\n",
    "연습"
   ]
  },
  {
   "cell_type": "code",
   "execution_count": 19,
   "id": "a11ed111",
   "metadata": {},
   "outputs": [
    {
     "data": {
      "text/plain": [
       "SimpleImputer()"
      ]
     },
     "execution_count": 19,
     "metadata": {},
     "output_type": "execute_result"
    }
   ],
   "source": [
    "imp_mean = SimpleImputer(missing_values = np.nan, strategy = 'mean')\n",
    "imp_mean.fit(new_data)\n",
    "\n",
    "\n",
    "# simpleImputer() 로 fitting됨"
   ]
  },
  {
   "cell_type": "code",
   "execution_count": 20,
   "id": "a1100e17",
   "metadata": {},
   "outputs": [
    {
     "data": {
      "text/plain": [
       "array([[ 7.,  2.,  3.],\n",
       "       [ 4.,  2.,  6.],\n",
       "       [10.,  2.,  9.]])"
      ]
     },
     "execution_count": 20,
     "metadata": {},
     "output_type": "execute_result"
    }
   ],
   "source": [
    "imp_mean.transform(new_data)\n",
    "\n",
    "\n",
    "# nan값이 mean으로 채워짐 (strategy = 'mean')\n",
    "# mean 계산은 열기준!"
   ]
  },
  {
   "cell_type": "markdown",
   "id": "8100bb65",
   "metadata": {},
   "source": [
    "----------------"
   ]
  },
  {
   "cell_type": "markdown",
   "id": "d091d02e",
   "metadata": {},
   "source": [
    "## 실데이터 적용하기"
   ]
  },
  {
   "cell_type": "markdown",
   "id": "2c63f78b",
   "metadata": {},
   "source": [
    "### 1) 데이터 로드"
   ]
  },
  {
   "cell_type": "code",
   "execution_count": 21,
   "id": "b575856b",
   "metadata": {},
   "outputs": [],
   "source": [
    "import numpy as np\n",
    "import pandas as pd\n",
    "import matplotlib.pyplot as plt"
   ]
  },
  {
   "cell_type": "code",
   "execution_count": 23,
   "id": "58261eed",
   "metadata": {},
   "outputs": [
    {
     "data": {
      "text/html": [
       "<div>\n",
       "<style scoped>\n",
       "    .dataframe tbody tr th:only-of-type {\n",
       "        vertical-align: middle;\n",
       "    }\n",
       "\n",
       "    .dataframe tbody tr th {\n",
       "        vertical-align: top;\n",
       "    }\n",
       "\n",
       "    .dataframe thead th {\n",
       "        text-align: right;\n",
       "    }\n",
       "</style>\n",
       "<table border=\"1\" class=\"dataframe\">\n",
       "  <thead>\n",
       "    <tr style=\"text-align: right;\">\n",
       "      <th></th>\n",
       "      <th>'Country'</th>\n",
       "      <th>'Age'</th>\n",
       "      <th>'Salary'</th>\n",
       "      <th>'Purchased'</th>\n",
       "    </tr>\n",
       "  </thead>\n",
       "  <tbody>\n",
       "    <tr>\n",
       "      <th>0</th>\n",
       "      <td>'France'</td>\n",
       "      <td>44.0</td>\n",
       "      <td>72000.0</td>\n",
       "      <td>'No'</td>\n",
       "    </tr>\n",
       "    <tr>\n",
       "      <th>1</th>\n",
       "      <td>'Spain'</td>\n",
       "      <td>27.0</td>\n",
       "      <td>48000.0</td>\n",
       "      <td>'Yes'</td>\n",
       "    </tr>\n",
       "    <tr>\n",
       "      <th>2</th>\n",
       "      <td>'Germany'</td>\n",
       "      <td>30.0</td>\n",
       "      <td>54000.0</td>\n",
       "      <td>'No'</td>\n",
       "    </tr>\n",
       "    <tr>\n",
       "      <th>3</th>\n",
       "      <td>'Spain'</td>\n",
       "      <td>38.0</td>\n",
       "      <td>61000.0</td>\n",
       "      <td>'No'</td>\n",
       "    </tr>\n",
       "    <tr>\n",
       "      <th>4</th>\n",
       "      <td>'Germany'</td>\n",
       "      <td>40.0</td>\n",
       "      <td>nan</td>\n",
       "      <td>'Yes'</td>\n",
       "    </tr>\n",
       "  </tbody>\n",
       "</table>\n",
       "</div>"
      ],
      "text/plain": [
       "   'Country' 'Age' 'Salary' 'Purchased'\n",
       "0   'France'  44.0  72000.0        'No'\n",
       "1    'Spain'  27.0  48000.0       'Yes'\n",
       "2  'Germany'  30.0  54000.0       'No' \n",
       "3    'Spain'  38.0  61000.0        'No'\n",
       "4  'Germany'  40.0      nan       'Yes'"
      ]
     },
     "execution_count": 23,
     "metadata": {},
     "output_type": "execute_result"
    }
   ],
   "source": [
    "# data loading\n",
    "\n",
    "path = 'DataPreprocess.csv'\n",
    "df = pd.read_csv(path)\n",
    "df.head()"
   ]
  },
  {
   "cell_type": "markdown",
   "id": "307f449d",
   "metadata": {},
   "source": [
    "### 2) 데이터 분할 (독립변수 | 반응변수_yes/no)"
   ]
  },
  {
   "cell_type": "code",
   "execution_count": 32,
   "id": "f8594280",
   "metadata": {},
   "outputs": [
    {
     "data": {
      "text/plain": [
       "(array([[\"'France'\", '44.0', '72000.0'],\n",
       "        [\"'Spain'\", '27.0', '48000.0'],\n",
       "        [\"'Germany'\", '30.0', '54000.0'],\n",
       "        [\"'Spain'\", '38.0', '61000.0'],\n",
       "        [\"'Germany'\", '40.0', ' nan'],\n",
       "        [\"'France'\", '35.0', '58000.0'],\n",
       "        [\"'Spain'\", ' nan', ' 52000.0'],\n",
       "        [\"'France'\", '48.0', '79000.0'],\n",
       "        [\"'Germany'\", '50.0', '83000.0'],\n",
       "        [\"'France'\", '37.0', '67000.0']], dtype=object),\n",
       " array([\" 'No'\", \" 'Yes'\", \"'No' \", \" 'No'\", \" 'Yes'\", \" 'Yes'\", \" 'No'\",\n",
       "        \" 'Yes'\", \" 'No'\", \" 'Yes'\"], dtype=object))"
      ]
     },
     "execution_count": 32,
     "metadata": {},
     "output_type": "execute_result"
    }
   ],
   "source": [
    "# 데이터와 레이블 나누기 - 종속변수(반응변수)와 독립변수(설명변수) 나누기\n",
    "x = df.values[:,:-1]  # 데이터\n",
    "y = df.values[:,-1]   # 레이블(정답)\n",
    "x, y"
   ]
  },
  {
   "cell_type": "markdown",
   "id": "ae262e1a",
   "metadata": {},
   "source": [
    "### 3) 결손 데이터 처리"
   ]
  },
  {
   "cell_type": "code",
   "execution_count": 42,
   "id": "9b61d65c",
   "metadata": {},
   "outputs": [
    {
     "data": {
      "text/plain": [
       "array([[\"'France'\", 44.0, 72000.0],\n",
       "       [\"'Spain'\", 27.0, 48000.0],\n",
       "       [\"'Germany'\", 30.0, 54000.0],\n",
       "       [\"'Spain'\", 38.0, 61000.0],\n",
       "       [\"'Germany'\", 40.0, 63777.77777777778],\n",
       "       [\"'France'\", 35.0, 58000.0],\n",
       "       [\"'Spain'\", 38.77777777777778, 52000.0],\n",
       "       [\"'France'\", 48.0, 79000.0],\n",
       "       [\"'Germany'\", 50.0, 83000.0],\n",
       "       [\"'France'\", 37.0, 67000.0]], dtype=object)"
      ]
     },
     "execution_count": 42,
     "metadata": {},
     "output_type": "execute_result"
    }
   ],
   "source": [
    "from sklearn.impute import SimpleImputer\n",
    "\n",
    "imp_mean = SimpleImputer(strategy='mean')  # nan >> mean 평균값으로 대치 (단순대입법)\n",
    "imp_mean = imp_mean.fit(x[:,1:3])  # 모델 fitting\n",
    "x[:,1:3] = imp_mean.transform(x[:,1:3]) # scailing한 값으로 대체\n",
    "x\n",
    "\n",
    "# nan >> mean값으로 대치"
   ]
  },
  {
   "cell_type": "markdown",
   "id": "9d32dbb7",
   "metadata": {},
   "source": [
    "------------------\n",
    "연습"
   ]
  },
  {
   "cell_type": "code",
   "execution_count": 25,
   "id": "1dd3d123",
   "metadata": {},
   "outputs": [
    {
     "data": {
      "text/plain": [
       "(10, 4)"
      ]
     },
     "execution_count": 25,
     "metadata": {},
     "output_type": "execute_result"
    }
   ],
   "source": [
    "df.shape"
   ]
  },
  {
   "cell_type": "code",
   "execution_count": 26,
   "id": "101178fb",
   "metadata": {},
   "outputs": [
    {
     "data": {
      "text/plain": [
       "array([[\"'France'\", '44.0', '72000.0', \" 'No'\"],\n",
       "       [\"'Spain'\", '27.0', '48000.0', \" 'Yes'\"],\n",
       "       [\"'Germany'\", '30.0', '54000.0', \"'No' \"],\n",
       "       [\"'Spain'\", '38.0', '61000.0', \" 'No'\"],\n",
       "       [\"'Germany'\", '40.0', ' nan', \" 'Yes'\"],\n",
       "       [\"'France'\", '35.0', '58000.0', \" 'Yes'\"],\n",
       "       [\"'Spain'\", ' nan', ' 52000.0', \" 'No'\"],\n",
       "       [\"'France'\", '48.0', '79000.0', \" 'Yes'\"],\n",
       "       [\"'Germany'\", '50.0', '83000.0', \" 'No'\"],\n",
       "       [\"'France'\", '37.0', '67000.0', \" 'Yes'\"]], dtype=object)"
      ]
     },
     "execution_count": 26,
     "metadata": {},
     "output_type": "execute_result"
    }
   ],
   "source": [
    "# 데이터 분할 (독립변수 / 반응변수_yes/no)\n",
    "df.values"
   ]
  },
  {
   "cell_type": "code",
   "execution_count": 27,
   "id": "7c8a61a7",
   "metadata": {},
   "outputs": [
    {
     "data": {
      "text/plain": [
       "array([[\"'France'\", '44.0', '72000.0'],\n",
       "       [\"'Spain'\", '27.0', '48000.0'],\n",
       "       [\"'Germany'\", '30.0', '54000.0'],\n",
       "       [\"'Spain'\", '38.0', '61000.0'],\n",
       "       [\"'Germany'\", '40.0', ' nan'],\n",
       "       [\"'France'\", '35.0', '58000.0'],\n",
       "       [\"'Spain'\", ' nan', ' 52000.0'],\n",
       "       [\"'France'\", '48.0', '79000.0'],\n",
       "       [\"'Germany'\", '50.0', '83000.0'],\n",
       "       [\"'France'\", '37.0', '67000.0']], dtype=object)"
      ]
     },
     "execution_count": 27,
     "metadata": {},
     "output_type": "execute_result"
    }
   ],
   "source": [
    "df.values[:,:-1]\n",
    "\n",
    "# 독립변수\n",
    "# -1행 제외하고 1~3행"
   ]
  },
  {
   "cell_type": "code",
   "execution_count": 29,
   "id": "6fc96700",
   "metadata": {},
   "outputs": [],
   "source": [
    "x = df.values[:,:-1]  # 독립변수 data"
   ]
  },
  {
   "cell_type": "code",
   "execution_count": 30,
   "id": "dc6057d3",
   "metadata": {},
   "outputs": [
    {
     "data": {
      "text/plain": [
       "array([\" 'No'\", \" 'Yes'\", \"'No' \", \" 'No'\", \" 'Yes'\", \" 'Yes'\", \" 'No'\",\n",
       "       \" 'Yes'\", \" 'No'\", \" 'Yes'\"], dtype=object)"
      ]
     },
     "execution_count": 30,
     "metadata": {},
     "output_type": "execute_result"
    }
   ],
   "source": [
    "df.values[:,-1]"
   ]
  },
  {
   "cell_type": "code",
   "execution_count": 31,
   "id": "26b8ccc2",
   "metadata": {},
   "outputs": [],
   "source": [
    "y = df.values[:,-1]  # 종속변수, 분류 결과값 (라벨 yes, no)"
   ]
  },
  {
   "cell_type": "code",
   "execution_count": 33,
   "id": "a0155302",
   "metadata": {},
   "outputs": [],
   "source": [
    "from sklearn.model_selection import train_test_split\n",
    "\n",
    "x_train, x_test, y_train, y_test =\\\n",
    "train_test_split(x, y, test_size=0.2, random_state=42)"
   ]
  },
  {
   "cell_type": "code",
   "execution_count": 34,
   "id": "32f63f82",
   "metadata": {},
   "outputs": [
    {
     "data": {
      "text/plain": [
       "(array([[\"'France'\", '35.0', '58000.0'],\n",
       "        [\"'France'\", '44.0', '72000.0'],\n",
       "        [\"'France'\", '48.0', '79000.0'],\n",
       "        [\"'Germany'\", '30.0', '54000.0'],\n",
       "        [\"'France'\", '37.0', '67000.0'],\n",
       "        [\"'Germany'\", '40.0', ' nan'],\n",
       "        [\"'Spain'\", '38.0', '61000.0'],\n",
       "        [\"'Spain'\", ' nan', ' 52000.0']], dtype=object),\n",
       " array([[\"'Germany'\", '50.0', '83000.0'],\n",
       "        [\"'Spain'\", '27.0', '48000.0']], dtype=object))"
      ]
     },
     "execution_count": 34,
     "metadata": {},
     "output_type": "execute_result"
    }
   ],
   "source": [
    "x_train, x_test\n",
    "\n",
    "# 8:2로 나눔 (test_size = 0.2)"
   ]
  },
  {
   "cell_type": "code",
   "execution_count": 35,
   "id": "5951a577",
   "metadata": {},
   "outputs": [
    {
     "data": {
      "text/plain": [
       "(array([\" 'Yes'\", \" 'No'\", \" 'Yes'\", \"'No' \", \" 'Yes'\", \" 'Yes'\", \" 'No'\",\n",
       "        \" 'No'\"], dtype=object),\n",
       " array([\" 'No'\", \" 'Yes'\"], dtype=object))"
      ]
     },
     "execution_count": 35,
     "metadata": {},
     "output_type": "execute_result"
    }
   ],
   "source": [
    "y_train, y_test"
   ]
  },
  {
   "cell_type": "code",
   "execution_count": 36,
   "id": "fef7a78e",
   "metadata": {},
   "outputs": [
    {
     "data": {
      "text/plain": [
       "((8, 3), (2, 3))"
      ]
     },
     "execution_count": 36,
     "metadata": {},
     "output_type": "execute_result"
    }
   ],
   "source": [
    "x_train.shape, x_test.shape"
   ]
  },
  {
   "cell_type": "code",
   "execution_count": 37,
   "id": "9f98945a",
   "metadata": {},
   "outputs": [
    {
     "data": {
      "text/plain": [
       "array([['44.0', '72000.0'],\n",
       "       ['27.0', '48000.0'],\n",
       "       ['30.0', '54000.0'],\n",
       "       ['38.0', '61000.0'],\n",
       "       ['40.0', ' nan'],\n",
       "       ['35.0', '58000.0'],\n",
       "       [' nan', ' 52000.0'],\n",
       "       ['48.0', '79000.0'],\n",
       "       ['50.0', '83000.0'],\n",
       "       ['37.0', '67000.0']], dtype=object)"
      ]
     },
     "execution_count": 37,
     "metadata": {},
     "output_type": "execute_result"
    }
   ],
   "source": [
    "x[:,1:3]"
   ]
  },
  {
   "cell_type": "code",
   "execution_count": 38,
   "id": "965578a8",
   "metadata": {},
   "outputs": [
    {
     "data": {
      "text/plain": [
       "SimpleImputer()"
      ]
     },
     "execution_count": 38,
     "metadata": {},
     "output_type": "execute_result"
    }
   ],
   "source": [
    "from sklearn.impute import SimpleImputer\n",
    "\n",
    "imp_mean = SimpleImputer(strategy='mean')  # nan >> mean 평균값으로 대치 (단순대입법)\n",
    "imp_mean.fit(x[:,1:3])\n",
    "\n",
    "# SimpleImputer()로 fitting"
   ]
  },
  {
   "cell_type": "code",
   "execution_count": 39,
   "id": "bc40773a",
   "metadata": {},
   "outputs": [],
   "source": [
    "imp_mean = imp_mean.fit(x[:,1:3])"
   ]
  },
  {
   "cell_type": "code",
   "execution_count": 40,
   "id": "662fd6e7",
   "metadata": {},
   "outputs": [],
   "source": [
    "x[:,1:3] = imp_mean.transform(x[:,1:3]) # scailing한 값으로 대체"
   ]
  },
  {
   "cell_type": "code",
   "execution_count": 41,
   "id": "e8bf4b0a",
   "metadata": {},
   "outputs": [
    {
     "data": {
      "text/plain": [
       "array([[\"'France'\", 44.0, 72000.0],\n",
       "       [\"'Spain'\", 27.0, 48000.0],\n",
       "       [\"'Germany'\", 30.0, 54000.0],\n",
       "       [\"'Spain'\", 38.0, 61000.0],\n",
       "       [\"'Germany'\", 40.0, 63777.77777777778],\n",
       "       [\"'France'\", 35.0, 58000.0],\n",
       "       [\"'Spain'\", 38.77777777777778, 52000.0],\n",
       "       [\"'France'\", 48.0, 79000.0],\n",
       "       [\"'Germany'\", 50.0, 83000.0],\n",
       "       [\"'France'\", 37.0, 67000.0]], dtype=object)"
      ]
     },
     "execution_count": 41,
     "metadata": {},
     "output_type": "execute_result"
    }
   ],
   "source": [
    "x"
   ]
  },
  {
   "cell_type": "code",
   "execution_count": 43,
   "id": "d3381bca",
   "metadata": {},
   "outputs": [
    {
     "data": {
      "text/html": [
       "<div>\n",
       "<style scoped>\n",
       "    .dataframe tbody tr th:only-of-type {\n",
       "        vertical-align: middle;\n",
       "    }\n",
       "\n",
       "    .dataframe tbody tr th {\n",
       "        vertical-align: top;\n",
       "    }\n",
       "\n",
       "    .dataframe thead th {\n",
       "        text-align: right;\n",
       "    }\n",
       "</style>\n",
       "<table border=\"1\" class=\"dataframe\">\n",
       "  <thead>\n",
       "    <tr style=\"text-align: right;\">\n",
       "      <th></th>\n",
       "      <th>0</th>\n",
       "      <th>1</th>\n",
       "    </tr>\n",
       "  </thead>\n",
       "  <tbody>\n",
       "    <tr>\n",
       "      <th>0</th>\n",
       "      <td>44.0</td>\n",
       "      <td>72000.0</td>\n",
       "    </tr>\n",
       "    <tr>\n",
       "      <th>1</th>\n",
       "      <td>27.0</td>\n",
       "      <td>48000.0</td>\n",
       "    </tr>\n",
       "    <tr>\n",
       "      <th>2</th>\n",
       "      <td>30.0</td>\n",
       "      <td>54000.0</td>\n",
       "    </tr>\n",
       "    <tr>\n",
       "      <th>3</th>\n",
       "      <td>38.0</td>\n",
       "      <td>61000.0</td>\n",
       "    </tr>\n",
       "    <tr>\n",
       "      <th>4</th>\n",
       "      <td>40.0</td>\n",
       "      <td>63777.777778</td>\n",
       "    </tr>\n",
       "    <tr>\n",
       "      <th>5</th>\n",
       "      <td>35.0</td>\n",
       "      <td>58000.0</td>\n",
       "    </tr>\n",
       "    <tr>\n",
       "      <th>6</th>\n",
       "      <td>38.777778</td>\n",
       "      <td>52000.0</td>\n",
       "    </tr>\n",
       "    <tr>\n",
       "      <th>7</th>\n",
       "      <td>48.0</td>\n",
       "      <td>79000.0</td>\n",
       "    </tr>\n",
       "    <tr>\n",
       "      <th>8</th>\n",
       "      <td>50.0</td>\n",
       "      <td>83000.0</td>\n",
       "    </tr>\n",
       "    <tr>\n",
       "      <th>9</th>\n",
       "      <td>37.0</td>\n",
       "      <td>67000.0</td>\n",
       "    </tr>\n",
       "  </tbody>\n",
       "</table>\n",
       "</div>"
      ],
      "text/plain": [
       "           0             1\n",
       "0       44.0       72000.0\n",
       "1       27.0       48000.0\n",
       "2       30.0       54000.0\n",
       "3       38.0       61000.0\n",
       "4       40.0  63777.777778\n",
       "5       35.0       58000.0\n",
       "6  38.777778       52000.0\n",
       "7       48.0       79000.0\n",
       "8       50.0       83000.0\n",
       "9       37.0       67000.0"
      ]
     },
     "execution_count": 43,
     "metadata": {},
     "output_type": "execute_result"
    }
   ],
   "source": [
    "df_tf = pd.DataFrame(x[:, 1:3])\n",
    "df_tf"
   ]
  },
  {
   "cell_type": "code",
   "execution_count": 44,
   "id": "3314b356",
   "metadata": {},
   "outputs": [
    {
     "data": {
      "text/html": [
       "<div>\n",
       "<style scoped>\n",
       "    .dataframe tbody tr th:only-of-type {\n",
       "        vertical-align: middle;\n",
       "    }\n",
       "\n",
       "    .dataframe tbody tr th {\n",
       "        vertical-align: top;\n",
       "    }\n",
       "\n",
       "    .dataframe thead th {\n",
       "        text-align: right;\n",
       "    }\n",
       "</style>\n",
       "<table border=\"1\" class=\"dataframe\">\n",
       "  <thead>\n",
       "    <tr style=\"text-align: right;\">\n",
       "      <th></th>\n",
       "      <th>0</th>\n",
       "      <th>1</th>\n",
       "    </tr>\n",
       "  </thead>\n",
       "  <tbody>\n",
       "    <tr>\n",
       "      <th>count</th>\n",
       "      <td>10.0</td>\n",
       "      <td>10.0</td>\n",
       "    </tr>\n",
       "    <tr>\n",
       "      <th>unique</th>\n",
       "      <td>10.0</td>\n",
       "      <td>10.0</td>\n",
       "    </tr>\n",
       "    <tr>\n",
       "      <th>top</th>\n",
       "      <td>44.0</td>\n",
       "      <td>72000.0</td>\n",
       "    </tr>\n",
       "    <tr>\n",
       "      <th>freq</th>\n",
       "      <td>1.0</td>\n",
       "      <td>1.0</td>\n",
       "    </tr>\n",
       "  </tbody>\n",
       "</table>\n",
       "</div>"
      ],
      "text/plain": [
       "           0        1\n",
       "count   10.0     10.0\n",
       "unique  10.0     10.0\n",
       "top     44.0  72000.0\n",
       "freq     1.0      1.0"
      ]
     },
     "execution_count": 44,
     "metadata": {},
     "output_type": "execute_result"
    }
   ],
   "source": [
    "df_tf.describe()"
   ]
  },
  {
   "cell_type": "markdown",
   "id": "6bf5aa6b",
   "metadata": {},
   "source": [
    "---------------"
   ]
  },
  {
   "cell_type": "markdown",
   "id": "f434c468",
   "metadata": {},
   "source": [
    "## Feature Scailing"
   ]
  },
  {
   "cell_type": "markdown",
   "id": "11d35974",
   "metadata": {},
   "source": [
    "### 1) 표준화 (Standardization)"
   ]
  },
  {
   "cell_type": "markdown",
   "id": "0998ad24",
   "metadata": {},
   "source": [
    "- 값의 분포를 평균이 0이고, 분산이 1인 가우시안 정규분포를 가진 값으로 변환 -> `standardScaler`\n",
    "- 경사하강법(서포트 벡터머신이나, 선형회귀, 로지스틱 회귀)에서 데이터가 정규분포를 가지고 있다고 가정\n",
    "- 하고 구현됐기 떄문에 표준화를 적용하는 것은 예측 성능 향상에 중요한 요소\n",
    "$$\n",
    "\\frac{xi-mean(x)}{stdev(x)}\\\n",
    "\\frac{X-\\mu}{\\sigma}\n",
    "$$"
   ]
  },
  {
   "cell_type": "code",
   "execution_count": 47,
   "id": "053a1366",
   "metadata": {},
   "outputs": [
    {
     "data": {
      "text/plain": [
       "array([[\"'France'\", 0.758874361590019, 0.7494732544921677],\n",
       "       [\"'Spain'\", -1.7115038793306814, -1.4381784072687531],\n",
       "       [\"'Germany'\", -1.2755547779917342, -0.8912654918285229],\n",
       "       [\"'Spain'\", -0.1130238410878753, -0.253200423814921],\n",
       "       [\"'Germany'\", 0.17760889313808945, 6.632191985654332e-16],\n",
       "       [\"'France'\", -0.5489729424268225, -0.5266568815350361],\n",
       "       [\"'Spain'\", 0.0, -1.0735697969752662],\n",
       "       [\"'France'\", 1.3401398300419485, 1.3875383225057696],\n",
       "       [\"'Germany'\", 1.6307725642679132, 1.7521469327992565],\n",
       "       [\"'France'\", -0.2583402082008577, 0.29371249162530916]],\n",
       "      dtype=object)"
      ]
     },
     "execution_count": 47,
     "metadata": {},
     "output_type": "execute_result"
    }
   ],
   "source": [
    "# 표준화 standardization\n",
    "from sklearn.preprocessing import StandardScaler\n",
    "\n",
    "sc_x = StandardScaler()\n",
    "sc_x.fit_transform(x[:,1:3])\n",
    "x[:,1:3] = sc_x.transform(x[:,1:3])\n",
    "x"
   ]
  },
  {
   "cell_type": "markdown",
   "id": "4ec2dee8",
   "metadata": {},
   "source": [
    "---------------------\n",
    "연습"
   ]
  },
  {
   "cell_type": "raw",
   "id": "dc834619",
   "metadata": {},
   "source": [
    "- fit : 정규화\n",
    "MinMax에서는 최소와 최대를 인지\n",
    "Standardscaler에서는 평균 편차를 계산\n",
    "\n",
    "- fit_transform()\n",
    "train 데이터에서 fit_transform()을 해서 모델 생성\n",
    "\n",
    "- transform()\n",
    "test 데이터에서는 새로 fit()하지 않고 transform()만 이용"
   ]
  },
  {
   "cell_type": "code",
   "execution_count": 48,
   "id": "7d54b5e8",
   "metadata": {},
   "outputs": [
    {
     "data": {
      "text/plain": [
       "array([[ 7.58874362e-01,  7.49473254e-01],\n",
       "       [-1.71150388e+00, -1.43817841e+00],\n",
       "       [-1.27555478e+00, -8.91265492e-01],\n",
       "       [-1.13023841e-01, -2.53200424e-01],\n",
       "       [ 1.77608893e-01,  2.35783334e-16],\n",
       "       [-5.48972942e-01, -5.26656882e-01],\n",
       "       [ 1.11022302e-16, -1.07356980e+00],\n",
       "       [ 1.34013983e+00,  1.38753832e+00],\n",
       "       [ 1.63077256e+00,  1.75214693e+00],\n",
       "       [-2.58340208e-01,  2.93712492e-01]])"
      ]
     },
     "execution_count": 48,
     "metadata": {},
     "output_type": "execute_result"
    }
   ],
   "source": [
    "from sklearn.preprocessing import StandardScaler\n",
    "\n",
    "sc_x = StandardScaler()\n",
    "sc_x.fit_transform(x[:,1:3])"
   ]
  },
  {
   "cell_type": "code",
   "execution_count": 49,
   "id": "818c8dfd",
   "metadata": {},
   "outputs": [
    {
     "data": {
      "text/plain": [
       "array([[\"'France'\", 0.7588743615900191, 0.7494732544921673],\n",
       "       [\"'Spain'\", -1.7115038793306812, -1.4381784072687536],\n",
       "       [\"'Germany'\", -1.2755547779917342, -0.8912654918285233],\n",
       "       [\"'Spain'\", -0.1130238410878752, -0.25320042381492147],\n",
       "       [\"'Germany'\", 0.17760889313808956, 2.357833340847479e-16],\n",
       "       [\"'France'\", -0.5489729424268224, -0.5266568815350365],\n",
       "       [\"'Spain'\", 1.1102230246251565e-16, -1.0735697969752667],\n",
       "       [\"'France'\", 1.3401398300419487, 1.3875383225057691],\n",
       "       [\"'Germany'\", 1.6307725642679132, 1.752146932799256],\n",
       "       [\"'France'\", -0.25834020820085757, 0.2937124916253087]],\n",
       "      dtype=object)"
      ]
     },
     "execution_count": 49,
     "metadata": {},
     "output_type": "execute_result"
    }
   ],
   "source": [
    "x[:,1:3] = sc_x.fit_transform(x[:,1:3])\n",
    "x"
   ]
  },
  {
   "cell_type": "markdown",
   "id": "80de42d9",
   "metadata": {},
   "source": [
    "------------------------"
   ]
  },
  {
   "cell_type": "markdown",
   "id": "c6e9ed12",
   "metadata": {},
   "source": [
    "### 2) 정규화 (Normalization)"
   ]
  },
  {
   "cell_type": "markdown",
   "id": "1e54925c",
   "metadata": {},
   "source": [
    "- 서로 다른 피처의 크기를 통일하기 위해 크기를 변환해 주는 개념 -> `MinMaxScaler`\n",
    "- 최소 0 ~ 최대 1\n",
    "- 데이터 분포가 정규 분포가 아닐 경우 적용\n",
    "-\n",
    "$\n",
    "\\frac{xi-min(x)}{max(x)-min(x)}\n",
    "$"
   ]
  },
  {
   "cell_type": "code",
   "execution_count": 51,
   "id": "65ae4fde",
   "metadata": {},
   "outputs": [
    {
     "data": {
      "text/plain": [
       "array([[\"'France'\", 0.7391304347826088, 0.6857142857142857],\n",
       "       [\"'Spain'\", 0.0, 0.0],\n",
       "       [\"'Germany'\", 0.1304347826086956, 0.17142857142857146],\n",
       "       [\"'Spain'\", 0.47826086956521746, 0.37142857142857144],\n",
       "       [\"'Germany'\", 0.5652173913043479, 0.4507936507936509],\n",
       "       [\"'France'\", 0.3478260869565217, 0.28571428571428575],\n",
       "       [\"'Spain'\", 0.5120772946859904, 0.11428571428571435],\n",
       "       [\"'France'\", 0.9130434782608698, 0.8857142857142858],\n",
       "       [\"'Germany'\", 1.0, 1.0],\n",
       "       [\"'France'\", 0.4347826086956522, 0.5428571428571428]], dtype=object)"
      ]
     },
     "execution_count": 51,
     "metadata": {},
     "output_type": "execute_result"
    }
   ],
   "source": [
    "# 정규화 min_max 최소-최대\n",
    "\n",
    "from sklearn.preprocessing import MinMaxScaler\n",
    "\n",
    "sc_x_minmax = MinMaxScaler()\n",
    "sc_x_minmax.fit_transform(x[:,1:3])\n",
    "x[:,1:3] = sc_x_minmax.fit_transform(x[:,1:3])\n",
    "x"
   ]
  },
  {
   "cell_type": "markdown",
   "id": "014885dc",
   "metadata": {},
   "source": [
    "----------------\n",
    "연습"
   ]
  },
  {
   "cell_type": "code",
   "execution_count": 52,
   "id": "bf3b2834",
   "metadata": {},
   "outputs": [
    {
     "data": {
      "text/plain": [
       "array([[0.73913043, 0.68571429],\n",
       "       [0.        , 0.        ],\n",
       "       [0.13043478, 0.17142857],\n",
       "       [0.47826087, 0.37142857],\n",
       "       [0.56521739, 0.45079365],\n",
       "       [0.34782609, 0.28571429],\n",
       "       [0.51207729, 0.11428571],\n",
       "       [0.91304348, 0.88571429],\n",
       "       [1.        , 1.        ],\n",
       "       [0.43478261, 0.54285714]])"
      ]
     },
     "execution_count": 52,
     "metadata": {},
     "output_type": "execute_result"
    }
   ],
   "source": [
    "from sklearn.preprocessing import MinMaxScaler\n",
    "\n",
    "sc_x_minmax = MinMaxScaler()\n",
    "sc_x_minmax.fit_transform(x[:,1:3])"
   ]
  },
  {
   "cell_type": "code",
   "execution_count": 53,
   "id": "b80083a3",
   "metadata": {},
   "outputs": [
    {
     "data": {
      "text/plain": [
       "array([[\"'France'\", 0.7391304347826088, 0.6857142857142857],\n",
       "       [\"'Spain'\", 0.0, 0.0],\n",
       "       [\"'Germany'\", 0.1304347826086956, 0.17142857142857146],\n",
       "       [\"'Spain'\", 0.47826086956521746, 0.37142857142857144],\n",
       "       [\"'Germany'\", 0.5652173913043479, 0.4507936507936509],\n",
       "       [\"'France'\", 0.3478260869565217, 0.28571428571428575],\n",
       "       [\"'Spain'\", 0.5120772946859904, 0.11428571428571435],\n",
       "       [\"'France'\", 0.9130434782608698, 0.8857142857142858],\n",
       "       [\"'Germany'\", 1.0, 1.0],\n",
       "       [\"'France'\", 0.4347826086956522, 0.5428571428571428]], dtype=object)"
      ]
     },
     "execution_count": 53,
     "metadata": {},
     "output_type": "execute_result"
    }
   ],
   "source": [
    "x[:,1:3] = sc_x_minmax.fit_transform(x[:,1:3])\n",
    "x"
   ]
  },
  {
   "cell_type": "markdown",
   "id": "79c8f30a",
   "metadata": {},
   "source": [
    "-------------"
   ]
  },
  {
   "cell_type": "markdown",
   "id": "b36de76a",
   "metadata": {},
   "source": [
    "## iris 데이터에 적용"
   ]
  },
  {
   "cell_type": "code",
   "execution_count": 55,
   "id": "f03e571e",
   "metadata": {},
   "outputs": [
    {
     "name": "stdout",
     "output_type": "stream",
     "text": [
      "     sepal length (cm)  sepal width (cm)  petal length (cm)  petal width (cm)\n",
      "0                  5.1               3.5                1.4               0.2\n",
      "1                  4.9               3.0                1.4               0.2\n",
      "2                  4.7               3.2                1.3               0.2\n",
      "3                  4.6               3.1                1.5               0.2\n",
      "4                  5.0               3.6                1.4               0.2\n",
      "..                 ...               ...                ...               ...\n",
      "145                6.7               3.0                5.2               2.3\n",
      "146                6.3               2.5                5.0               1.9\n",
      "147                6.5               3.0                5.2               2.0\n",
      "148                6.2               3.4                5.4               2.3\n",
      "149                5.9               3.0                5.1               1.8\n",
      "\n",
      "[150 rows x 4 columns]\n",
      "feature 들의 평균 값\n",
      "sepal length (cm)    5.843333\n",
      "sepal width (cm)     3.057333\n",
      "petal length (cm)    3.758000\n",
      "petal width (cm)     1.199333\n",
      "dtype: float64\n",
      "\n",
      "feature들의 분산 값\n",
      "sepal length (cm)    0.685694\n",
      "sepal width (cm)     0.189979\n",
      "petal length (cm)    3.116278\n",
      "petal width (cm)     0.581006\n",
      "dtype: float64\n"
     ]
    }
   ],
   "source": [
    "from sklearn.datasets import load_iris\n",
    "import pandas as pd\n",
    "import numpy as np\n",
    "\n",
    "# iris data loading\n",
    "iris = load_iris()\n",
    "iris_data = iris.data\n",
    "iris_df = pd.DataFrame(data=iris_data, columns = iris.feature_names)\n",
    "\n",
    "print(iris_df)\n",
    "print('feature 들의 평균 값')\n",
    "print(iris_df.mean())\n",
    "print('\\nfeature들의 분산 값')\n",
    "print(iris_df.var())"
   ]
  },
  {
   "cell_type": "markdown",
   "id": "9434b823",
   "metadata": {},
   "source": [
    "### iris 표준화(StandardScaler)"
   ]
  },
  {
   "cell_type": "code",
   "execution_count": null,
   "id": "3501f99f",
   "metadata": {},
   "outputs": [],
   "source": []
  }
 ],
 "metadata": {
  "kernelspec": {
   "display_name": "Python 3 (ipykernel)",
   "language": "python",
   "name": "python3"
  },
  "language_info": {
   "codemirror_mode": {
    "name": "ipython",
    "version": 3
   },
   "file_extension": ".py",
   "mimetype": "text/x-python",
   "name": "python",
   "nbconvert_exporter": "python",
   "pygments_lexer": "ipython3",
   "version": "3.9.12"
  }
 },
 "nbformat": 4,
 "nbformat_minor": 5
}
